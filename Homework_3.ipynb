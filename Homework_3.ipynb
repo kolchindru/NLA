{
  "nbformat": 4,
  "nbformat_minor": 0,
  "metadata": {
    "kernelspec": {
      "display_name": "Python 3",
      "language": "python",
      "name": "python3"
    },
    "language_info": {
      "codemirror_mode": {
        "name": "ipython",
        "version": 3
      },
      "file_extension": ".py",
      "mimetype": "text/x-python",
      "name": "python",
      "nbconvert_exporter": "python",
      "pygments_lexer": "ipython3",
      "version": "3.8.3"
    },
    "toc": {
      "base_numbering": 1,
      "nav_menu": {},
      "number_sections": true,
      "sideBar": true,
      "skip_h1_title": false,
      "title_cell": "Table of Contents",
      "title_sidebar": "Contents",
      "toc_cell": false,
      "toc_position": {},
      "toc_section_display": true,
      "toc_window_display": false
    },
    "colab": {
      "name": "Nikolay_Goncharov_PS3.ipynb",
      "provenance": [],
      "collapsed_sections": []
    }
  },
  "cells": [
    {
      "cell_type": "markdown",
      "metadata": {
        "id": "GkH9csyOGmBe"
      },
      "source": [
        "# Problem set 3 (90 pts)\n",
        "\n",
        "## Important note: the template for your solution filename is Name_Surname_PS3.ipynb"
      ]
    },
    {
      "cell_type": "markdown",
      "metadata": {
        "id": "LnoATl9cGmBe"
      },
      "source": [
        "## Problem 1 (25 pts)\n",
        "\n",
        "- (5 pts) Prove that $\\mathrm{vec}(AXB) = (B^\\top \\otimes A)\\, \\mathrm{vec}(X)$ if $\\mathrm{vec}(X)$ is a columnwise reshape of a matrix into a long vector. What does it change if the reshape is rowwise? \n",
        "\n",
        "**Note:** To make a columnwise reshape in Python one should use ```np.reshape(X, order='f')```, where the string ```'f'``` stands for the Fortran ordering. \n",
        "\n",
        "- (2 pts) What is the complexity of a naive computation of $(A \\otimes B) x$? Show how it can be reduced.\n",
        "\n",
        "- (3 pts) Let matrices $A$ and $B$ have eigendecompositions $A = S_A\\Lambda_A S_A^{-1}$ and $B = S_B\\Lambda_B S^{-1}_B$. Find eigenvectors and eigenvalues of the matrix $A\\otimes I + I \\otimes B$, where dimension of $I$ coincides with the dimension of $A$ and $B$.\n",
        "\n",
        "\n",
        "- (10 pts) Let $A = \\mathrm{diag}\\left(\\frac{1}{1000},\\frac{2}{1000},\\dots \\frac{999}{1000}, 1, 1000 \\right)$. Estimate analytically the number of iterations required  to solve linear system with $A$ with the relative accuracy $10^{-4}$ using\n",
        "    - Richardson iteration with the optimal choice of parameter (use $2$-norm)\n",
        "    - Chebyshev iteration (use $2$-norm)\n",
        "    - Conjugate gradient method (use $A$-norm).\n",
        "    \n",
        "- (5 pts) Provide numerical confirmation of your estimate from theoretical point of view"
      ]
    },
    {
      "cell_type": "markdown",
      "metadata": {
        "id": "tGquoJ94GmBf"
      },
      "source": [
        "### a)"
      ]
    },
    {
      "cell_type": "code",
      "metadata": {
        "id": "3acqTQVzHLN0"
      },
      "source": [
        "import numpy as np\n",
        "\n",
        "n = np.random.randint(low=5, high=100)\n",
        "A = np.random.rand(n, n)\n",
        "B = np.random.rand(n, n)\n",
        "X = np.random.rand(n, n)"
      ],
      "execution_count": null,
      "outputs": []
    },
    {
      "cell_type": "code",
      "metadata": {
        "id": "2wjKtjnTH-2r"
      },
      "source": [
        "vecX = np.reshape(X, n ** 2, order=\"f\")\n",
        "vecAXB = np.reshape(A @ X @ B, n ** 2, order=\"f\")"
      ],
      "execution_count": null,
      "outputs": []
    },
    {
      "cell_type": "markdown",
      "metadata": {
        "id": "UxjZElNGI-tm"
      },
      "source": [
        "Now compare the norms of left and right part of the equation:"
      ]
    },
    {
      "cell_type": "code",
      "metadata": {
        "colab": {
          "base_uri": "https://localhost:8080/"
        },
        "id": "lN75bxXeIOVK",
        "outputId": "00eb4179-0a56-48a4-bf42-c18d74f96e4d"
      },
      "source": [
        "print(f\"For n = {n} the absolute error is:\")\n",
        "np.linalg.norm(vecAXB) - np.linalg.norm(np.kron(B.T, A) @ vecX)"
      ],
      "execution_count": null,
      "outputs": [
        {
          "output_type": "stream",
          "text": [
            "For n = 50 the absolute error is:\n"
          ],
          "name": "stdout"
        },
        {
          "output_type": "execute_result",
          "data": {
            "text/plain": [
              "-1.8189894035458565e-12"
            ]
          },
          "metadata": {
            "tags": []
          },
          "execution_count": 31
        }
      ]
    },
    {
      "cell_type": "markdown",
      "metadata": {
        "id": "0p2vq2TwMEQI"
      },
      "source": [
        "In case we are reshaping the vector rowwise, we need to swap the operands in the Kroneker product: \n",
        "\n",
        "$\\mathrm{row}(AXB) = (A \\otimes B^\\top)\\, \\mathrm{row}(X)$ if $\\mathrm{row}(X)$ is a rowwise reshape of $X$"
      ]
    },
    {
      "cell_type": "code",
      "metadata": {
        "id": "G_xHlgZlKyzY"
      },
      "source": [
        "vecX = np.reshape(X, n ** 2)\n",
        "vecAXB = np.reshape(A @ X @ B, n ** 2)"
      ],
      "execution_count": null,
      "outputs": []
    },
    {
      "cell_type": "code",
      "metadata": {
        "colab": {
          "base_uri": "https://localhost:8080/"
        },
        "id": "z7z-BTr7K-Dx",
        "outputId": "9574d677-2d3d-43ae-f0e8-defb071521cf"
      },
      "source": [
        "print(f\"For n = {n} the absolute error is:\")\n",
        "np.linalg.norm(vecAXB) - np.linalg.norm(np.kron(A, B.T) @ vecX)"
      ],
      "execution_count": null,
      "outputs": [
        {
          "output_type": "stream",
          "text": [
            "For n = 50 the absolute error is:\n"
          ],
          "name": "stdout"
        },
        {
          "output_type": "execute_result",
          "data": {
            "text/plain": [
              "0.0"
            ]
          },
          "metadata": {
            "tags": []
          },
          "execution_count": 39
        }
      ]
    },
    {
      "cell_type": "markdown",
      "metadata": {
        "id": "8Ct6ruXCNAZI"
      },
      "source": [
        "### b)"
      ]
    },
    {
      "cell_type": "markdown",
      "metadata": {
        "id": "FSppuZi0Peae"
      },
      "source": [
        "Assume $A$ is $n \\times m$, $B$ is $l \\times k$, and $x$ is $mk$.\n",
        "\n",
        "For each block we need $l \\times k$ multiplications, and we need to repeat on $n \\times m$ blocks, therefore the computation complexity is $n\\times m\\times l\\times k$ multiplications. \n",
        "\n",
        "We need to add the complexity of $m^2 k^2$ multiplications, since we multiply by vector $x$. The result is $mk(mk + nl)$ multiplications.\n",
        "\n",
        "To reduce that, let's try to use this strategy:\n",
        "\n",
        "1. Make a block vector of size $mk$, which repeats the matrix $B$. This is a matrix $\\Gamma$ of size $l \\times mk$.\n",
        "2. Multiply $x$ by every row of $\\Gamma$ elementwise. This results in $lmk$ multiplications. The result matrix is $\\Gamma'$.\n",
        "3. Now repeatedly append $\\Gamma'$ to itself columnwise $n$ times.\n",
        "4. Now, multiply every block of this matrix by index-corresponding element of $A$, which is $nmlk$ multiplications.\n",
        "5. Sum all the rows.\n",
        "\n",
        "Therefore, overall we have $(n+1)mlk$ multiplications.\n"
      ]
    },
    {
      "cell_type": "markdown",
      "metadata": {
        "id": "j93Y_Qqvu_HW"
      },
      "source": [
        "### c)\n",
        "\n",
        "This expression appears to be Kronecker sum: $A \\oplus B = A\\otimes I + I \\otimes B$.\n",
        "\n",
        "Kronecker sum [has this property](https://math.stackexchange.com/questions/3600849/the-eigenvalues-of-a-specific-kronecker-sum#:~:text=The%20Kronecker%20sum%20has%20the,%3D1%2C%E2%80%A6%2Cm), that its eigenvalues are pairwaise sums of spectrums of $A$ and $B$.\n",
        "\n",
        "Let also size of $A$ is $n \\times n$, size of $B$ is $m \\times m$.\n",
        "\n",
        "Therefore (assuming $\\Lambda_{A \\oplus B}, \\Lambda_{B}, \\Lambda_{A}$ are 1D vectors and $\\Lambda_{A \\oplus B}$ is in arbitary order):\n",
        "\n",
        "$\\Lambda_{A \\oplus B} = \\lambda_{Ai} + \\lambda_{Bj}$ for $i = 1, ..., n$; $j = 1,...,m$\n",
        "\n",
        "For eigenvectors:\n",
        "\n",
        "$S_{A \\oplus B} = [s_{Ai} \\otimes s_{Bj}]$ for $i = 1, ..., n$; $j = 1,...,m$"
      ]
    },
    {
      "cell_type": "markdown",
      "metadata": {
        "id": "QMJL_B-Y8-XI"
      },
      "source": [
        "### d)"
      ]
    },
    {
      "cell_type": "markdown",
      "metadata": {
        "id": "R7gQdNJVzerp"
      },
      "source": [
        "Since those numbers will surely depend on initial guess $x_0$ and true value of $x$, let's generate them before the calculations:"
      ]
    },
    {
      "cell_type": "code",
      "metadata": {
        "id": "tCClrXAkj4zS"
      },
      "source": [
        "import numpy as np\n",
        "\n",
        "a = []\n",
        "for i in range(1, 1000):\n",
        "    a.append(i/1000)\n",
        "\n",
        "a.extend([1, 1000])\n",
        "\n",
        "A = np.zeros((1001, 1001))\n",
        "np.fill_diagonal(A, a)\n",
        "\n",
        "x0 = np.zeros(1001)\n",
        "f = np.random.rand(1001)\n",
        "x_true = np.linalg.solve(A , f)"
      ],
      "execution_count": null,
      "outputs": []
    },
    {
      "cell_type": "markdown",
      "metadata": {
        "id": "TfL346YB8_6W"
      },
      "source": [
        "**Richardson.**\n",
        "\n",
        "So we need found optimal $\\tau$.\n",
        "\n",
        "Let $k$ be the number of iterations and $q = \\frac{cond(A) - 1}{cond(A) + 1} = \\frac{10^6 - 1}{10^6 + 1} = 0.999998$. We need to satisfy:\n",
        "\n",
        "### $\\frac{||e_0||_2}{||x_{true}||_2} q^k \\geq \\frac{||e_k||_2}{||x_{true}||_2}$\n",
        "\n",
        "\n",
        "The right part is relative error. Therefore we can substitute $10^{-4}$:\n",
        "\n",
        "### $q^k \\geq \\frac{||x_{true}||_2 }{||e_0||_2} 10^{-4}$\n",
        "\n",
        "Also in every algorithm we input initial assumption $x_0$ therefore $||e_0||_2 = ||x_0 - x_{true}||_2$\n",
        "\n",
        "### $k \\lg q \\geq -4 + \\lg||x_{true}||_2 - \\lg||e_0||_2$\n",
        "\n",
        "### $k \\geq \\frac{-4 + \\lg||x_{true}||_2 - \\lg||x_0 - x_{true}||_2}{\\lg q}$"
      ]
    },
    {
      "cell_type": "code",
      "metadata": {
        "id": "wp6qSjrHzww8"
      },
      "source": [
        "x_true_norm = np.linalg.norm(x_true)\n",
        "diff_norm = np.linalg.norm(x0 - x_true)\n",
        "\n",
        "q = (10 ** 6 -1)/(10 ** 6 + 1)"
      ],
      "execution_count": null,
      "outputs": []
    },
    {
      "cell_type": "code",
      "metadata": {
        "id": "j7SokBVV0B_P"
      },
      "source": [
        "k = np.ceil((-4 + np.log10(x_true_norm) - np.log10(diff_norm)/np.log10(q)))"
      ],
      "execution_count": null,
      "outputs": []
    },
    {
      "cell_type": "markdown",
      "metadata": {
        "id": "V7DVn59u0ZF8"
      },
      "source": [
        "Co the theoretical result for the number iterations is: "
      ]
    },
    {
      "cell_type": "code",
      "metadata": {
        "colab": {
          "base_uri": "https://localhost:8080/"
        },
        "id": "_qw2utXP0NxM",
        "outputId": "8422d997-b50c-4965-a2cd-1f1b6deb329d"
      },
      "source": [
        "k"
      ],
      "execution_count": null,
      "outputs": [
        {
          "output_type": "execute_result",
          "data": {
            "text/plain": [
              "3195271.0"
            ]
          },
          "metadata": {
            "tags": []
          },
          "execution_count": 4
        }
      ]
    },
    {
      "cell_type": "markdown",
      "metadata": {
        "id": "0BzdD27FZOoN"
      },
      "source": [
        "That is a lot.\n",
        "\n",
        "Let's provide the numerical proof!"
      ]
    },
    {
      "cell_type": "code",
      "metadata": {
        "id": "pACPI3PGj7rj"
      },
      "source": [
        "def richardson_iteration(A, f, x0, error_threshold):\n",
        "    x_true = np.linalg.solve(A, f)\n",
        "    eigvals = np.linalg.eigvals(A)\n",
        "    t_opt = 2 / (np.max(eigvals) + np.min(eigvals))\n",
        "    x = x0\n",
        "    errors = []\n",
        "    i = 0\n",
        "    while True:\n",
        "      x = x - t_opt * (A @ x - f)\n",
        "      error = np.linalg.norm(x - x_true) / np.linalg.norm(x_true)\n",
        "      if error <= error_threshold:\n",
        "          break\n",
        "      errors.append(error)\n",
        "      if i % 1000 == 0:\n",
        "        print(error)\n",
        "    return x, errors"
      ],
      "execution_count": null,
      "outputs": []
    },
    {
      "cell_type": "code",
      "metadata": {
        "id": "ZYmaaOmpBwfW"
      },
      "source": [
        "rich_result, rich_errors = richardson_iteration(A, f, x0, 10e-4)"
      ],
      "execution_count": null,
      "outputs": []
    },
    {
      "cell_type": "markdown",
      "metadata": {
        "id": "v7Ta5Jnd8d3z"
      },
      "source": [
        "The practical result for iterations is:"
      ]
    },
    {
      "cell_type": "code",
      "metadata": {
        "colab": {
          "base_uri": "https://localhost:8080/"
        },
        "id": "cf2idkRoQb5a",
        "outputId": "0b692c42-7645-448a-8346-81b917ef1b67"
      },
      "source": [
        "len(rich_errors)"
      ],
      "execution_count": null,
      "outputs": [
        {
          "output_type": "execute_result",
          "data": {
            "text/plain": [
              "3064241"
            ]
          },
          "metadata": {
            "tags": []
          },
          "execution_count": 76
        }
      ]
    },
    {
      "cell_type": "markdown",
      "metadata": {
        "id": "0Nsd2q9YWI2E"
      },
      "source": [
        "**Chebyshev.**\n",
        "\n"
      ]
    },
    {
      "cell_type": "markdown",
      "metadata": {
        "id": "cYHOdDtVaXnx"
      },
      "source": [
        "Here, $q = \\frac{\\sqrt{cond(A)} - 1}{\\sqrt{cond(A)} + 1} = \\frac{10^3 - 1}{10^3 + 1} = 0.998$\n",
        "\n",
        "### $q^k \\geq \\frac{||x_{true}||_2 }{||e_0||_2 C} 10^{-4}$\n",
        "\n",
        "### $k \\geq \\frac{-4 + \\lg||x_{true}||_2 - \\lg||x_0 - x_{true}||_2}{\\lg q} - 1.002 C$\n"
      ]
    },
    {
      "cell_type": "code",
      "metadata": {
        "id": "ttcfgX8o1AJ7"
      },
      "source": [
        "q = (10 ** 3 - 1)/(10 ** 3 + 1)"
      ],
      "execution_count": null,
      "outputs": []
    },
    {
      "cell_type": "code",
      "metadata": {
        "id": "uk5UPf_i1E27"
      },
      "source": [
        "k = np.ceil((-4 + np.log10(x_true_norm) - np.log10(diff_norm)/np.log10(q)))"
      ],
      "execution_count": null,
      "outputs": []
    },
    {
      "cell_type": "markdown",
      "metadata": {
        "id": "Dd2JohQG1MHm"
      },
      "source": [
        "The theoretical result for Chebyshev iterations is (minus constant):"
      ]
    },
    {
      "cell_type": "code",
      "metadata": {
        "colab": {
          "base_uri": "https://localhost:8080/"
        },
        "id": "gW5dnp6g1Q9D",
        "outputId": "630f61cf-129a-4ca3-db68-0e3878290a1d"
      },
      "source": [
        "k"
      ],
      "execution_count": null,
      "outputs": [
        {
          "output_type": "execute_result",
          "data": {
            "text/plain": [
              "3195.0"
            ]
          },
          "metadata": {
            "tags": []
          },
          "execution_count": 15
        }
      ]
    },
    {
      "cell_type": "markdown",
      "metadata": {
        "id": "715tzANK8oMG"
      },
      "source": [
        "So now let's implement it (code from [here](https://en.wikipedia.org/wiki/Chebyshev_iteration))"
      ]
    },
    {
      "cell_type": "code",
      "metadata": {
        "id": "ULENMzyB50pw"
      },
      "source": [
        "def chebyshev_iteration(A, f, x0, error_threshold):\n",
        "    x_true = np.linalg.solve(A, f)\n",
        "    x_true_norm = np.linalg.norm(x_true)\n",
        "    eigvalues = np.linalg.eigvals(A)\n",
        "    lam_max, lam_min = np.max(eigvalues), np.min(eigvalues)\n",
        "    d = (lam_max + lam_min)/2\n",
        "    c = (lam_max - lam_min)/2\n",
        "    pre_cond = np.eye(A.shape[0])\n",
        "    x = x0\n",
        "    r = f - A @ x\n",
        "\n",
        "    i = 0\n",
        "    errors = []\n",
        "\n",
        "    while True:\n",
        "        z = np.linalg.solve(pre_cond, r)\n",
        "        if i == 0:\n",
        "            p = z\n",
        "            alpha = 1/d\n",
        "        elif i == 1:\n",
        "            beta = (1/2) * (c * alpha) ** 2\n",
        "            alpha = 1/(d - beta/alpha)\n",
        "            p = z + beta * p \n",
        "        else:\n",
        "            beta = (c * alpha/2) ** 2\n",
        "            alpha = 1/(d - beta / alpha)\n",
        "            p = z + beta * p\n",
        "        \n",
        "        x = x + alpha * p\n",
        "        r = f - A @ x\n",
        "        error = np.linalg.norm(x_true - x)/x_true_norm\n",
        "        errors.append(error)\n",
        "        if error <= error_threshold:\n",
        "            break\n",
        "        if i % 500:\n",
        "            print(error)    \n",
        "        i += 1\n",
        "    return x, errors"
      ],
      "execution_count": null,
      "outputs": []
    },
    {
      "cell_type": "code",
      "metadata": {
        "id": "GPjc-1XhUHSw"
      },
      "source": [
        "cheb_result, cheb_errors = chebyshev_iteration(A, f, x0, 1e-4)"
      ],
      "execution_count": null,
      "outputs": []
    },
    {
      "cell_type": "markdown",
      "metadata": {
        "id": "W26wvXPQ8kGm"
      },
      "source": [
        "The practical result for iterations is:"
      ]
    },
    {
      "cell_type": "code",
      "metadata": {
        "colab": {
          "base_uri": "https://localhost:8080/"
        },
        "id": "ur3hZyt-WB-l",
        "outputId": "112934bc-061c-4fc4-cd23-f9b6cd40d375"
      },
      "source": [
        "len(cheb_errors)"
      ],
      "execution_count": null,
      "outputs": [
        {
          "output_type": "execute_result",
          "data": {
            "text/plain": [
              "4835"
            ]
          },
          "metadata": {
            "tags": []
          },
          "execution_count": 20
        }
      ]
    },
    {
      "cell_type": "markdown",
      "metadata": {
        "id": "mhhlATtddKRf"
      },
      "source": [
        "**Conjugate gradient**"
      ]
    },
    {
      "cell_type": "markdown",
      "metadata": {
        "id": "-GwkorASdO83"
      },
      "source": [
        "$q \\times 2 \\geq 10^{-4}$\n",
        "\n",
        "$q^k \\geq \\frac{1}{10^4 \\times 2}$\n",
        "\n",
        "$k \\geq - \\log_q 2 - \\log_q 4$\n",
        "\n",
        "\n",
        "\n",
        "$k \\geq 172$"
      ]
    },
    {
      "cell_type": "code",
      "metadata": {
        "colab": {
          "base_uri": "https://localhost:8080/"
        },
        "id": "vssdBO_lICHF",
        "outputId": "98a50165-a984-429c-8b48-5772e29f454e"
      },
      "source": [
        "import math\n",
        "\n",
        "- math.log(2, 0.988) - math.log(4, 0.988)"
      ],
      "execution_count": null,
      "outputs": [
        {
          "output_type": "execute_result",
          "data": {
            "text/plain": [
              "172.24498235531684"
            ]
          },
          "metadata": {
            "tags": []
          },
          "execution_count": 21
        }
      ]
    },
    {
      "cell_type": "code",
      "metadata": {
        "id": "ds8KrhjRlDkU"
      },
      "source": [
        "def conjgrad(A, b, x, error_threshold):\n",
        "    r = b - np.dot(A, x)\n",
        "    p = r\n",
        "    rsold = np.dot(np.transpose(r), r)\n",
        "    i = 0\n",
        "    errors = []\n",
        "    while True:\n",
        "        Ap = np.dot(A, p)\n",
        "        alpha = rsold / np.dot(np.transpose(p), Ap)\n",
        "        x = x + np.dot(alpha, p)\n",
        "        r = r - np.dot(alpha, Ap)\n",
        "        rsnew = np.dot(np.transpose(r), r)\n",
        "        error = np.sqrt(rsnew)\n",
        "        errors.append(error)\n",
        "        if error < error_threshold:\n",
        "            break\n",
        "        p = r + (rsnew/rsold)*p\n",
        "        rsold = rsnew\n",
        "        i += \n",
        "    return x, errors"
      ],
      "execution_count": null,
      "outputs": []
    },
    {
      "cell_type": "code",
      "metadata": {
        "id": "1ZlC2U8frGW_"
      },
      "source": [
        "conj_result, conj_errors = conjgrad(A, f, x0, 1e-4)"
      ],
      "execution_count": null,
      "outputs": []
    },
    {
      "cell_type": "code",
      "metadata": {
        "colab": {
          "base_uri": "https://localhost:8080/"
        },
        "id": "Eb9i-CH5DtPZ",
        "outputId": "f10ebb5c-7667-49f4-cc78-4b8440c2306c"
      },
      "source": [
        "np.linalg.norm(A @ conj_result - f)"
      ],
      "execution_count": null,
      "outputs": [
        {
          "output_type": "execute_result",
          "data": {
            "text/plain": [
              "9.637054453693894e-05"
            ]
          },
          "metadata": {
            "tags": []
          },
          "execution_count": 10
        }
      ]
    },
    {
      "cell_type": "code",
      "metadata": {
        "colab": {
          "base_uri": "https://localhost:8080/"
        },
        "id": "XFtpLNdBYdtb",
        "outputId": "eb12d7ca-b6bb-4f78-b6f9-c24991329a15"
      },
      "source": [
        "len(conj_errors)"
      ],
      "execution_count": null,
      "outputs": [
        {
          "output_type": "execute_result",
          "data": {
            "text/plain": [
              "168"
            ]
          },
          "metadata": {
            "tags": []
          },
          "execution_count": 11
        }
      ]
    },
    {
      "cell_type": "markdown",
      "metadata": {
        "id": "sQsrdowmHpUe"
      },
      "source": [
        "This is quite close."
      ]
    },
    {
      "cell_type": "markdown",
      "metadata": {
        "id": "A21uXPBKGmBf"
      },
      "source": [
        "\n",
        "## Problem 2 (40 pts)\n",
        "\n",
        "### Spectral graph partitioning and inverse iteration\n",
        "\n",
        "\n",
        "Given connected graph $G$ and its corresponding graph Laplacian matrix $L = D - A$ with eigenvalues $0=\\lambda_1, \\lambda_2, ..., \\lambda_n$, where $D$ is its degree matrix and $A$ is its adjacency matrix, *Fiedler vector* is an eignevector correspondng to the second smallest eigenvalue $\\lambda_2$ of $L$. Fiedler vector can be used for graph partitioning: positive values correspond to the one part of a graph and negative values to another."
      ]
    },
    {
      "cell_type": "markdown",
      "metadata": {
        "id": "araf5tNnGmBf"
      },
      "source": [
        "### Inverse power method (15 pts)\n",
        "\n",
        "To find the Fiedler vector we will use the inverse iteration with adaptive shifts (Rayleigh quotient iteration). \n",
        "\n",
        "* (5 pts) Write down the orthoprojection matrix on the space orthogonal to the eigenvector of $L$, corresponding to the eigenvalue $0$ and prove (analytically) that it is indeed an orthoprojection.\n",
        " \n",
        "* (5 pts) Implement the spectral partitioning as the function ```partition```:"
      ]
    },
    {
      "cell_type": "markdown",
      "metadata": {
        "id": "kHesVgq7p8LB"
      },
      "source": [
        "### a)"
      ]
    },
    {
      "cell_type": "markdown",
      "metadata": {
        "id": "z6E0r1EXp91m"
      },
      "source": [
        "To find the egenvector corresponding to $\\lambda = 0$, we need to just solve this equation:\n",
        "\n",
        "$Lx = 0$\n",
        "\n",
        "The answer is $v_1 = [1, 1, ... 1]^T$, because the sum of all the rows of the Laplacian results in $0$. Now we need to find the subspace which is orthogonal to that vector. \n",
        "\n"
      ]
    },
    {
      "cell_type": "markdown",
      "metadata": {
        "id": "3Qeh90_SabLy"
      },
      "source": [
        "To project vector $x$ on the plane, the normal vector of which is $\\mathcal{n}$, we need to calculate this:\n",
        "\n",
        "### $p(x) = x - \\frac{xn}{||n||_2^2}n \\rightarrow P = 1 - \\frac{(n, n)}{N} = 1 - \\frac{(v_1, v_1)}{N}$\n",
        "\n",
        "### Let $J = (v_1, v_1)$ be the matrix of ones. Therefore:\n",
        "\n",
        "### $P = I - \\frac{1}{N}J$"
      ]
    },
    {
      "cell_type": "markdown",
      "metadata": {
        "id": "nb1Zh3RlRBrP"
      },
      "source": [
        "To check that $P$ is an orthoprojection, let's check $P^2 = P^{*} = P$.\n",
        "\n",
        "### 1. $P^* = P^T$ (the matrix is real)\n",
        "### 2. $P$ is symmetric, since we substitute single-entry matrix out of a symmetric matrix. Therefore $P^T = P$.\n",
        "### 3. $P^2 = I - \\frac{2}{N}J + \\frac{1}{N^2}J^2 = I - \\frac{2}{N}J + \\frac{N}{N^2}J = I - \\frac{1}{N}J$ \n",
        "(in this line we used the property of matrix of ones: $J^{k} = N^{k-1}J$)"
      ]
    },
    {
      "cell_type": "markdown",
      "metadata": {
        "id": "MQLop14MgqCt"
      },
      "source": [
        "### b)"
      ]
    },
    {
      "cell_type": "code",
      "metadata": {
        "id": "CvPglUOpsq38"
      },
      "source": [
        "import numpy as np\n",
        "from scipy.sparse import issparse, csr_matrix, linalg"
      ],
      "execution_count": 2,
      "outputs": []
    },
    {
      "cell_type": "code",
      "metadata": {
        "id": "ypno4kNvNNID"
      },
      "source": [
        "# INPUT:\n",
        "# A - adjacency matrix (scipy.sparse.csr_matrix)\n",
        "# num_iter_fix - number of iterations with fixed shift (int)\n",
        "# shift - (float number)\n",
        "# num_iter_adapt - number of iterations with adaptive shift (int) -- Rayleigh quotient iteration steps\n",
        "# x0 - initial guess (1D numpy.ndarray)\n",
        "# OUTPUT:\n",
        "# x - normalized Fiedler vector (1D numpy.ndarray)\n",
        "# eigs - eigenvalue estimations at each step (1D numpy.ndarray)\n",
        "# eps - relative tolerance (float)\n",
        "def partition(A, shift, num_iter_fix, num_iter_adapt, x0, eps):  \n",
        "    x = x0\n",
        "    eigs = []\n",
        "    n = A.shape[0]\n",
        "    P = np.eye(n) - 1/n * np.ones((n,n))\n",
        "    A = P @ A\n",
        "    i = 0\n",
        "    j = 0\n",
        "    \n",
        "    for i in range(num_iter_fix):\n",
        "        x = A @ x\n",
        "        x = x/np.linalg.norm(x)\n",
        "        \n",
        "        h2 = np.eye(np.shape(A)[0], np.shape(A)[1])\n",
        "        h1 = A - shift*h2\n",
        "        h = np.linalg.inv(h1)@x\n",
        "        u = np.linalg.norm(h)\n",
        "        x = h/u\n",
        "        x = x.T\n",
        "        \n",
        "        x1 = A @ x\n",
        "        \n",
        "        x2 = x.T@x1\n",
        "        \n",
        "        m = x2/(x.T @ x)\n",
        "        \n",
        "        if (np.linalg.norm(shift - m)/np.linalg.norm(shift)) <= eps:\n",
        "             return x, np.array(eigs)\n",
        "        else:\n",
        "            i+=1\n",
        "    \n",
        "    eigenvalue = ((x.T) @ A @ x)/(x.T @ x)\n",
        "    eigs.append(eigenvalue)\n",
        "    \n",
        "    for j in range(num_iter_adapt):\n",
        "        h2 = np.eye(np.shape(A)[0], np.shape(A)[1])\n",
        "        h1 = A - eigs[j]*h2\n",
        "        h = np.linalg.inv(h1)@x\n",
        "        u = np.linalg.norm(h)\n",
        "        x = h / u\n",
        "             \n",
        "        x = x.T\n",
        "        \n",
        "        eigenvalue = ((x.T) @ A @ x)/(x.T @ x)\n",
        "        eigs.append(eigenvalue)\n",
        "        \n",
        "        if np.linalg.norm(eigs[j] - eigs[j-1])/ np.linalg.norm(eigs[j]) <= eps:\n",
        "            return x, np.array(eigs)\n",
        "        else:\n",
        "            j+=1\n",
        "        \n",
        "    return x, np.array(eigs)"
      ],
      "execution_count": 3,
      "outputs": []
    },
    {
      "cell_type": "markdown",
      "metadata": {
        "id": "9k7PUCkOGmBf"
      },
      "source": [
        "Algorithm must halt before `num_iter_fix + num_iter_adapt` iterations if the following condition is satisfied $$ \\boxed{\\|\\lambda_k - \\lambda_{k-1}\\|_2 / \\|\\lambda_k\\|_2 \\leq \\varepsilon} \\text{ at some step } k.$$\n",
        "\n",
        "Do not forget to use the orthogonal projection from above in the iterative process to get the correct eigenvector.\n",
        "It is also a good idea to use ```shift=0``` before the adaptive stragy is used. This, however, is not possible since the matrix $L$ is singular, and sparse decompositions in ```scipy``` does not work in this case. Therefore, we first use a very small shift instead.\n",
        "\n",
        "* (3 pts) Generate a random `lollipop_graph` using `networkx` library and find its partition. [Draw](https://networkx.github.io/documentation/networkx-1.9/examples/drawing/labels_and_colors.html) this graph with vertices colored according to the partition.\n",
        "\n",
        "* (2 pts) Start the method with a random initial guess ```x0```, set ```num_iter_fix=0``` and comment why the method can converge to a wrong eigenvalue."
      ]
    },
    {
      "cell_type": "markdown",
      "metadata": {
        "id": "vswCl1rkWREw"
      },
      "source": [
        "### c)"
      ]
    },
    {
      "cell_type": "code",
      "metadata": {
        "id": "LwEovX_H7BV6"
      },
      "source": [
        "import networkx as nx\n",
        "\n",
        "n = np.random.randint(25)\n",
        "G = nx.lollipop_graph(n, n)\n",
        "\n",
        "L = nx.linalg.laplacianmatrix.laplacian_matrix(G)"
      ],
      "execution_count": 50,
      "outputs": []
    },
    {
      "cell_type": "code",
      "metadata": {
        "id": "1jGaZbNbLz7G"
      },
      "source": [
        "n = L.shape[0]"
      ],
      "execution_count": 51,
      "outputs": []
    },
    {
      "cell_type": "code",
      "metadata": {
        "id": "ZSyztvWQ7VDY"
      },
      "source": [
        "shift = 1e-4\n",
        "eps = 1e-4\n",
        "num_iter_fix = 1000\n",
        "num_iter_adapt = 1000\n",
        "\n",
        "x0 = np.random.rand(L.shape[0])"
      ],
      "execution_count": 52,
      "outputs": []
    },
    {
      "cell_type": "code",
      "metadata": {
        "id": "kwrAX1TSFFou"
      },
      "source": [
        "x, eigs = partition(L, shift, num_iter_fix, num_iter_adapt, x0, eps)"
      ],
      "execution_count": 53,
      "outputs": []
    },
    {
      "cell_type": "code",
      "metadata": {
        "colab": {
          "base_uri": "https://localhost:8080/",
          "height": 248
        },
        "id": "juIv9nlMFZs8",
        "outputId": "2fa98a24-acc2-474c-d971-ef0c92408f07"
      },
      "source": [
        "nx.draw_networkx(G, node_color=np.sign(x))"
      ],
      "execution_count": 54,
      "outputs": [
        {
          "output_type": "display_data",
          "data": {
            "image/png": "[encoded data removed]",
            "text/plain": [
              "<Figure size 432x288 with 1 Axes>"
            ]
          },
          "metadata": {
            "tags": []
          }
        }
      ]
    },
    {
      "cell_type": "markdown",
      "metadata": {
        "id": "sJ1Kh1jUWUEq"
      },
      "source": [
        "### d)"
      ]
    },
    {
      "cell_type": "code",
      "metadata": {
        "id": "U2mCHXeWWVSo"
      },
      "source": [
        "num_iter_fix = 0\n",
        "x, eigs = partition(L, shift, num_iter_fix, num_iter_adapt, x0, eps)"
      ],
      "execution_count": 55,
      "outputs": []
    },
    {
      "cell_type": "code",
      "metadata": {
        "colab": {
          "base_uri": "https://localhost:8080/",
          "height": 248
        },
        "id": "OhpxsdEJWbP-",
        "outputId": "9e738d10-5736-48e5-f994-df7d6987b413"
      },
      "source": [
        "nx.draw_networkx(G, node_color=np.sign(x))"
      ],
      "execution_count": 56,
      "outputs": [
        {
          "output_type": "display_data",
          "data": {
            "image/png": "[encoded data removed]",
            "text/plain": [
              "<Figure size 432x288 with 1 Axes>"
            ]
          },
          "metadata": {
            "tags": []
          }
        }
      ]
    },
    {
      "cell_type": "markdown",
      "metadata": {
        "id": "q60VQqurbhZv"
      },
      "source": [
        "So, as was stated, we need the shift to be rather small. So we install this fixed shift for some number iterations, because we don't know what $R(x_i)$ might be at the first iteration.\n",
        "\n",
        "In worst case, if the initial guess $Ax_0$ is orthogonal to $x_0$, the $R(x_0)$ becomes $1$, and thus $A$ is shifted by $I$, which is a lot. \n",
        "\n",
        "So, we first need to make sure that $x_{i}$ is close enough to be the eigenvector and then start Rayleigh quotient iteration."
      ]
    },
    {
      "cell_type": "markdown",
      "metadata": {
        "id": "5NkR8jxxGmBf"
      },
      "source": [
        "### Spectral graph properties (15 pts)\n",
        "\n",
        "* (5 pts) Prove that multiplicity of the eigenvalue $0$ in the spectrum of the graphs Laplacian is the number of its connected components.\n",
        "* (10 pts) The second-smallest eigenvalue of $L(G)$, $\\lambda_2(L(G))$, is often called the algebraic connectivity of the\n",
        "graph $G$. A basic intuition behind the use of this term is that a graph with a higher algebraic\n",
        "connectivity typically has more edges, and can therefore be thought of as being “more connected”.  \n",
        "To check this statement, create few graphs with equal number of vertices using `networkx`, one of them should be $C_{30}$ - simple cyclic graph, and one of them should be $K_{30}$ - complete graph. (You also can change the number of vertices if it makes sense for your experiments, but do not make it trivially small).\n",
        "    * Find the algebraic connectivity for the each graph using inverse iteration.\n",
        "    * Plot the dependency $\\lambda_2(G_i)$ on $|E_i|$.\n",
        "    * Draw a partition for a chosen graph from the generated set.\n",
        "    * Comment on the results."
      ]
    },
    {
      "cell_type": "markdown",
      "metadata": {
        "id": "wE97qV5CdFFA"
      },
      "source": [
        "### e)"
      ]
    },
    {
      "cell_type": "markdown",
      "metadata": {
        "id": "vrdSsl1hdGHq"
      },
      "source": [
        "So our graph has $n$ connected components, therefore the adjacency matrix $A$ can be block diagonal with $n$ blocks $\\rightarrow$  Laplacian $L$ also has $n$ blocks.\n",
        "\n",
        "As we found out before, matrix $L$ of a connected graph (with at least 2 vertices) has to always have eigenvalue $\\lambda = 0$ (not exactly minimal), because there is always a solution for $Lv = 0$, which is $v_1 = [1, 1, 1, ...1]^T.$\n",
        "\n",
        "Each of blocks of $L$ represents a seperate componenct of a graph, therefore all of those blocks have eigenvalue $0$.\n",
        "\n",
        "There is a theorem ([3.9](https://math.uchicago.edu/~may/REU2013/REUPapers/Marsden.pdf)) that every $d$-regular graph's zero eigenvalue has multiplicity equal to exactly to $1$, iff all the vertices have degree $d$ (in other words, they are connected).\n",
        "\n",
        "So we've got $n$ blocks, each represent a connected componenct of the graph. Multiplicity of every component's zero eigenvalue is $1$.\n",
        "\n",
        "Determinant of a diagonal block matrix is a product of determinants of all the blocks. Therefore the multiplicity of every block's zero eigenvalue distributes to the whole graph.\n",
        "\n",
        "\n"
      ]
    },
    {
      "cell_type": "markdown",
      "metadata": {
        "id": "dc2KR_Z9q9z2"
      },
      "source": [
        "### f)\n",
        "\n"
      ]
    },
    {
      "cell_type": "code",
      "metadata": {
        "id": "SpMnYP2lrQMe"
      },
      "source": [
        "import networkx as nx\n",
        "\n",
        "C30 = nx.cycle_graph(30)\n",
        "K30 = nx.complete_graph(30)"
      ],
      "execution_count": 57,
      "outputs": []
    },
    {
      "cell_type": "code",
      "metadata": {
        "id": "wwB6KqXFvwEM"
      },
      "source": [
        "L30 = nx.lollipop_graph(15, 15)\n",
        "Lad30 = nx.ladder_graph(30)"
      ],
      "execution_count": 58,
      "outputs": []
    },
    {
      "cell_type": "code",
      "metadata": {
        "id": "GJZkHPJj40f9"
      },
      "source": [
        "K10 = nx.complete_graph(10)\n",
        "K20 = nx.complete_graph(20)"
      ],
      "execution_count": 59,
      "outputs": []
    },
    {
      "cell_type": "code",
      "metadata": {
        "id": "g7Z-mTSlyIlB"
      },
      "source": [
        "while True:\n",
        "    try:    \n",
        "        x_c, eigs_c = partition(nx.linalg.laplacianmatrix.laplacian_matrix(C30), 1e-4, 1000, 1000, np.random.rand(30), 1e-4)\n",
        "        x_k, eigs_k = partition(nx.linalg.laplacianmatrix.laplacian_matrix(K30), 1e-4, 1000, 1000, np.random.rand(30), 1e-4)\n",
        "        x_k10, eigs_k10 = partition(nx.linalg.laplacianmatrix.laplacian_matrix(K10), 1e-4, 1000, 1000, np.random.rand(10), 1e-4)\n",
        "        x_k20, eigs_k20 = partition(nx.linalg.laplacianmatrix.laplacian_matrix(K20), 1e-4, 1000, 1000, np.random.rand(20), 1e-4)\n",
        "        x_l, eigs_l = partition(nx.linalg.laplacianmatrix.laplacian_matrix(L30), 1e-4, 1000, 1000, np.random.rand(30), 1e-4)\n",
        "        x_lad, eigs_lad = partition(nx.linalg.laplacianmatrix.laplacian_matrix(Lad30), 1e-4, 1000, 1000, np.random.rand(60), 1e-4)\n",
        "    except: # singular matrices sometimes generate\n",
        "        continue\n",
        "    break"
      ],
      "execution_count": 60,
      "outputs": []
    },
    {
      "cell_type": "code",
      "metadata": {
        "colab": {
          "base_uri": "https://localhost:8080/",
          "height": 432
        },
        "id": "PRTDQseV1Bkz",
        "outputId": "74e4b862-1906-48f8-8da4-9dde05a15340"
      },
      "source": [
        "import matplotlib.pyplot as plt\n",
        "\n",
        "edges = [C30.number_of_edges(), Lad30.number_of_edges(), L30.number_of_edges(), K10.number_of_edges(), K20.number_of_edges(), K30.number_of_edges()]\n",
        "eigvals = [eigs_c[-1], eigs_lad[-1], eigs_l[-1], eigs_k10[-1], eigs_k20[-1], eigs_k[-1]]\n",
        "\n",
        "lists = sorted(zip(*[edges, eigvals]))\n",
        "new_edges, new_eigvals = list(zip(*lists))\n",
        "\n",
        "plt.figure(figsize=(8,6))\n",
        "plt.plot(new_edges,new_eigvals);\n",
        "plt.ylabel(\"$\\lambda_2$\", fontsize=26)\n",
        "plt.xlabel(\"$|E_i|$\", fontsize=26)\n",
        "plt.title(\"Connection of $\\lambda_2$ and connectivity of $G$\", fontsize=20)\n",
        "plt.grid()"
      ],
      "execution_count": 61,
      "outputs": [
        {
          "output_type": "display_data",
          "data": {
            "image/png": "[encoded data removed]",
            "text/plain": [
              "<Figure size 576x432 with 1 Axes>"
            ]
          },
          "metadata": {
            "tags": [],
            "needs_background": "light"
          }
        }
      ]
    },
    {
      "cell_type": "code",
      "metadata": {
        "colab": {
          "base_uri": "https://localhost:8080/",
          "height": 248
        },
        "id": "SkAgPdlKzTwb",
        "outputId": "454dc555-b6e6-429f-e667-8e206245107e"
      },
      "source": [
        "nx.draw_networkx(L30, node_color=np.sign(x_l))"
      ],
      "execution_count": 62,
      "outputs": [
        {
          "output_type": "display_data",
          "data": {
            "image/png": "[encoded data removed]",
            "text/plain": [
              "<Figure size 432x288 with 1 Axes>"
            ]
          },
          "metadata": {
            "tags": []
          }
        }
      ]
    },
    {
      "cell_type": "markdown",
      "metadata": {
        "id": "YKcHX-Qo8s-o"
      },
      "source": [
        "The intuition works. The most connected graph is $K_{30}$ and it indeed has the largest $\\lambda_2$.  "
      ]
    },
    {
      "cell_type": "markdown",
      "metadata": {
        "id": "kyOB2JDvGmBf"
      },
      "source": [
        "### Image bipartition (10 pts)\n",
        "\n",
        "Let us deal here with a graph constructed from a binarized image.\n",
        "Consider the rule, that graph vertices are only pixels with $1$, and each vertex can have no more than $8$ connected vertices (pixel neighbours), $\\textit{i.e}$ graph degree is limited by 8.\n",
        "* (3 pts) Find an image with minimal size equal to $(256, 256)$ and binarize it such that graph built on black pixels has exactly $1$ connected component.\n",
        "* (5 pts) Write a function that constructs sparse adjacency matrix from the binarized image, taking into account the rule from above.\n",
        "* (2 pts) Find the partition of the resulting graph and draw the image in accordance with partition."
      ]
    },
    {
      "cell_type": "code",
      "metadata": {
        "colab": {
          "base_uri": "https://localhost:8080/"
        },
        "id": "RV3osUG4s5MY",
        "outputId": "aafdb5fb-95ab-4072-bbad-a709c4515174"
      },
      "source": [
        "from google.colab import drive\n",
        "drive.mount('/content/drive')"
      ],
      "execution_count": 4,
      "outputs": [
        {
          "output_type": "stream",
          "text": [
            "Drive already mounted at /content/drive; to attempt to forcibly remount, call drive.mount(\"/content/drive\", force_remount=True).\n"
          ],
          "name": "stdout"
        }
      ]
    },
    {
      "cell_type": "code",
      "metadata": {
        "colab": {
          "base_uri": "https://localhost:8080/",
          "height": 269
        },
        "id": "Acl7Hy-dBe-o",
        "outputId": "d5555221-3fc8-4f9b-e7f7-4795c1e4612e"
      },
      "source": [
        "import numpy as np\n",
        "from PIL import Image\n",
        "import networkx as nx\n",
        "import seaborn as sns\n",
        "\n",
        "img_path = \"drive/MyDrive/Colab Notebooks/2.png\"\n",
        "\n",
        "im = Image.open(img_path)\n",
        "im = im.convert(\"1\")\n",
        "im = np.array(im, dtype=\"int\")\n",
        "\n",
        "sns.heatmap(im);"
      ],
      "execution_count": 5,
      "outputs": [
        {
          "output_type": "display_data",
          "data": {
            "image/png": "[encoded data removed]",
            "text/plain": [
              "<Figure size 432x288 with 2 Axes>"
            ]
          },
          "metadata": {
            "tags": [],
            "needs_background": "light"
          }
        }
      ]
    },
    {
      "cell_type": "code",
      "metadata": {
        "id": "66J_dQozSHNc"
      },
      "source": [
        "im = np.array(im, dtype=\"int\")"
      ],
      "execution_count": 6,
      "outputs": []
    },
    {
      "cell_type": "markdown",
      "metadata": {
        "id": "sHnb0WNpSd80"
      },
      "source": [
        "I don't quite get why we need adjacency matrix for this, so I'll create a fucntion that generates a graph from the image:"
      ]
    },
    {
      "cell_type": "code",
      "metadata": {
        "id": "8g8E0lqzq__v"
      },
      "source": [
        "def graph_from_binary_image(im):\n",
        "    G = nx.Graph()\n",
        "    G.add_nodes_from(range(im.shape[0] * im.shape[1] - np.sum(im)))\n",
        "    k = 0\n",
        "    for i in range(1, im.shape[0] - 1):\n",
        "        for j in range(1, im.shape[1] - 1):\n",
        "            if im[i][j] == 1:\n",
        "                im[i][j] = 0\n",
        "                continue \n",
        "            im[i][j] = k\n",
        "            k += 1\n",
        "            neighbours = [im[i-1][j-1], im[i][j-1], im[i-1][j], im[i-1][j+1]]\n",
        "            for n in neighbours:\n",
        "                if n != 0:\n",
        "                    G.add_edge(im[i][j], n)\n",
        "    return G "
      ],
      "execution_count": 7,
      "outputs": []
    },
    {
      "cell_type": "code",
      "metadata": {
        "colab": {
          "base_uri": "https://localhost:8080/"
        },
        "id": "ZpBeuwsWrXR9",
        "outputId": "d04480df-3bc6-42dc-dbdd-351b4b41b825"
      },
      "source": [
        "G = graph_from_binary_image(im)\n",
        "L = nx.linalg.laplacianmatrix.laplacian_matrix(G)\n",
        "\n",
        "L"
      ],
      "execution_count": 8,
      "outputs": [
        {
          "output_type": "execute_result",
          "data": {
            "text/plain": [
              "<399x399 sparse matrix of type '<class 'numpy.longlong'>'\n",
              "\twith 2906 stored elements in Compressed Sparse Row format>"
            ]
          },
          "metadata": {
            "tags": []
          },
          "execution_count": 8
        }
      ]
    },
    {
      "cell_type": "code",
      "metadata": {
        "id": "ShtLOLiIycRq"
      },
      "source": [
        "x, eigs = partition(L, 1e-4, 1000, 1000, np.ones(L.shape[0]), 1e-4)"
      ],
      "execution_count": 9,
      "outputs": []
    },
    {
      "cell_type": "markdown",
      "metadata": {
        "id": "U37B7vL8ALCP"
      },
      "source": [
        "Apply the partition to our image:"
      ]
    },
    {
      "cell_type": "code",
      "metadata": {
        "id": "_ofJFs5b9Vti"
      },
      "source": [
        "k = 0\n",
        "for i in range(1, im.shape[0] - 1):\n",
        "    for j in range(1, im.shape[1] - 1):\n",
        "        if im[i][j] != 0:\n",
        "            im[i][j] = np.sign(x[k]) * 5000\n",
        "            k += 1"
      ],
      "execution_count": 10,
      "outputs": []
    },
    {
      "cell_type": "code",
      "metadata": {
        "colab": {
          "base_uri": "https://localhost:8080/",
          "height": 267
        },
        "id": "Z1PgyiS--gRQ",
        "outputId": "a75fb26b-753a-4acb-f335-f525cd037e7a"
      },
      "source": [
        "sns.heatmap(im);"
      ],
      "execution_count": 11,
      "outputs": [
        {
          "output_type": "display_data",
          "data": {
            "image/png": "[encoded data removed]",
            "text/plain": [
              "<Figure size 432x288 with 2 Axes>"
            ]
          },
          "metadata": {
            "tags": [],
            "needs_background": "light"
          }
        }
      ]
    },
    {
      "cell_type": "markdown",
      "metadata": {
        "id": "d3B-8pCnLNbm"
      },
      "source": [
        "## Problem 3 (25 pts)\n",
        "\n",
        "**Disclaimer**: this problem is released first time, so some typos can be found. "
      ]
    },
    {
      "cell_type": "markdown",
      "metadata": {
        "id": "wnaFwh6-LNbm"
      },
      "source": [
        "## Mathematical model (Navier-Stokes equations)\n",
        "\n",
        "The governing equations for two-dimensional incompressible\n",
        "flows can be written in a dimensionless form as:\n",
        "\n",
        "\\begin{equation}\\tag{1}\n",
        "\\dfrac{\\partial \\omega}{\\partial t} = \\dfrac{1}{Re} \\big(\\dfrac{\\partial^2 \\omega}{\\partial x^2} + \\dfrac{\\partial^2 \\omega}{\\partial y^2}\\big) - \\big(\\dfrac{\\partial \\psi}{\\partial y} \\dfrac{\\partial \\omega}{\\partial x} - \\dfrac{\\partial \\psi}{\\partial x} \\dfrac{\\partial \\omega}{\\partial y}\\big),\n",
        "\\end{equation}\n",
        "\n",
        "along with the kinematic relationship between vorticity $\\omega(x,y,t)$ and stream function $\\psi(x,y,t)$ according to the Poisson equation, which is given as:\n",
        "\n",
        "\\begin{equation}\\tag{2}\n",
        "\\dfrac{\\partial^2 \\psi}{\\partial x^2} + \\dfrac{\\partial^2 \\psi}{\\partial y^2} = -\\omega.\n",
        "\\end{equation}\n",
        "\n",
        "We consider equations (1) and (2) in the computational domain $\\Omega = [0, 2\\pi] \\times [0, 2\\pi]$ and impose the following periodic boundary conditions:\n",
        "\n",
        "$$\\omega(x,0,t) =\\omega(x, 2\\pi, t), \\quad \\omega(0,y,t) =\\omega(2\\pi, y, t), \\quad t \\geq 0,$$\n",
        "and the same for $\\psi(x,y,t)$.\n",
        "\n",
        "Note: the Reynolds number, referred to as $Re$, is a fundamental physical constant that in particular determines whether the fluid flow is laminar or turbulent."
      ]
    },
    {
      "cell_type": "markdown",
      "metadata": {
        "id": "G0UKj3PhLNbm"
      },
      "source": [
        "## The animation below represents a particular solution of the Navier-Stokes equations (1) and (2) and you will get it in the end of this problem\n",
        "<img src=\"vorticity_N1024_Re10000.0_tau0.001.gif\" />"
      ]
    },
    {
      "cell_type": "markdown",
      "metadata": {
        "id": "Ah9fdiBxLNbm"
      },
      "source": [
        "# Fourier-Galerkin pseudospectral method\n",
        "\n",
        "Fourier series expansion based methods are often used for solving problems with periodic boundary conditions. One of the most accurate methods for solving the Navier–Stokes equations in periodic domains is **the pseudospectral method**, which exploits the Fast Fourier Transform (FFT) algorithm. \n",
        "\n",
        "Outline: the main idea of spectral methods is to write the solution of a differential equation as a sum of certain \"basis functions\" (e.g. Fourier series, Chebyshev polynomials etc) and then to choose the coefficients in the sum in order to satisfy the differential equation as well as possible.\n",
        "\n",
        "Comprehensive survey of such methods can be found in [this book](https://depts.washington.edu/ph506/Boyd.pdf).\n",
        "\n",
        "### Discrete Fourier Transform\n",
        "\n",
        "We discretize the domain $[0,L_x]\\times[0, L_y]$ by introducing a computation **grid** consisting of $N_x \\times N_y$ equally spaced points.\n",
        "\n",
        "The discrete grid coordinates for $i = 0, 1, \\ldots, N_x$ and $j = 0, 1, \\ldots, N_y$ are given by:\n",
        "\n",
        "$$x_i = \\frac{i L_x}{N_x}, \\quad y_j = \\frac{j L_y}{N_y}.$$\n",
        "\n",
        "Note, that since the domain is periodic $x_0 = x_{N_x}$ and $y_0 = y_{N_y}$.\n",
        "\n",
        " Then, any discrete function $u_{i,j} = u(x_i,y_j)$ can be transformed to the Fourier space using the Discrete Fourier Transform (DFT):\n",
        "\n",
        "$$ \\tilde{u}_{m,n} = \\sum_{i = 0}^{N_x - 1}\\sum_{j = 0}^{N_y - 1} u_{i, j}e^{-\n",
        "\\mathbf{i}(\\frac{2\\pi m}{L_x}x_i + \\frac{2\\pi n}{L_y}y_j)},$$\n",
        "\n",
        "and its inverse transform is:\n",
        "\n",
        "$$ u_{i,j} = \\frac{1}{N_x N_y} \\sum_{m = -\\frac{N_x}{2}}^{\\frac{N_x}{2} - 1}\\sum_{n = -\\frac{N_y}{2}}^{\\frac{N_y}{2} - 1} \\tilde{u}_{m, n}e^{\\mathbf{i}(\\frac{2\\pi m}{L_x}x_i + \\frac{2\\pi n}{L_y}y_j)},$$\n",
        "\n",
        "where $i$ and $j$ represent indices for the physical space (i.e. coordinates in the introduced grid), $m$ and $n$ are indices in the Fourier space (i.e. frequencies). \n",
        "\n",
        "\n",
        "We also introduce wavenumbers:\n",
        "\n",
        "$$k_x = \\frac{2\\pi m}{L_x}, \\quad k_y = \\frac{2 \\pi n}{L_y}.$$\n",
        "\n",
        "\n",
        "**Bonus question:** how DFT coefficients $\\tilde{u}_{m,n}$ relate to coefficients in the truncated Fourier series of $u(x,y)$?"
      ]
    },
    {
      "cell_type": "markdown",
      "metadata": {
        "id": "BKdWilYKLNbm"
      },
      "source": [
        "### Differentiation\n",
        "In Fourier space we can easily perform differentiation with respect to $x$ and $y$. For example, the\n",
        "first and the second order derivatives of any function $u$ in discrete\n",
        "domain becomes:\n",
        "\n",
        "$$ \\left(\\dfrac{\\partial u}{\\partial x}\\right)_{i,j} = \\frac{1}{N_x N_y}\\sum_{m = -\\frac{N_x}{2}}^{\\frac{N_x}{2} - 1}\\sum_{n = \\frac{N_y}{2}}^{\\frac{N_y}{2} - 1} \\tilde{u}_{m, n} (\\mathbf{i}k_x) e^{\\mathbf{i}(k_x x_i + k_y y_j)}, $$\n",
        "\n",
        "$$ \\left(\\dfrac{\\partial^2 u}{\\partial x^2}\\right)_{i,j} = \\frac{1}{N_x N_y}\\sum_{m = -\\frac{N_x}{2}}^{\\frac{N_x}{2} - 1}\\sum_{n = -\\frac{N_y}{2}}^{\\frac{N_y}{2} - 1} \\tilde{u}_{m, n} (-k_x^2) e^{\\mathbf{i}(k_x x_i + k_y y_j)}, $$\n",
        "\n",
        "and similarly for the derivatives w.r.t. $y$ "
      ]
    },
    {
      "cell_type": "markdown",
      "metadata": {
        "id": "K_KVpb9-LNbm"
      },
      "source": [
        "Assume $L_x = L_y = L = 2\\pi$, $N_x = N_y = N$ for simplicity. Then, differentiation $\\frac{\\partial}{\\partial x}$ in the Fourier space can be implemented as follows:"
      ]
    },
    {
      "cell_type": "code",
      "metadata": {
        "id": "hMwgh7KHLNbm"
      },
      "source": [
        "import numpy as np\n",
        "import matplotlib.pyplot as plt"
      ],
      "execution_count": 7,
      "outputs": []
    },
    {
      "cell_type": "code",
      "metadata": {
        "id": "TNWE2W07LNbn"
      },
      "source": [
        "def dudx(u_tilde, N):\n",
        "    k1d = np.fft.fftfreq(N) * N\n",
        "    return u_tilde * (1j * k1d)"
      ],
      "execution_count": 8,
      "outputs": []
    },
    {
      "cell_type": "markdown",
      "metadata": {
        "id": "s-i4x0sFLNbn"
      },
      "source": [
        " Note, we use ```np.fft.fftfreq(N)``` to determine the order of frequencies for certain ```numpy``` implementation (see the documentation of ```numpy.fft``` module for details)."
      ]
    },
    {
      "cell_type": "markdown",
      "metadata": {
        "id": "szOCo2qELNbn"
      },
      "source": [
        "Consider the following example:"
      ]
    },
    {
      "cell_type": "code",
      "metadata": {
        "id": "r8eSqxvlLNbn"
      },
      "source": [
        "L = 2*np.pi # size of computational domain\n",
        "d = 7\n",
        "N = 2**d"
      ],
      "execution_count": 9,
      "outputs": []
    },
    {
      "cell_type": "code",
      "metadata": {
        "colab": {
          "base_uri": "https://localhost:8080/"
        },
        "id": "IYyS1OZOLNbn",
        "outputId": "45a0acc8-6f36-40f8-a34c-a429234ad24c"
      },
      "source": [
        "# discretize the domain $[0, 2\\pi] \\times [0, 2\\pi]$ with uniform grid\n",
        "\n",
        "ls = np.linspace(0, L, N, endpoint=False)\n",
        "xx, yy = np.meshgrid(ls, ls, indexing='xy')\n",
        "\n",
        "# define simple periodic function\n",
        "u = np.sin(xx) * np.sin(yy) \n",
        "\n",
        "# first, compute du/dx analytically\n",
        "u_x = np.cos(xx) * np.sin(yy) \n",
        "\n",
        "# next, compute du/dx in Fourier space\n",
        "u_tilde = np.fft.fft2(u)\n",
        "u_tilde_x = dudx(u_tilde, N)\n",
        "u_x_fourier = np.fft.ifft2(u_tilde_x)\n",
        "\n",
        "# check the result\n",
        "err = np.linalg.norm(u_x - u_x_fourier)\n",
        "print(\"error = \", err)"
      ],
      "execution_count": 10,
      "outputs": [
        {
          "output_type": "stream",
          "text": [
            "error =  5.437108258986235e-13\n"
          ],
          "name": "stdout"
        }
      ]
    },
    {
      "cell_type": "markdown",
      "metadata": {
        "id": "o_fbUD3fLNbo"
      },
      "source": [
        "- (5 pts) Similarly with the implementation of ```dudx(u_tilde, N)``` given above, your first task is to implement other derivatives arising in the Navier-Stokes equtions (1), (2). Loops are prohibited!"
      ]
    },
    {
      "cell_type": "code",
      "metadata": {
        "id": "W2O1PrM3cS_k"
      },
      "source": [
        "k1d = np.fft.fftfreq(N) * N"
      ],
      "execution_count": 11,
      "outputs": []
    },
    {
      "cell_type": "code",
      "metadata": {
        "id": "8_iqf5UILNbo"
      },
      "source": [
        "def dudy(u_tilde, N):\n",
        "    k1d = np.fft.fftfreq(N) * N\n",
        "    return (u_tilde.T * (1j * k1d)).T\n",
        "\n",
        "def d2udx2(u_tilde, N):\n",
        "    return dudx(dudx(u_tilde, N), N)\n",
        " \n",
        "def d2udy2(u_tilde, N):\n",
        "    return dudy(dudy(u_tilde, N), N)"
      ],
      "execution_count": 12,
      "outputs": []
    },
    {
      "cell_type": "code",
      "metadata": {
        "colab": {
          "base_uri": "https://localhost:8080/"
        },
        "id": "hHWDTnEIdgnS",
        "outputId": "d106a60a-5361-4fcb-8b77-b23c180e4ce6"
      },
      "source": [
        "u_y = np.sin(xx) * np.cos(yy)\n",
        "u_yy = u_xx = - np.sin(xx) * np.sin(yy)\n",
        "\n",
        "u_tilde_y = dudy(u_tilde, N)\n",
        "u_y_fourier = np.fft.ifft2(u_tilde_y)\n",
        "\n",
        "# check the result\n",
        "err = np.linalg.norm(u_y - u_y_fourier)\n",
        "print(\"dudy error = \", err)\n",
        "\n",
        "u_tilde_xx = d2udx2(u_tilde, N)\n",
        "u_xx_fourier = np.fft.ifft2(u_tilde_xx)\n",
        "\n",
        "# check the result\n",
        "err = np.linalg.norm(u_xx - u_xx_fourier)\n",
        "print(\"d2udx2 error = \", err)\n",
        "\n",
        "u_tilde_yy = d2udy2(u_tilde, N)\n",
        "u_yy_fourier = np.fft.ifft2(u_tilde_yy)\n",
        "\n",
        "# check the result\n",
        "err = np.linalg.norm(u_yy - u_yy_fourier)\n",
        "print(\"d2udy2 error = \", err)"
      ],
      "execution_count": 13,
      "outputs": [
        {
          "output_type": "stream",
          "text": [
            "dudy error =  5.732941215084312e-13\n",
            "d2udx2 error =  2.6877607115046932e-11\n",
            "d2udy2 error =  2.7122851991344053e-11\n"
          ],
          "name": "stdout"
        }
      ]
    },
    {
      "cell_type": "markdown",
      "metadata": {
        "id": "SOwtcSntLNbo"
      },
      "source": [
        "### Navier-Stokes equations in the Fourier space\n",
        "\n",
        "After transforming Eq. (1) and Eq. (2) to the Fourier space, the governing equations become:\n",
        "\n",
        "\\begin{equation}\\tag{3}\n",
        "\\frac{\\partial \\tilde{\\omega}_{m,n}}{\\partial t} = \\frac{1}{Re}[(-k_x^2 - k_y^2)\\tilde{\\omega}_{m,n}] - \\tilde{N},\n",
        "\\end{equation}\n",
        "\n",
        "\\begin{equation}\\tag{4}\n",
        "(-k_x^2 - k_y^2)\\tilde{\\psi}_{m,n} = -\\tilde{\\omega}_{m,n},\n",
        "\\end{equation}\n",
        "\n",
        "where $\\tilde{N}$ represents the non-linear term which is computed using 2D convolutions as follows:\n",
        "\n",
        "$$\\tilde{N} = (\\mathbf{i}k_y \\tilde{\\psi}_{m,n}) \\circ (\\mathbf{i}k_x \\tilde{\\omega}_{m,n}) - (\\mathbf{i}k_x \\tilde{\\psi}_{m,n}) \\circ (\\mathbf{i}k_y \\tilde{\\omega}_{m,n}),$$\n",
        "\n",
        "i.e. multiplications in physical space become convolutions in the Fourier space.\n",
        "\n",
        "To clarify where these convolutions come from, consider two discrete functions $u$ and $v$ represented by their DFT (1D for simplicity):\n",
        "\n",
        "$$ u_{i} = \\frac{1}{N_x} \\sum_{m = -\\frac{N_x}{2}}^{\\frac{N_x}{2} - 1} \\tilde{u}_{m}e^{\\mathbf{i}\\frac{2\\pi m}{L_x}x_i},$$\n",
        "\n",
        "$$ v_{i} = \\frac{1}{N_x} \\sum_{n = -\\frac{N_x}{2}}^{\\frac{N_x}{2} - 1}\\tilde{v}_{n}e^{\\mathbf{i}\\frac{2\\pi n}{L_x}x_i}.$$\n",
        "\n",
        "Then, the direct multiplication results in:\n",
        "$$ u_{i} v_{i} = \\frac{1}{N_x} \\sum_{k = -N_x}^{N_x - 2} \\frac{1}{N_x}\\tilde{w}_{k}e^{\\mathbf{i}\\frac{2\\pi k}{L_x}x_i},$$\n",
        "where the coefficients $\\tilde{\\omega}_k$ are computed as follows (check it!):\n",
        "\n",
        "$$\\tilde{w}_{k} = \\sum_{m + n = k}\\tilde{u}_m\\tilde{v}_n.$$\n"
      ]
    },
    {
      "cell_type": "markdown",
      "metadata": {
        "id": "X53g1Axh9z8J"
      },
      "source": [
        "Below we provide a possible implementation of 2D convolution using ```scipy.signal``` module. Note, that *full* convolution introduces higher frequinces that should be truncated in a proper way."
      ]
    },
    {
      "cell_type": "code",
      "metadata": {
        "id": "IGeVEBOaKyWU"
      },
      "source": [
        "import numpy as np"
      ],
      "execution_count": 14,
      "outputs": []
    },
    {
      "cell_type": "code",
      "metadata": {
        "id": "U7eNRddgxAEX"
      },
      "source": [
        "from scipy import signal\n",
        "\n",
        "def conv2d_scipy(u_tilde, v_tilde, N):\n",
        "    # np.fft.fftshift is used to align implementation and formulas\n",
        "    full_conv = signal.convolve(np.fft.fftshift(u_tilde),\\\n",
        "                              np.fft.fftshift(v_tilde), mode='full')\n",
        "    trunc_conv = full_conv[N//2:-N//2+1, N//2:-N//2+1]\n",
        "    return np.fft.ifftshift(trunc_conv)/(N*N)\n"
      ],
      "execution_count": 15,
      "outputs": []
    },
    {
      "cell_type": "markdown",
      "metadata": {
        "id": "_IAxdiWzLNbo"
      },
      "source": [
        "(10 pts) Your second task is to implement the same 2D convolution but using the *Convolution Theorem* in this time.\n",
        "\n",
        "\n",
        " \n",
        " Hint:  From the lecture course you should know that applying *Convolution Theorem* is straightforward when computing **circular** (or periodic) convolutions. However, for this task you should use an appropriate zero-padding by a factor of two (with further truncation)."
      ]
    },
    {
      "cell_type": "markdown",
      "metadata": {
        "id": "Gb9-fI79ociC"
      },
      "source": [
        "So the size of the convolution of two $2D$ matrices of sizes $N \\times M$ and $K \\times L$ is $S \\times P$, where $S = N + M - 1, P = K + L - 1$.\n",
        "\n",
        "Therefore, we need to expand both vectors to the size $S \\times P$ using zero paddings, and then compute the convolution using Fourier transform."
      ]
    },
    {
      "cell_type": "code",
      "metadata": {
        "id": "7bTYKIdXLNbo"
      },
      "source": [
        "def conv2d(u_tilde, v_tilde, N):\n",
        "    l = u_tilde.shape[0]\n",
        "    k = u_tilde.shape[1]\n",
        "\n",
        "    u_tilde = np.pad(np.fft.fftshift(u_tilde), ((0, l-1), (0, k-1)), 'constant', constant_values=(0, 0))\n",
        "    v_tilde = np.pad(np.fft.fftshift(v_tilde), ((0, l-1), (0, k-1)), 'constant', constant_values=(0, 0))\n",
        "\n",
        "    conv_theorem = np.fft.fft2(u_tilde)*np.fft.fft2(v_tilde)\n",
        "\n",
        "    full_conv = np.fft.ifft2(conv_theorem)\n",
        "    trunc_conv = full_conv[N//2:-N//2+1, N//2:-N//2+1]\n",
        "\n",
        "    return np.fft.ifftshift(trunc_conv)/(N*N)"
      ],
      "execution_count": 16,
      "outputs": []
    },
    {
      "cell_type": "code",
      "metadata": {
        "id": "8UNflW9B7Nfc",
        "colab": {
          "base_uri": "https://localhost:8080/"
        },
        "outputId": "3bb02ed7-e22a-47a5-dd49-088a60881e13"
      },
      "source": [
        "# check yourself\n",
        "\n",
        "u_tilde = np.random.rand(N, N)\n",
        "v_tilde = np.random.rand(N, N)\n",
        "\n",
        "err = np.linalg.norm(conv2d(u_tilde, v_tilde, N) - conv2d_scipy(u_tilde, v_tilde, N))\n",
        "print(\"error =\", err) # should be close to machine precision"
      ],
      "execution_count": 17,
      "outputs": [
        {
          "output_type": "stream",
          "text": [
            "error = 4.591850248651352e-15\n"
          ],
          "name": "stdout"
        }
      ]
    },
    {
      "cell_type": "markdown",
      "metadata": {
        "id": "StUuTtmZLNbp"
      },
      "source": [
        "**Poisson solver**\n",
        "\n",
        "Finally, we need to solve the Poisson equation Eq. (2) which can be easily computed in the Fourier space according to the Eq. (4).\n"
      ]
    },
    {
      "cell_type": "markdown",
      "metadata": {
        "id": "qbeHRb9_LNbp"
      },
      "source": [
        "(5 pts) Implement inverse of the laplacian operator according to the template provided below. Note: the laplacian operator with periodic boundary conditions is singular (since the constant function is in nullspace). So, in order to avoid division by zero:\n",
        "1. Assume the problem is always consistent (i.e. $\\tilde{\\omega}_{0,0} = 0$), \n",
        "2. Assume $\\tilde{\\psi}_{0,0} = 0$ (i.e. return normal solution). Loops are prohibited!"
      ]
    },
    {
      "cell_type": "code",
      "metadata": {
        "id": "QuHidp2VLNbp"
      },
      "source": [
        "def laplace_inverse(omega_tilde, N):\n",
        "    k1d = np.fft.fftfreq(N) * N\n",
        "    k1d[k1d == 0] = 1 # just some random number to divide zero by \n",
        "\n",
        "    psi_tilde = omega_tilde/(k1d ** 2 + (k1d ** 2).T)\n",
        "    return psi_tilde"
      ],
      "execution_count": 18,
      "outputs": []
    },
    {
      "cell_type": "code",
      "metadata": {
        "colab": {
          "base_uri": "https://localhost:8080/"
        },
        "id": "RPdfcex2LNbp",
        "outputId": "ea18c7e6-e0c3-48e6-8841-24df5fdb72f2"
      },
      "source": [
        "# check yourself\n",
        "\n",
        "# consider simple solution\n",
        "sol_analytic = np.sin(xx)*np.sin(yy)\n",
        "\n",
        "# compute corresponding right hand side analytically\n",
        "rhs = 2*np.sin(xx)*np.sin(yy)\n",
        "\n",
        "# solve Poisson problem in Fourier space\n",
        "rhs_tilde = np.fft.fft2(rhs)\n",
        "sol_tilde = laplace_inverse(rhs_tilde, N)\n",
        "sol = np.fft.ifft2(sol_tilde)\n",
        "\n",
        "# check error is small\n",
        "err = np.linalg.norm(sol - sol_analytic)\n",
        "print(\"error =\", err)"
      ],
      "execution_count": 19,
      "outputs": [
        {
          "output_type": "stream",
          "text": [
            "error = 1.7272706435290832e-14\n"
          ],
          "name": "stdout"
        }
      ]
    },
    {
      "cell_type": "markdown",
      "metadata": {
        "id": "RTxV3rB1LNbp"
      },
      "source": [
        "**Time integration**\n",
        "\n",
        "Eqs. (3) and (4) can be considered as semi-discrete ordinary differential equations (ODEs) obtained after (spectral) spatial discretization of the partial differential equations (1) and (2):\n",
        "\n",
        "\\begin{equation}\\tag{5}\n",
        "\\frac{d \\tilde{\\omega}}{dt} = \\mathcal{L}(\\tilde{\\omega}, \\tilde{\\psi}),\n",
        "\\end{equation}\n",
        "\n",
        "where $\\mathcal{L}( \\tilde{\\omega} , \\tilde{\\psi})$ is the discrete operator of spatial derivatives including non-linear convective terms, linear diffusive terms, and $\\tilde{\\psi}$ which is obtained from the Poisson equation (4)."
      ]
    },
    {
      "cell_type": "markdown",
      "metadata": {
        "id": "ClUFyKUNLNbp"
      },
      "source": [
        "(5 pts) Implement $\\mathcal{L}$ according to the template provided below"
      ]
    },
    {
      "cell_type": "code",
      "metadata": {
        "id": "6RJPSno0LNbp"
      },
      "source": [
        "def L_op(omega_tilde, psi_tilde, N, Re=1):\n",
        "    k1d = np.fft.fftfreq(N) * N\n",
        "    result = 1/Re * ((-k1d **2 - k1d.T ** 2) * omega_tilde)\n",
        "    N_tilde = conv2d(1j * k1d.T * psi_tilde, 1j * k1d * omega_tilde, N) - conv2d(1j * k1d * psi_tilde, 1j * k1d.T * omega_tilde, N)\n",
        "    return result - N_tilde"
      ],
      "execution_count": 20,
      "outputs": []
    },
    {
      "cell_type": "markdown",
      "metadata": {
        "id": "hEFXzm_sLNbp"
      },
      "source": [
        "We integrate in time using fourth-order Runge–Kutta scheme that can be written in the following form:\n",
        "\n",
        "$$\\tilde{\\omega}^{(1)} = \\tilde{\\omega}^{n} + \\frac{\\Delta t}{2}\\mathcal{L}(\\tilde{\\omega}^{n}, \\tilde{\\psi}^{n})$$\n",
        "\n",
        "$$\\tilde{\\omega}^{(2)} = \\tilde{\\omega}^{n} + \\frac{\\Delta t}{2}\\mathcal{L}(\\tilde{\\omega}^{(1)}, \\tilde{\\psi}^{(1)})$$\n",
        "\n",
        "$$\\tilde{\\omega}^{(3)} = \\tilde{\\omega}^{n} + \\Delta t\\mathcal{L}(\\tilde{\\omega}^{(2)}, \\tilde{\\psi}^{(2)})$$\n",
        "\n",
        "$$\\tilde{\\omega}^{n+1} = \\frac{1}{3}(-\\tilde{\\omega}^{n} + \\tilde{\\omega}^{(1)} + 2\\tilde{\\omega}^{(2)} + \\tilde{\\omega}^{(3)}) + \\frac{\\Delta t}{6}\\mathcal{L}(\\tilde{\\omega}^{3}, \\tilde{\\psi}^{3})$$\n",
        "\n"
      ]
    },
    {
      "cell_type": "code",
      "metadata": {
        "id": "mprhIsHqDclg"
      },
      "source": [
        "def integrate_runge_kutta(omega0_tilde, N, n_steps, tau, Re):\n",
        "    omega_prev = omega0_tilde\n",
        "    psi_prev = laplace_inverse(-omega_prev, N)\n",
        "    for step in range(n_steps):\n",
        "        if(step%100 == 0):\n",
        "            print(step)\n",
        "        omega_1 = omega_prev + (tau/2)*L_op(omega_prev, psi_prev, N, Re)\n",
        "        psi_1 = -laplace_inverse(omega_1, N)\n",
        "\n",
        "        omega_2 = omega_prev + (tau/2)*L_op(omega_1, psi_1, N, Re)\n",
        "        psi_2 = -laplace_inverse(omega_2, N)\n",
        "\n",
        "        omega_3 = omega_prev + tau*L_op(omega_2, psi_2, N, Re)\n",
        "        psi_3 = -laplace_inverse(omega_3, N)\n",
        "\n",
        "        omega_next = (1./3)*(-omega_prev + omega_1 + 2*omega_2 + omega_3) + (tau/6)*L_op(omega_3, psi_3, N, Re)\n",
        "        psi_next = -laplace_inverse(omega_next, N)\n",
        "\n",
        "        omega_prev = omega_next\n",
        "        psi_prev = psi_next\n",
        "    return omega_prev"
      ],
      "execution_count": 21,
      "outputs": []
    },
    {
      "cell_type": "markdown",
      "metadata": {
        "id": "WVKZWf75PXfT"
      },
      "source": [
        "### Validation with analytical solution\n",
        "\n",
        "We first consider the Taylor-Green vortex (known analytical solution of the Navier-Stokes equations) to validate our solver:"
      ]
    },
    {
      "cell_type": "code",
      "metadata": {
        "id": "9w-D3m0NLNbp"
      },
      "source": [
        "# Taylor-Green vortex -- analytical solution for validation purposes\n",
        "\n",
        "def taylor_green_vortex(xx, yy, t, N, Re):\n",
        "    k = 3\n",
        "    omega = 2*k*np.cos(k*xx)*np.cos(k*yy)*np.exp(-2*k**2*t*(1/Re))\n",
        "    return omega"
      ],
      "execution_count": 22,
      "outputs": []
    },
    {
      "cell_type": "code",
      "metadata": {
        "colab": {
          "base_uri": "https://localhost:8080/"
        },
        "id": "EU1B6MJNFOUP",
        "outputId": "6423c568-66de-4928-d863-3771815f5c28"
      },
      "source": [
        "\n",
        "Re = 1000\n",
        "tau = 1e-2 # timestep\n",
        "n_steps = 100\n",
        "T = tau * n_steps # finial time\n",
        "\n",
        "omega0 = taylor_green_vortex(xx, yy, 0, N, Re) # initial vorticity\n",
        "omega0_tilde = np.fft.fft2(omega0) # convert to the Fourier space\n",
        "omegaT_tilde = integrate_runge_kutta(omega0_tilde, N, n_steps, tau, Re) # integrate in time in the Fourier space\n",
        "omegaT = np.real(np.fft.ifft2(omegaT_tilde)) # return back to physical space"
      ],
      "execution_count": 23,
      "outputs": [
        {
          "output_type": "stream",
          "text": [
            "0\n"
          ],
          "name": "stdout"
        }
      ]
    },
    {
      "cell_type": "code",
      "metadata": {
        "colab": {
          "base_uri": "https://localhost:8080/"
        },
        "id": "DVuBWU0KJ7ht",
        "outputId": "21dbc3f2-46f4-4fcd-eb7f-e7516d8e8311"
      },
      "source": [
        "# check the error is small\n",
        "\n",
        "omegaT_analytical = taylor_green_vortex(xx, yy, T, N, Re) \n",
        "err = np.linalg.norm(omegaT_analytical - omegaT)\n",
        "print(\"error =\", err)"
      ],
      "execution_count": 24,
      "outputs": [
        {
          "output_type": "stream",
          "text": [
            "error = 2.2647475808496882e-12\n"
          ],
          "name": "stdout"
        }
      ]
    },
    {
      "cell_type": "markdown",
      "metadata": {
        "id": "R6L9qInoONrh"
      },
      "source": [
        "### Shear layer problem\n",
        "\n",
        "Finaly, we consider another (more interesting) initial vorticity that gives the dynamic from the GIF in the beginning of this problem."
      ]
    },
    {
      "cell_type": "code",
      "metadata": {
        "id": "RvPTLSBBFTWy"
      },
      "source": [
        "# intial condition that evolves like a vortex\n",
        "\n",
        "def shear_layer0(xx, yy, N):\n",
        "    delta = 0.05\n",
        "    sigma = 15/np.pi\n",
        "    a = delta*np.cos(yy[:, :N//2]) - sigma*(np.cosh(sigma*(xx[:, :N//2] - np.pi/2)))**(-2)\n",
        "    b = delta*np.cos(yy[:, N//2:]) + sigma*(np.cosh(sigma*(3*np.pi/2 - xx[:, N//2:])))**(-2)\n",
        "    return np.concatenate((a, b), axis=1)"
      ],
      "execution_count": 25,
      "outputs": []
    },
    {
      "cell_type": "code",
      "metadata": {
        "colab": {
          "base_uri": "https://localhost:8080/"
        },
        "id": "5o0pb_glFdiB",
        "outputId": "8d34f4c7-1efa-4c52-9b72-35c8fb4ff69e"
      },
      "source": [
        "Re = 10000\n",
        "tau = 1e-3 # timestep\n",
        "n_steps = 10000\n",
        "T = tau * n_steps # finial time\n",
        "\n",
        "omega0 = shear_layer0(xx, yy, N) # initial vorticity\n",
        "omega0_tilde = np.fft.fft2(omega0) # convert to the Fourier space\n",
        "omegaT_tilde = integrate_runge_kutta(omega0_tilde, N, n_steps, tau, Re) # integrate in time in the Fourier space\n",
        "omegaT = np.real(np.fft.ifft2(omegaT_tilde)) # return back to physical space"
      ],
      "execution_count": 26,
      "outputs": [
        {
          "output_type": "stream",
          "text": [
            "0\n",
            "100\n",
            "200\n",
            "300\n",
            "400\n",
            "500\n",
            "600\n",
            "700\n",
            "800\n",
            "900\n",
            "1000\n",
            "1100\n",
            "1200\n",
            "1300\n",
            "1400\n",
            "1500\n",
            "1600\n",
            "1700\n",
            "1800\n",
            "1900\n",
            "2000\n",
            "2100\n",
            "2200\n",
            "2300\n",
            "2400\n",
            "2500\n",
            "2600\n",
            "2700\n",
            "2800\n",
            "2900\n",
            "3000\n",
            "3100\n",
            "3200\n",
            "3300\n",
            "3400\n",
            "3500\n",
            "3600\n",
            "3700\n",
            "3800\n",
            "3900\n",
            "4000\n",
            "4100\n",
            "4200\n",
            "4300\n",
            "4400\n",
            "4500\n",
            "4600\n",
            "4700\n",
            "4800\n",
            "4900\n",
            "5000\n",
            "5100\n",
            "5200\n",
            "5300\n",
            "5400\n",
            "5500\n",
            "5600\n",
            "5700\n",
            "5800\n",
            "5900\n",
            "6000\n",
            "6100\n",
            "6200\n",
            "6300\n",
            "6400\n",
            "6500\n",
            "6600\n",
            "6700\n",
            "6800\n",
            "6900\n",
            "7000\n",
            "7100\n",
            "7200\n",
            "7300\n",
            "7400\n",
            "7500\n",
            "7600\n",
            "7700\n",
            "7800\n",
            "7900\n",
            "8000\n",
            "8100\n",
            "8200\n",
            "8300\n",
            "8400\n",
            "8500\n",
            "8600\n",
            "8700\n",
            "8800\n",
            "8900\n",
            "9000\n",
            "9100\n",
            "9200\n",
            "9300\n",
            "9400\n",
            "9500\n",
            "9600\n",
            "9700\n",
            "9800\n",
            "9900\n"
          ],
          "name": "stdout"
        }
      ]
    },
    {
      "cell_type": "code",
      "metadata": {
        "colab": {
          "base_uri": "https://localhost:8080/",
          "height": 285
        },
        "id": "oYoqeLYmLNbp",
        "outputId": "4b1ceee1-8db1-4d63-cc6d-340b241d8e42"
      },
      "source": [
        "# plot the solution at the final timestamp\n",
        "\n",
        "plt.imshow(np.real(np.fft.ifft2(omegaT_tilde)), cmap='jet')"
      ],
      "execution_count": 27,
      "outputs": [
        {
          "output_type": "execute_result",
          "data": {
            "text/plain": [
              "<matplotlib.image.AxesImage at 0x7fcb55dd1630>"
            ]
          },
          "metadata": {
            "tags": []
          },
          "execution_count": 27
        },
        {
          "output_type": "display_data",
          "data": {
            "image/png": "[encoded data removed]",
            "text/plain": [
              "<Figure size 432x288 with 1 Axes>"
            ]
          },
          "metadata": {
            "tags": [],
            "needs_background": "light"
          }
        }
      ]
    },
    {
      "cell_type": "markdown",
      "metadata": {
        "id": "1rMnQjAjW8O0"
      },
      "source": [
        "It is unclear why, but the vorticity is abscent. I didn't manage to find any error from my part, especially considering all the tests are passed."
      ]
    }
  ]
}