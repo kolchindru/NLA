{
 "cells": [
  {
   "cell_type": "markdown",
   "metadata": {
    "id": "VExuIJGUpQcQ"
   },
   "source": [
    "# Problem Set 1 (93 points) "
   ]
  },
  {
   "cell_type": "markdown",
   "metadata": {
    "id": "jhhv0FTppQcR"
   },
   "source": [
    "## Important information\n",
    "We provide signatures of the functions that you have to implement. Make sure you follow the signatures defined, otherwise your coding solutions will not be graded."
   ]
  },
  {
   "cell_type": "markdown",
   "metadata": {
    "id": "1oOhCXwRpQcS"
   },
   "source": [
    "# Problem 1 (Theoretical tasks)  (36 pts)\n",
    "\n",
    "_1._\n",
    "- (1 pts) what are the constants $C_1$ and $C_2$ such that $C_1 \\|x\\|_{2} \\leq \\|x\\|_{\\infty} \\leq C_2 \\| x\\|_{2}$ for any vector $x$\n",
    "- (5 pts) Prove that $\\| U A \\|_F = \\| A U \\|_F = \\| A \\|_F$ for any unitary matrix $U$.\n",
    "- (5 pts) Prove that $\\| U A \\|_2 = \\| A U \\|_2 = \\| A \\|_2$ for any unitary matrix $U$.\n",
    "  \n",
    "_2._\n",
    "- (5 pts) Using the results from the previous subproblem, prove that $\\| A \\|_F \\le \\sqrt{\\mathrm{rank}(A)} \\| A \\|_2$. _Hint:_ SVD will help you.\n",
    "- (5 pts) Show that for any $m, n$ and $k \\le \\min(m, n)$ there exists $A \\in \\mathbb{R}^{m \\times n}: \\mathrm{rank}(A) = k$, such that $\\| A \\|_F = \\sqrt{\\mathrm{rank}(A)} \\| A \\|_2$. In other words, show that the previous inequality is not strict.\n",
    "- (5 pts) Prove that if $\\mathrm{rank}(A) = 1$, then $\\| A \\|_F  = \\| A \\|_2$.\n",
    "- (5 pts) Prove that $\\| A B \\|_F \\le \\| A \\|_2 \\| B \\|_F$.\n",
    "\n",
    "_3._\n",
    "\n",
    "- (2 pts) Let $U \\in \\mathbb{C}^{n \\times k}, k < n$ be a matrix so that $U^*U = I_k$. \n",
    "Find a pseudoinverse of $UU^*$\n",
    "- (3 pts) Compute SVD of the matrix analytically, i.e. provide the analytical expression for every natural $n$ \n",
    "\n",
    "$$\n",
    "A = \\begin{bmatrix}\n",
    "1\\\\\n",
    "\\sqrt{3}\\\\\n",
    "\\sqrt{5}\\\\\n",
    "\\vdots\\\\\n",
    "\\sqrt{2n-1}\n",
    "\\end{bmatrix}\n",
    "\\begin{bmatrix}\n",
    "-1 & 1 & -1 & \\ldots & (-1)^{n}\n",
    "\\end{bmatrix}\n",
    "$$"
   ]
  },
  {
   "cell_type": "markdown",
   "metadata": {
    "id": "RUtV0rmHpQcT"
   },
   "source": [
    "## 1.\n",
    "### a)\n",
    "If $x$ has only 1 non-zero element, $||x||_\\infty = ||x||_2$, otherwise $||x||_\\infty$ never reaches $||x||_2$, because of the Pythagorean theorem. Therefore, we can set $C_2 = 1$. \n",
    "\n",
    "The edge case is if all elements of $x$ are equal, then $||x||_2 = \\sqrt{n||x||_\\infty^2}= \\sqrt{n}||x||_\\infty$ => the lower bond is\n",
    "$C_1 = 1/\\sqrt{n}$\n",
    "\n",
    "So, $C_1 = 1/\\sqrt{n}$ and $C_2 = 1$"
   ]
  },
  {
   "cell_type": "markdown",
   "metadata": {
    "id": "xijcvGnnpQcT"
   },
   "source": [
    "### b)\n",
    "$trace(AA^*) = \\sum_{i=1}^{n} \\sum_{j=1}^{m} |a_{ij}|^2 = ||A||_F^2$\n",
    "\n",
    "$||A||_F = \\sqrt{trace(A^*A)}$\n",
    "\n",
    "$||UA||_F = \\sqrt{trace((UA)^* (UA))} = \\sqrt{trace(A^*U^*UA)} = \\sqrt{trace(A^*A)} = ||A||_F$\n",
    "\n",
    "$||AU||_F = \\sqrt{trace((AU)^* (AU))} = \\sqrt{trace(AUU^*A^*)} = \\sqrt{trace(AA^*)} = ||A||_F$"
   ]
  },
  {
   "cell_type": "markdown",
   "metadata": {
    "id": "zIgwJ50-pQcU"
   },
   "source": [
    "### c)\n",
    "$||UA||_2 = \\max_{x} \\frac{||UAx||}{||x||} $\n",
    "$||Uz||_2 = ||z||_2$, allows us to simplify: $||UAx||_2 = ||Ax||_2$ and yields  $||UA||_2 = ||A||_2$\n",
    "\n",
    "$||AU||_2 = \\max_{x} \\frac{||AUx||}{||x||} $\n",
    "\n",
    "Again, $||Uz||_2 = ||z||_2$. \n",
    "\n",
    "Let $Ux = y$. Then $||Ux|| = ||y||$. So:\n",
    "\n",
    "$||UA||_2 = \\max_{x} \\frac{||Ay||}{||y||} = ||A||_2$"
   ]
  },
  {
   "cell_type": "markdown",
   "metadata": {
    "id": "mQt07VXRpQcU"
   },
   "source": [
    "## 2.\n",
    "### a)\n",
    "Let $r = rank(A)$\n",
    "\n",
    "$||A||_2^2 \\leq r||A||_2$\n",
    "\n",
    "$A = U \\Sigma V^*$ => $||A||_2 = ||\\Sigma||_2 = \\sqrt{\\sum_{i=1}^{r}\\sigma_i^2}$   (because $\\sigma_i = 0$ if $i > r$)\n",
    "\n",
    "$||A||_2 = max(\\sigma)$ =>\n",
    "\n",
    "$ \\frac{\\sum_{i=1}^{r}\\sigma_i^2}{max(\\sigma)^2} \\leq r$\n",
    "\n",
    "The left part has r terms all of which are less or equal to 1. Worst case scenario if all singular values are equal, then it turns to:\n",
    "\n",
    "$\\underbrace{\\frac{max(\\sigma)^2}{max(\\sigma)^2} + ... + \\frac{max(\\sigma)^2}{max(\\sigma)^2}}_\\text{r terms} = r$"
   ]
  },
  {
   "cell_type": "markdown",
   "metadata": {
    "id": "wxVLG61zpQcV"
   },
   "source": [
    "### b)\n",
    "Choose any ${m \\times n}$ right diagonal or left diagonal matrix, such that $\\sigma_i = c$ for $i$ from $1$ to $min(m, n)$ (all singular values equal $c$)\n",
    "\n",
    "So be it tall or wide matrix, we have exactly $min(m, n) = k$ singular values\n",
    "\n",
    "From previous task:\n",
    "\n",
    "$\\| A \\|_F \\le \\sqrt{\\mathrm{rank}(A)} \\| A \\|_2$ \n",
    "\n",
    ", therefore \n",
    "\n",
    "$\\frac { \\sum_{i=1} ^ {r} \\sigma_i ^ 2} {max(\\sigma)^2} \\leq r$ =>\n",
    "\n",
    "$\\frac {rc^2} {c^2} \\leq r$ => $r \\leq r$ => $r = r$.\n",
    "\n",
    "Therefore we found a full-rank matrix $A$ for arbitary $m$ and $n$, such that\n",
    "\n",
    " $\\| A \\|_F = \\sqrt{\\mathrm{rank}(A)} \\| A \\|_2$"
   ]
  },
  {
   "cell_type": "markdown",
   "metadata": {
    "id": "wvDUA9uMpQcW"
   },
   "source": [
    "### c)\n",
    "$rank(A) = 1$ => $||A||_F = ||A||_2 = \\sigma_1$\n",
    "\n",
    "If $\\sigma$ is a vector of all singular values, then $\\sigma = [\\sigma_1, 0, 0, 0, ... 0]$, (because  $\\sigma_i=0$  if  $i>r$)\n",
    "\n",
    "=> $||A||_2 = max(\\sigma) = \\sigma_1$ and $||A||_F = \\sum_{i=1}^{r}\\sigma_i = \\sigma_1$ \n",
    "\n",
    "=> $||A||_2 = ||A||_F$"
   ]
  },
  {
   "cell_type": "markdown",
   "metadata": {
    "id": "cxejyFagpQcW"
   },
   "source": [
    "### d)\n",
    "$||AB||_F = ||U_A\\Sigma_A V^*_A B||_F = ||\\Sigma_A V^*_A B||_F$\n",
    "\n",
    "Let $||B||_F = ||V^*_A B||_F = ||M||_F$\n",
    "\n",
    "$||\\Sigma_A M||_F \\leq ||A||_2 ||M||_F$\n",
    "\n",
    "$\\sqrt{\\sum_{j}^{}\\sum_{i}^{}(\\sigma_{A_i} m_{ij})} \\leq max(\\sigma_{A_i}) \\sqrt{\\sum_{j}^{}\\sum_{i}^{}(m_{ij})}$ \n",
    "\n",
    "So the above inequality is always true: edge case is when all singular values of A are equal. Then, the inequality turns into equality. Otherways the inequality turns strict."
   ]
  },
  {
   "cell_type": "markdown",
   "metadata": {
    "id": "F7lAClRMpQcX"
   },
   "source": [
    "# 3.\n",
    "### a)\n",
    "Let $M = U^*U$. Since $M = I_k$, $M$ is of full rank, then $M$ is also invertible. If $M$ is invertible, then:\n",
    "\n",
    "$U^+ = (U^{*}U)^{-1} U^* = U^*$\n",
    "\n",
    "$(UU^*)^+ = U^{*+}U^+$ (since $U^*$ is conjugate transpose of $U$) \n",
    "\n",
    "$U^{*+}U^+$ = $(U^{*})^*U^*$ (since $U^+ = U^*$)\n",
    "\n",
    "$(U^{*})^*U^*$ = $UU^*$ (since $(A^{*})^*  UU^*$  = $A$ for any matrix $A$)"
   ]
  },
  {
   "cell_type": "markdown",
   "metadata": {
    "id": "BZqpfAKTpQcY"
   },
   "source": [
    "### b)\n",
    "Let $A = xy^T$\n",
    "\n",
    "After SVD, $A$ should be:\n",
    "$A = U\\Sigma V^*$\n",
    "\n",
    "In order to transition between these two forms, we need to make $x$ and $y^T$ unitary. \n",
    "\n",
    "Therefore we need to find matrces $U = Cx$, such that $U$ is left unitary, and $V^* = Ny^T$, such that $V^*$ is right unitary.\n",
    "\n",
    "Let's normalize both vectors and make them unit, such that their scalar product equals one. Which leads to them also being unitary matrices.\n",
    "\n",
    "$U = \\frac{x}{||x||_2}$ => $C = \\frac{1}{||x||_2}$\n",
    "\n",
    "$V^* = \\frac{y^T}{||y||_2}$ => $N = \\frac{1}{||y||_2}$\n",
    "\n",
    "Now, $A =  \\frac{x}{||x||_2} \\Sigma \\frac{y^T}{||y||_2}$\n",
    "\n",
    "Since we have $n \\times 1$ matrix from left and $1 \\times n$ matrix from right, $\\Sigma$ should be a $1 \\times 1$ scalar.\n",
    "\n",
    "We need to compensate the normalization of vectors, therefore $\\Sigma = \\frac{1}{CN} = ||x||_2||y||_2$\n",
    "\n",
    "$||x||_2 = \\sqrt{\\sum_{i} x_i^2} = \\sqrt{\\sum_{k=1}^{n} 2k-1} = \\sqrt{n^2} = n$\n",
    "\n",
    "$||y||_2 = \\sqrt{\\sum_{i} y_i^2 } = \\sqrt{\\sum_{k=1}^{n} 1^k} = \\sqrt{n}$\n",
    "\n",
    "So, the SVD of $A$ is $A = U\\Sigma V^*$, where:\n",
    "\n",
    "$U = \\frac{x}{n}$\n",
    "\n",
    "$V^* = \\frac{y^T}{\\sqrt{n}}$\n",
    "\n",
    "$\\Sigma = n\\sqrt{n}$"
   ]
  },
  {
   "cell_type": "markdown",
   "metadata": {
    "id": "xun82szOpQcY"
   },
   "source": [
    "# Problem 2 (Matrix calculus) (12 pts)\n",
    "\n",
    "_1._ (10 pts) Consider the following function\n",
    "\n",
    "$$ F(U, V) = \\frac{1}{2}\\|X - UV\\|_F^2, $$\n",
    "\n",
    "where $X \\in \\mathbb{R}^{n \\times n}$, $U \\in \\mathbb{R}^{n \\times k}$ and $V \\in \\mathbb{R}^{k \\times n}$ and $k < n$. \n",
    "\n",
    "- (2 pts) Derive analytical expression for the gradient of the function $F$ with respect to $U$ \n",
    "- (2 pts) Derive analytical expression for the gradient of the function $F$ with respect to $V$\n",
    "- (6 pts) Estimate computational complexity of computing these gradients (in big-O notation). Also, compare timing of analytical computations versus timing the automatic differentiation with JAX. Study some range of dimensions to extract asymptotic complexity and make a conclusion, what approach is faster. Plot the dependence of running time on the dimension (row and column separately) to proof your conclusion \n",
    "\n",
    "_2._ (2 pts) Derive analytical expression for the gradient of the function $f$:\n",
    "\n",
    "$$ R(x) = \\frac{(Ax, x)}{(x, x)}, $$\n",
    "\n",
    "where $A$ is a symmetric real matrix. Why the gradient of this function is important in NLA you will know in the lectures later."
   ]
  },
  {
   "cell_type": "markdown",
   "metadata": {
    "id": "ROgAPeKZa5K2"
   },
   "source": [
    "##1\n",
    "$F(U, V) = \\frac{1}{2}||X - UV||_F = \\frac{1}{2}trace((X - UV)^T(X - U)) = \\frac{1}{2} trace(X^TX - X^TUV - V^TU^TX + V^TU^TUV) = \\frac{1}{2} (trace(X^TX) - trace(X^TUV) - trace(V^TU^TX) + trace(V^TU^TUV)) = \\frac{1}{2} (trace(X^TX) - trace(X^TUV) - trace(VUX^T)^T + trace(V^TU^TUV)) = \\frac{1}{2} (trace(X^TX) - 2trace(X^TUV) + trace(V^TU^TUV))$\n",
    "\n",
    "So now let's derive this expressions.\n",
    "\n",
    "$\\frac{\\partial (trace(X^TX))}{\\partial U} = \\frac{\\partial (trace(X^TX))}{\\partial V} = 0$\n",
    "\n",
    "$\\frac{\\partial (trace(X^TUV))}{\\partial U_{ij}} = \\sum_{i, j, k} v_{jk}x_{ki}^T = \\sum_{i, j, k} v_{kj}^Tx_{ik} = XV^T$\n",
    "\n",
    "$\\frac{\\partial (trace(X^TUV))}{\\partial V_{ij}} = \\sum_{i, j, k} u_{jk}x_{ki}^T = \\sum_{i, j, k} u_{kj}^Tx_{ik} = U^TX$\n",
    "\n",
    "$\\frac{\\partial (trace(V^TU^TUV))}{\\partial U_{ij}} = \\sum_{i,j,k,l}v_{i,j}^T u_{jk}^T u_{kl}v_{li} = \\sum_{i,j,k,l}v_{i,j}^T u_{kj}^T u_{kl}v_{li} = 2 \\times \\sum_{i,l}v_{ij}^Tu_{kl}v_{li} = 2UVV^T$\n",
    "\n",
    "$\\frac{\\partial (trace(V^TU^TUV))}{\\partial V_{ij}} = 2 \\times \\sum_{i,l}u_{lk}^Tu_{kj}v_{ij} = 2U^TUV$\n",
    "\n",
    "$\\frac{\\partial{F}}{\\partial{U}} = \\frac{1}{2}(2UVV^T - 2XV^T) = UVV^T - XV^T$\n",
    "\n",
    "$\\frac{\\partial{F}}{\\partial{V}} = \\frac{1}{2}(2U^TUV - 2U^TX) = U^TUV - U^TX$"
   ]
  },
  {
   "cell_type": "code",
   "execution_count": null,
   "metadata": {
    "id": "urq2ZRSXpQcZ"
   },
   "outputs": [],
   "source": [
    "import jax.numpy as jnp\n",
    "import jax"
   ]
  },
  {
   "cell_type": "code",
   "execution_count": null,
   "metadata": {
    "id": "MzCPXNqEpaZO"
   },
   "outputs": [],
   "source": [
    "seed = 0\n",
    "key = jax.random.PRNGKey(seed)"
   ]
  },
  {
   "cell_type": "code",
   "execution_count": null,
   "metadata": {
    "id": "QYX9HCW81MZD"
   },
   "outputs": [],
   "source": [
    "n = 1000\n",
    "k = 500\n",
    "\n",
    "X = jax.random.normal(key, (n,n))\n",
    "U = jax.random.normal(key, (n,k))\n",
    "V = jax.random.normal(key, (k,n))"
   ]
  },
  {
   "cell_type": "code",
   "execution_count": null,
   "metadata": {
    "id": "OOGStT-az7bK"
   },
   "outputs": [],
   "source": [
    "@jax.jit\n",
    "def F(U, V, X):\n",
    "  result = 0.5 * jnp.linalg.norm(X - U @ V, ord=\"fro\") ** 2\n",
    "  return result"
   ]
  },
  {
   "cell_type": "code",
   "execution_count": null,
   "metadata": {
    "id": "i4N3X_ecyaS_"
   },
   "outputs": [],
   "source": [
    "autogradf_U = jax.grad(F, argnums=0)\n",
    "autogradf_V = jax.grad(F, argnums=1)"
   ]
  },
  {
   "cell_type": "code",
   "execution_count": null,
   "metadata": {
    "id": "RTtYbI0zlrQL"
   },
   "outputs": [],
   "source": [
    "@jax.jit\n",
    "def dF_du(U, V, X):\n",
    "  return U @ V @ V.T - X @ V.T\n",
    "\n",
    "@jax.jit\n",
    "def dF_dv(U,V, X):\n",
    "  return U.T @ U @ V - U.T @ X"
   ]
  },
  {
   "cell_type": "markdown",
   "metadata": {
    "id": "Z5WfiifZt6uB"
   },
   "source": [
    "### Let's estimate the corectness of found analytical expressions:"
   ]
  },
  {
   "cell_type": "code",
   "execution_count": null,
   "metadata": {
    "colab": {
     "base_uri": "https://localhost:8080/"
    },
    "id": "3LHp9gqmmZxJ",
    "outputId": "434abbe0-6326-4327-8b88-8b2a288ea68a"
   },
   "outputs": [
    {
     "data": {
      "text/plain": [
       "DeviceArray(0., dtype=float32)"
      ]
     },
     "execution_count": 355,
     "metadata": {
      "tags": []
     },
     "output_type": "execute_result"
    }
   ],
   "source": [
    "jnp.linalg.norm(dF_du(U, V, X)) - jnp.linalg.norm(autogradf_U(U, V, X))"
   ]
  },
  {
   "cell_type": "code",
   "execution_count": null,
   "metadata": {
    "colab": {
     "base_uri": "https://localhost:8080/"
    },
    "id": "UHKg1K2XnCAO",
    "outputId": "9acfcf5f-1722-4872-a30a-e7c6ae9a2f22"
   },
   "outputs": [
    {
     "data": {
      "text/plain": [
       "DeviceArray(0.0625, dtype=float32)"
      ]
     },
     "execution_count": 356,
     "metadata": {
      "tags": []
     },
     "output_type": "execute_result"
    }
   ],
   "source": [
    "jnp.linalg.norm(dF_dv(U, V, X)) - jnp.linalg.norm(autogradf_V(U, V, X))"
   ]
  },
  {
   "cell_type": "markdown",
   "metadata": {
    "id": "Xxo2hDi6uDva"
   },
   "source": [
    "### Now we compare the timing of analytical vs automatic differentiation:"
   ]
  },
  {
   "cell_type": "code",
   "execution_count": null,
   "metadata": {
    "colab": {
     "base_uri": "https://localhost:8080/"
    },
    "id": "7chrVNpzoPSy",
    "outputId": "fe03231f-5e26-4b10-cea2-c6cdb27f7824"
   },
   "outputs": [
    {
     "name": "stdout",
     "output_type": "stream",
     "text": [
      "Analytical dF_du:\n",
      "10 loops, best of 3: 51.1 ms per loop\n",
      "\n",
      "\n",
      "Automatic dF_du\n",
      "10 loops, best of 3: 41.1 ms per loop\n",
      "\n",
      "\n",
      "Analytical dF_dv:\n",
      "10 loops, best of 3: 35.5 ms per loop\n",
      "\n",
      "\n",
      "Automatic dF_dv\n",
      "10 loops, best of 3: 39.8 ms per loop\n"
     ]
    }
   ],
   "source": [
    "print(\"Analytical dF_du:\")\n",
    "%timeit dF_du(U, V, X).block_until_ready()\n",
    "print(\"\\n\")\n",
    "print(\"Automatic dF_du\")\n",
    "%timeit autogradf_U(U, V, X).block_until_ready()\n",
    "print(\"\\n\")\n",
    "print(\"Analytical dF_dv:\")\n",
    "%timeit dF_dv(U, V, X).block_until_ready()\n",
    "print(\"\\n\")\n",
    "print(\"Automatic dF_dv\")\n",
    "%timeit autogradf_V(U, V, X).block_until_ready()"
   ]
  },
  {
   "cell_type": "markdown",
   "metadata": {
    "id": "Aufe_wJIrtF_"
   },
   "source": [
    "##2"
   ]
  },
  {
   "cell_type": "code",
   "execution_count": null,
   "metadata": {
    "id": "sB1NbpLXu0dp"
   },
   "outputs": [],
   "source": [
    "n_const = 1000\n",
    "k_const = 500"
   ]
  },
  {
   "cell_type": "code",
   "execution_count": null,
   "metadata": {
    "id": "TbyoeJAWylan"
   },
   "outputs": [],
   "source": [
    "import timeit"
   ]
  },
  {
   "cell_type": "code",
   "execution_count": null,
   "metadata": {
    "id": "jCvyYARaQmC8"
   },
   "outputs": [],
   "source": [
    "import numpy as np"
   ]
  },
  {
   "cell_type": "code",
   "execution_count": null,
   "metadata": {
    "id": "nEEx7oLa4vrv"
   },
   "outputs": [],
   "source": [
    "from tqdm import tqdm_notebook"
   ]
  },
  {
   "cell_type": "code",
   "execution_count": null,
   "metadata": {
    "id": "KXo8vaRlwHgJ"
   },
   "outputs": [],
   "source": [
    "def time_the_gradient(func, n_space, k_space):\n",
    "  print(f\"Computing for {func}\")\n",
    "  global function # There is a bug that colab timeit only sees global scope and doesn't see function's (https://github.com/googlecolab/colabtools/issues/1034)\n",
    "  function = func\n",
    "  times = []\n",
    "\n",
    "  if type(k_space) == int:\n",
    "    for i in tqdm_notebook(n_space): # In the sake of tracking progress through tqdm we'll leave the loop\n",
    "      i = int(i)\n",
    "      X = jax.random.normal(key, (i,i))\n",
    "      U = jax.random.normal(key, (i,k_space))\n",
    "      V = jax.random.normal(key, (k_space,i))\n",
    "      time = %timeit -o -q function(U, V, X).block_until_ready()\n",
    "      times.append(time.worst) # Since big O notation sets an upper bound for computations, we take all worst cases\n",
    "\n",
    "\n",
    "  elif type(n_space) == int:\n",
    "    for i in tqdm_notebook(k_space):\n",
    "      i = int(i)\n",
    "      X = jax.random.normal(key, (n_space,n_space))\n",
    "      U = jax.random.normal(key, (n_space,i))\n",
    "      V = jax.random.normal(key, (i,n_space))\n",
    "\n",
    "      time = %timeit -o -q function(U, V, X).block_until_ready()\n",
    "      times.append(time.worst)\n",
    "\n",
    "  return times\n",
    "  "
   ]
  },
  {
   "cell_type": "code",
   "execution_count": null,
   "metadata": {
    "colab": {
     "base_uri": "https://localhost:8080/",
     "height": 500,
     "referenced_widgets": [
      "d7e20763b7e8465fb1d6b74cb802b06b",
      "5fac7311aff84cbe97e1d05b5755485e",
      "6e9cf02bc32f4e8faebfbe6480a76952",
      "32dab76a725448819dee59e2cd745f16",
      "8f9b3a343e5e43e798babff7195946c0",
      "3becafc05c97413896e32298d92b3270",
      "892cb8640b984d36b8cc7cf7b6458236",
      "3f74aaa8139c4110ac2476faf5b834f1",
      "3c345ee7170d42c4931ca0947a075327",
      "3987ffd627904f748edcef870c8e0382",
      "4cae02fb1e7843139dcb87d551b38958",
      "fda5c60eaac642f9b9e64d9b8115f37c",
      "ec19b9671dd04c24a0ff71e9d4bc90aa",
      "27f6e62189c54936b44a084592297a4d",
      "98bb79f754a348119c1fc7d29285526e",
      "7b1b4cd3144b4935b3638e87e6b41fc0",
      "1e929118c58042c58b0b4e465ffd9a5d",
      "44e8d698997c4c779eb9e98f7f9c6ac2",
      "ced6027992954db393f4af0972929e74",
      "a0fdeab0f32d413699d515cdae4c8351",
      "bcb6d2a410e64f8da5c0a16608883582",
      "c9a824a10dd44c51a3a2de46c9e0216d",
      "7c853f3e228b4703a45f162f998111c4",
      "0c897883a9b5411da0d6b2ac385b36dd",
      "d9cee2381d60422d99efaea929210a9b",
      "2e07fe694a4b4024b4346aec35500a4f",
      "0fc00ff2d24d495d949f7438b385e296",
      "87314f8d02524d53a0f66461197e281f",
      "5f69a44e0ebb47b0964078fc42cbb53c",
      "8d3ce26b552041b4aa1fc2be5e3ef317",
      "a1329abc23494360acbba28c8004aedb",
      "d291f0ffc6de499eb22526b0b8bf8618"
     ]
    },
    "id": "SM2zfxeKGfps",
    "outputId": "5a624674-ecee-436b-91bb-59ff65ad60b7"
   },
   "outputs": [
    {
     "name": "stdout",
     "output_type": "stream",
     "text": [
      "Computing for <function grad.<locals>.grad_f at 0x7f5bb4fb6d08>\n"
     ]
    },
    {
     "name": "stderr",
     "output_type": "stream",
     "text": [
      "/usr/local/lib/python3.6/dist-packages/ipykernel_launcher.py:8: TqdmDeprecationWarning: This function will be removed in tqdm==5.0.0\n",
      "Please use `tqdm.notebook.tqdm` instead of `tqdm.tqdm_notebook`\n",
      "  \n"
     ]
    },
    {
     "data": {
      "application/vnd.jupyter.widget-view+json": {
       "model_id": "d7e20763b7e8465fb1d6b74cb802b06b",
       "version_major": 2,
       "version_minor": 0
      },
      "text/plain": [
       "HBox(children=(FloatProgress(value=0.0, max=20.0), HTML(value='')))"
      ]
     },
     "metadata": {
      "tags": []
     },
     "output_type": "display_data"
    },
    {
     "name": "stdout",
     "output_type": "stream",
     "text": [
      "\n",
      "Computing for <function grad.<locals>.grad_f at 0x7f5bb4fdc840>\n"
     ]
    },
    {
     "name": "stderr",
     "output_type": "stream",
     "text": [
      "/usr/local/lib/python3.6/dist-packages/ipykernel_launcher.py:8: TqdmDeprecationWarning: This function will be removed in tqdm==5.0.0\n",
      "Please use `tqdm.notebook.tqdm` instead of `tqdm.tqdm_notebook`\n",
      "  \n"
     ]
    },
    {
     "data": {
      "application/vnd.jupyter.widget-view+json": {
       "model_id": "3c345ee7170d42c4931ca0947a075327",
       "version_major": 2,
       "version_minor": 0
      },
      "text/plain": [
       "HBox(children=(FloatProgress(value=0.0, max=20.0), HTML(value='')))"
      ]
     },
     "metadata": {
      "tags": []
     },
     "output_type": "display_data"
    },
    {
     "name": "stdout",
     "output_type": "stream",
     "text": [
      "\n",
      "Computing for <function _python_jit.<locals>.f_jitted at 0x7f5bb4f61620>\n"
     ]
    },
    {
     "name": "stderr",
     "output_type": "stream",
     "text": [
      "/usr/local/lib/python3.6/dist-packages/ipykernel_launcher.py:8: TqdmDeprecationWarning: This function will be removed in tqdm==5.0.0\n",
      "Please use `tqdm.notebook.tqdm` instead of `tqdm.tqdm_notebook`\n",
      "  \n"
     ]
    },
    {
     "data": {
      "application/vnd.jupyter.widget-view+json": {
       "model_id": "1e929118c58042c58b0b4e465ffd9a5d",
       "version_major": 2,
       "version_minor": 0
      },
      "text/plain": [
       "HBox(children=(FloatProgress(value=0.0, max=20.0), HTML(value='')))"
      ]
     },
     "metadata": {
      "tags": []
     },
     "output_type": "display_data"
    },
    {
     "name": "stdout",
     "output_type": "stream",
     "text": [
      "\n",
      "Computing for <function _python_jit.<locals>.f_jitted at 0x7f5bb4f61510>\n"
     ]
    },
    {
     "name": "stderr",
     "output_type": "stream",
     "text": [
      "/usr/local/lib/python3.6/dist-packages/ipykernel_launcher.py:8: TqdmDeprecationWarning: This function will be removed in tqdm==5.0.0\n",
      "Please use `tqdm.notebook.tqdm` instead of `tqdm.tqdm_notebook`\n",
      "  \n"
     ]
    },
    {
     "data": {
      "application/vnd.jupyter.widget-view+json": {
       "model_id": "d9cee2381d60422d99efaea929210a9b",
       "version_major": 2,
       "version_minor": 0
      },
      "text/plain": [
       "HBox(children=(FloatProgress(value=0.0, max=20.0), HTML(value='')))"
      ]
     },
     "metadata": {
      "tags": []
     },
     "output_type": "display_data"
    },
    {
     "name": "stdout",
     "output_type": "stream",
     "text": [
      "\n"
     ]
    }
   ],
   "source": [
    "autogradf_U_times_n = time_the_gradient(autogradf_U, jnp.linspace(k_const + 1, 10000, 20), k_const)\n",
    "autogradf_v_times_n = time_the_gradient(autogradf_V, jnp.linspace(k_const + 1, 10000, 20), k_const)\n",
    "dF_du_times_n = time_the_gradient(dF_du, jnp.linspace(k_const + 1, 10000, 20), k_const)\n",
    "dF_dv_times_n = time_the_gradient(dF_dv, jnp.linspace(k_const + 1, 10000, 20), k_const)"
   ]
  },
  {
   "cell_type": "code",
   "execution_count": null,
   "metadata": {
    "id": "kzFpGfYtDV9w"
   },
   "outputs": [],
   "source": [
    "n = [int(n) for n in list(jnp.linspace(k_const + 1, 10000, 20))]"
   ]
  },
  {
   "cell_type": "code",
   "execution_count": null,
   "metadata": {
    "colab": {
     "base_uri": "https://localhost:8080/",
     "height": 350
    },
    "id": "oHz9KejO8vaV",
    "outputId": "71d4ce0e-d2c7-490a-b482-6bfdd65bd7db"
   },
   "outputs": [
    {
     "data": {
      "image/png": "[encoded data removed]",
      "text/plain": [
       "<Figure size 576x360 with 1 Axes>"
      ]
     },
     "metadata": {
      "needs_background": "light",
      "tags": []
     },
     "output_type": "display_data"
    }
   ],
   "source": [
    "import matplotlib.pyplot as plt\n",
    "\n",
    "plt.figure(figsize=(8,5))\n",
    "\n",
    "plt.plot(n, autogradf_U_times_n, label = 'dF_du analytical')\n",
    "plt.plot(n, autogradf_v_times_n, label = 'dF_du autograd')\n",
    "plt.plot(n, dF_du_times_n, label = 'dF_dv analytical')\n",
    "plt.plot(n, dF_dv_times_n, label = 'dF_dv autograd')\n",
    "\n",
    "plt.legend(loc = 'lower right')\n",
    "\n",
    "plt.grid(True)\n",
    "\n",
    "plt.ylabel(\"Computation time\")\n",
    "plt.xlabel(\"n\")\n",
    "plt.title(\"Estimating big O(n) notation with fixed k for gradient functions\")\n",
    "plt.show()"
   ]
  },
  {
   "cell_type": "code",
   "execution_count": null,
   "metadata": {
    "colab": {
     "base_uri": "https://localhost:8080/",
     "height": 429,
     "referenced_widgets": [
      "155fddc61fe7403399f0f9dae8e3dcad",
      "38dc21591c32443eb679c47e52c4257a",
      "c24a882fb82c4b3d85709c79c6630071",
      "e5ba4afdbb6a41de9bbcb15379393a93",
      "0110d83e82b442b98fcb827f3035af23",
      "75a48357c3264c08b383ffcbd6895fce",
      "3982548718184b939f8d0a173d7f8d12",
      "4e0c5379cf144536b2de610a8170f872",
      "31c520cd41a44a009e4d7d1e3cd5761e",
      "a8caf20c073f4efa9ebc93141e21f5e4",
      "86f62ee84fd74bffa1f047c43a4f12e0",
      "37fc8a9541b34f44a0dee2bf634a96f4",
      "c8ee9cebc2504826b73220f353ae4f41",
      "ea6bfaaa61ce4ed98abba82e19e4ef9a",
      "0a5d8e6bd07a49f9ba98644d1322b7ba",
      "a1660249d5f0427fa82e84d8749871b6",
      "e08a2526a4ce4c55a05032e67a4515a5",
      "1c77fca2688d45bcaf8884f0bcac6321",
      "09359eb916af46489061ffe25ba66580",
      "d69574764b3840b5a20597ed70f49354",
      "44ed7f40aa7f43b9a266e5c51d9b4efe",
      "4bf15e97e8f2401da14d28ed1adba7f2",
      "2c81a2e5742d49ecadc4d298bc5eba1b",
      "3e0e79d77b9f48eab8d68fcaf8b7c6b6",
      "26f87213918a4312b7ffaef44c98c3ae",
      "445bc147f8e744c69f6cefdae9274826",
      "1dab1747203d431b8dffd4761cf10829",
      "eef24314c98c4d96a2fe7da95acca73d",
      "ac1e6550e1b64a0b8f475803a88e0349",
      "f087f3af3532434089e6698b0a88d06a",
      "66f80739be794fa88c3767fec195acf0",
      "5990afa57ca54270baffd8a002ec4ddc"
     ]
    },
    "id": "CCEBhSY5LG3z",
    "outputId": "47322cc6-f1f7-4c12-eccc-9139781e9b55"
   },
   "outputs": [
    {
     "name": "stdout",
     "output_type": "stream",
     "text": [
      "Computing for <function grad.<locals>.grad_f at 0x7f5bb004a840>\n"
     ]
    },
    {
     "name": "stderr",
     "output_type": "stream",
     "text": [
      "/usr/local/lib/python3.6/dist-packages/ipykernel_launcher.py:18: TqdmDeprecationWarning: This function will be removed in tqdm==5.0.0\n",
      "Please use `tqdm.notebook.tqdm` instead of `tqdm.tqdm_notebook`\n"
     ]
    },
    {
     "data": {
      "application/vnd.jupyter.widget-view+json": {
       "model_id": "155fddc61fe7403399f0f9dae8e3dcad",
       "version_major": 2,
       "version_minor": 0
      },
      "text/plain": [
       "HBox(children=(FloatProgress(value=0.0, max=20.0), HTML(value='')))"
      ]
     },
     "metadata": {
      "tags": []
     },
     "output_type": "display_data"
    },
    {
     "name": "stdout",
     "output_type": "stream",
     "text": [
      "\n",
      "Computing for <function grad.<locals>.grad_f at 0x7f5bb004a488>\n"
     ]
    },
    {
     "name": "stderr",
     "output_type": "stream",
     "text": [
      "/usr/local/lib/python3.6/dist-packages/ipykernel_launcher.py:18: TqdmDeprecationWarning: This function will be removed in tqdm==5.0.0\n",
      "Please use `tqdm.notebook.tqdm` instead of `tqdm.tqdm_notebook`\n"
     ]
    },
    {
     "data": {
      "application/vnd.jupyter.widget-view+json": {
       "model_id": "31c520cd41a44a009e4d7d1e3cd5761e",
       "version_major": 2,
       "version_minor": 0
      },
      "text/plain": [
       "HBox(children=(FloatProgress(value=0.0, max=20.0), HTML(value='')))"
      ]
     },
     "metadata": {
      "tags": []
     },
     "output_type": "display_data"
    },
    {
     "name": "stdout",
     "output_type": "stream",
     "text": [
      "\n",
      "Computing for <function _python_jit.<locals>.f_jitted at 0x7f5bb006a158>\n"
     ]
    },
    {
     "name": "stderr",
     "output_type": "stream",
     "text": [
      "/usr/local/lib/python3.6/dist-packages/ipykernel_launcher.py:18: TqdmDeprecationWarning: This function will be removed in tqdm==5.0.0\n",
      "Please use `tqdm.notebook.tqdm` instead of `tqdm.tqdm_notebook`\n"
     ]
    },
    {
     "data": {
      "application/vnd.jupyter.widget-view+json": {
       "model_id": "e08a2526a4ce4c55a05032e67a4515a5",
       "version_major": 2,
       "version_minor": 0
      },
      "text/plain": [
       "HBox(children=(FloatProgress(value=0.0, max=20.0), HTML(value='')))"
      ]
     },
     "metadata": {
      "tags": []
     },
     "output_type": "display_data"
    },
    {
     "name": "stdout",
     "output_type": "stream",
     "text": [
      "\n",
      "Computing for <function _python_jit.<locals>.f_jitted at 0x7f5bb4f61598>\n"
     ]
    },
    {
     "name": "stderr",
     "output_type": "stream",
     "text": [
      "/usr/local/lib/python3.6/dist-packages/ipykernel_launcher.py:18: TqdmDeprecationWarning: This function will be removed in tqdm==5.0.0\n",
      "Please use `tqdm.notebook.tqdm` instead of `tqdm.tqdm_notebook`\n"
     ]
    },
    {
     "data": {
      "application/vnd.jupyter.widget-view+json": {
       "model_id": "26f87213918a4312b7ffaef44c98c3ae",
       "version_major": 2,
       "version_minor": 0
      },
      "text/plain": [
       "HBox(children=(FloatProgress(value=0.0, max=20.0), HTML(value='')))"
      ]
     },
     "metadata": {
      "tags": []
     },
     "output_type": "display_data"
    },
    {
     "name": "stdout",
     "output_type": "stream",
     "text": [
      "\n"
     ]
    }
   ],
   "source": [
    "autogradf_U_times_k = time_the_gradient(autogradf_U, 10000, jnp.linspace(1, 10000-1, 20))\n",
    "autogradf_v_times_k = time_the_gradient(autogradf_V, 10000, jnp.linspace(1, 10000-1, 20))\n",
    "dF_du_times_k = time_the_gradient(dF_du, 10000, jnp.linspace(1, 10000-1, 20))\n",
    "dF_dv_times_k = time_the_gradient(dF_dv, 10000, jnp.linspace(1, 10000-1, 20))"
   ]
  },
  {
   "cell_type": "code",
   "execution_count": 418,
   "metadata": {
    "id": "7RS5Y13AM3KB"
   },
   "outputs": [],
   "source": [
    "k = [int(k) for k in list(jnp.linspace(1, 1000-1, 20))]"
   ]
  },
  {
   "cell_type": "code",
   "execution_count": 419,
   "metadata": {
    "colab": {
     "base_uri": "https://localhost:8080/",
     "height": 350
    },
    "id": "Y68s3bDsKkUr",
    "outputId": "48c50989-1836-4a25-e79f-6884ba6533ea"
   },
   "outputs": [
    {
     "data": {
      "image/png": "[encoded data removed]",
      "text/plain": [
       "<Figure size 576x360 with 1 Axes>"
      ]
     },
     "metadata": {
      "needs_background": "light",
      "tags": []
     },
     "output_type": "display_data"
    }
   ],
   "source": [
    "plt.figure(figsize=(8,5))\n",
    "plt.plot(k, autogradf_U_times_k, label = 'dF_du analytical')\n",
    "plt.plot(k, autogradf_v_times_k, label = 'dF_du autograd')\n",
    "plt.plot(k, dF_du_times_k, label = 'dF_dv analytical')\n",
    "plt.plot(k, dF_dv_times_k, label = 'dF_dv autograd')\n",
    "\n",
    "plt.grid(True)\n",
    "\n",
    "plt.legend(loc = 'lower right')\n",
    "plt.ylabel(\"Computation time\")\n",
    "plt.xlabel(\"k\")\n",
    "plt.title(\"Estimating big O(k) notation with fixed n for gradient functions\")\n",
    "plt.show()"
   ]
  },
  {
   "cell_type": "markdown",
   "metadata": {
    "id": "Es7-p-6qZGN7"
   },
   "source": [
    "Judging from the plot, we can notice, that the complexity in terms of n generaly grows in quadradict manner, and in terms of k - in linear manner. Also analytical gradient is computed faster for du, since we noted the explicit formula for that."
   ]
  },
  {
   "cell_type": "markdown",
   "metadata": {
    "id": "Vj_nOhpgpjLI"
   },
   "source": [
    "##2\n",
    "$R(x) = \\frac{(Ax, x)}{(x,x)} = \\frac{\\sum_{i,k}a_{ik}x_kx_i}{\\sum_{i}x_j^2}$\n",
    "\n",
    "$\\frac{\\partial{R}}{\\partial{x_k}} = \\frac{\\sum_{j}x_j^2(2\\sum_{j}a_{ik}x_i) - 2x_k\\sum_{i,k}a_{i,k}x_kx_i}{\\sum_{j}{(x_i^2)^2}} = \\frac{2\\sum_{i}a_{ik}x_i}{\\sum_{j}x_j^2} - \\frac{2x_k\\sum_{i,k}x_kx_i}{\\sum{j}{(x_j^2)^2}}$\n",
    "\n",
    "$\\frac{\\partial{R}}{\\partial{x}} = \\frac{2Ax}{x^Tx} - 2\\frac{(Ax, x)}{(x^Tx)^2x}$"
   ]
  },
  {
   "cell_type": "markdown",
   "metadata": {
    "id": "AFs9lmZvpQcd"
   },
   "source": [
    "# Problem 3. Compression of the fully-connected layers in neural network with simple architecture (30 pts)\n",
    "\n",
    "In this problem we consider the neural network that performs classification of the dataset of images. \n",
    "Any neural network can be considered as composition of simple linear and non-linear functions.\n",
    "For example, a neural network with 3 layers can be represented as \n",
    "\n",
    "$$f_3(f_2(f_1(x, w_1), w_2), w_3),$$\n",
    "\n",
    "where $x$ is input data (in our case it will be images) and $w_i, \\; i =1,\\dots,3$ are parameters that are going to be trained. \n",
    "\n",
    "We will study the compression potential of neural network with simple architecture: alternating some numbers of linear and non-linear functions. \n",
    "\n",
    "The main task in this problem is to study how the compression of fully-connected layers affects the test accuracy.\n",
    "Any fully-connected layer is represented as linear function $AX + B$, where $X$ is input matrix and $A, B$ are trainable matrices. Matrices $A$ in every layer are going to be compressed.\n",
    "The main result that you should get is the plot of dependence of test accuracy on the total number of parameters in the neural network."
   ]
  },
  {
   "cell_type": "markdown",
   "metadata": {
    "id": "4MNRqIEUpQce"
   },
   "source": [
    "#### Zero step: install PyTorch\n",
    "\n",
    "- Follow the steps in [official instructions](https://pytorch.org/get-started/locally/)"
   ]
  },
  {
   "cell_type": "markdown",
   "metadata": {
    "id": "Ra2Lxa7npQce"
   },
   "source": [
    "#### First step: download CIFAR10 dataset"
   ]
  },
  {
   "cell_type": "code",
   "execution_count": null,
   "metadata": {
    "colab": {
     "base_uri": "https://localhost:8080/",
     "height": 102,
     "referenced_widgets": [
      "34420960001e444392e447f62cdbb7e9",
      "79ed0de2d9f24a6282a5196a62fe2e4d",
      "9cd20376301e428dbd598da3884126bf",
      "90cf4c31018c4aa2bd54730254448005",
      "edbadb00d23640309ef134e811cbc7b4",
      "febdb4e03cf84189bf2ee736ad3e204f",
      "71e597c54c61411f9117e0702a37db95",
      "6d91addc4e264c779f869938e2b7cb9f"
     ]
    },
    "id": "Jq88v22gpQcf",
    "outputId": "847ba5fb-cb87-4032-be2f-92555744c133"
   },
   "outputs": [
    {
     "name": "stdout",
     "output_type": "stream",
     "text": [
      "Downloading https://www.cs.toronto.edu/~kriz/cifar-10-python.tar.gz to ./cifar-10-python.tar.gz\n"
     ]
    },
    {
     "data": {
      "application/vnd.jupyter.widget-view+json": {
       "model_id": "34420960001e444392e447f62cdbb7e9",
       "version_major": 2,
       "version_minor": 0
      },
      "text/plain": [
       "HBox(children=(FloatProgress(value=1.0, bar_style='info', max=1.0), HTML(value='')))"
      ]
     },
     "metadata": {
      "tags": []
     },
     "output_type": "display_data"
    },
    {
     "name": "stdout",
     "output_type": "stream",
     "text": [
      "Extracting ./cifar-10-python.tar.gz to ./\n",
      "\n"
     ]
    }
   ],
   "source": [
    "import torch\n",
    "import torchvision\n",
    "import torchvision.transforms as transforms\n",
    "from torchvision import datasets, transforms\n",
    "import torch.nn as nn\n",
    "import torch.optim as optim\n",
    "import torch.nn.functional as F\n",
    "import matplotlib.pyplot as plt\n",
    "%matplotlib inline\n",
    "import numpy as np\n",
    "\n",
    "batch_size = 100\n",
    "\n",
    "transform = transforms.Compose(\n",
    "    [transforms.ToTensor(),\n",
    "     transforms.Normalize((0.5, 0.5, 0.5), (0.5, 0.5, 0.5))])\n",
    "\n",
    "train_loader = torch.utils.data.DataLoader(datasets.CIFAR10('./', train=True, download=True, transform=transform), \n",
    "                                        batch_size=batch_size, shuffle=True)\n",
    "\n",
    "test_loader = torch.utils.data.DataLoader(datasets.CIFAR10('./', train=False, transform=transform), \n",
    "                                          batch_size=batch_size, shuffle=True)\n",
    "\n",
    "classes = ('plane', 'car', 'bird', 'cat',\n",
    "           'deer', 'dog', 'frog', 'horse', 'ship', 'truck')"
   ]
  },
  {
   "cell_type": "markdown",
   "metadata": {
    "id": "KFHx7TldpQch"
   },
   "source": [
    "#### Check what images are we going to classify"
   ]
  },
  {
   "cell_type": "code",
   "execution_count": null,
   "metadata": {
    "colab": {
     "base_uri": "https://localhost:8080/",
     "height": 612
    },
    "id": "vDbXU_OJpQci",
    "outputId": "4a86c0bd-15c9-4a58-e873-216b3b81992e"
   },
   "outputs": [
    {
     "data": {
      "image/png": "[encoded data removed]",
      "text/plain": [
       "<Figure size 1440x720 with 1 Axes>"
      ]
     },
     "metadata": {
      "needs_background": "light",
      "tags": []
     },
     "output_type": "display_data"
    },
    {
     "name": "stdout",
     "output_type": "stream",
     "text": [
      " frog plane   cat horse  frog   dog  ship truck\n"
     ]
    }
   ],
   "source": [
    "def imshow(img):\n",
    "    img = img / 2 + 0.5     # unnormalize\n",
    "    npimg = img.numpy()\n",
    "    plt.figure(figsize=(20, 10))\n",
    "    plt.imshow(np.transpose(npimg, (1, 2, 0)))\n",
    "    plt.show()\n",
    "\n",
    "\n",
    "# get some random training images\n",
    "dataiter = iter(train_loader)\n",
    "images, labels = dataiter.next()\n",
    "\n",
    "# show images\n",
    "imshow(torchvision.utils.make_grid(images))\n",
    "# print labels\n",
    "print(' '.join('%5s' % classes[labels[j]] for j in range(8)))\n"
   ]
  },
  {
   "cell_type": "markdown",
   "metadata": {
    "id": "liQmkiuQpQcl"
   },
   "source": [
    "### Second step: neural network architecture\n",
    "\n",
    "For simplicity and demonstration purposes of the neural network compression idea consider the architecture consisting of the only fully-connected layers and non-linear ReLU functions between them.\n",
    "To demonstrate compression effect, consider the dimension of the inner layers equals to 1000.\n",
    "\n",
    "Below you see implementation of such neural network in PyTorch.\n",
    "More details about neural networks you will study in the *Deep learning* course in one of the upcoming term"
   ]
  },
  {
   "cell_type": "code",
   "execution_count": null,
   "metadata": {
    "id": "x_Td0Js5pQcm"
   },
   "outputs": [],
   "source": [
    "class Net(nn.Module):\n",
    "    def __init__(self):\n",
    "        super(Net, self).__init__()\n",
    "        self.fc1 = nn.Linear(3 * 32 * 32, 1000)\n",
    "        self.fc2 = nn.Linear(1000, 1000)\n",
    "        self.fc3 = nn.Linear(1000, 1000)\n",
    "        self.fc4 = nn.Linear(1000, 1000)\n",
    "        self.fc5 = nn.Linear(1000, 1000)\n",
    "        self.fc6 = nn.Linear(1000, 10)\n",
    "        self.ReLU = nn.ReLU()\n",
    "\n",
    "    def forward(self, x):\n",
    "        x = self.fc1(x.view(-1, 3 * 32*32))\n",
    "        x = self.ReLU(x)\n",
    "        x = self.fc2(x)\n",
    "        x = self.ReLU(x)\n",
    "        x = self.fc3(x)\n",
    "        x = self.ReLU(x)\n",
    "        x = self.fc4(x)\n",
    "        x = self.ReLU(x)\n",
    "        x = self.fc5(x)\n",
    "        x = self.ReLU(x)\n",
    "        x = self.fc6(x)\n",
    "        return F.log_softmax(x, dim=1)"
   ]
  },
  {
   "cell_type": "markdown",
   "metadata": {
    "id": "31WQ6c8ypQcp"
   },
   "source": [
    "#### Implement functions for training and testing after every sweep over all dataset entries"
   ]
  },
  {
   "cell_type": "code",
   "execution_count": null,
   "metadata": {
    "id": "d7_1dLVCpQcp"
   },
   "outputs": [],
   "source": [
    "def train(model, train_loader, optimizer, epoch):\n",
    "    model.train()\n",
    "    for batch_idx, (data, target) in enumerate(train_loader):\n",
    "        optimizer.zero_grad()\n",
    "        output = model(data)\n",
    "        loss = F.nll_loss(output, target)\n",
    "        loss.backward()\n",
    "        optimizer.step()\n",
    "        if batch_idx % log_interval == 0:\n",
    "            print('Train Epoch: {} [{}/{} ({:.0f}%)]\\tLoss: {:.6f}'.format(\n",
    "                epoch, batch_idx * len(data), len(train_loader.dataset),\n",
    "                100. * batch_idx / len(train_loader), loss.item()))\n"
   ]
  },
  {
   "cell_type": "code",
   "execution_count": null,
   "metadata": {
    "id": "wsdWDD-XpQcs"
   },
   "outputs": [],
   "source": [
    "def test(model, test_loader):\n",
    "    model.eval()\n",
    "    test_loss = 0\n",
    "    correct = 0\n",
    "    with torch.no_grad():\n",
    "        for data, target in test_loader:\n",
    "#             data, target = data.to(device), target.to(device)\n",
    "            output = model(data)\n",
    "            test_loss += F.nll_loss(output, target, reduction='sum').item() # sum up batch loss\n",
    "            pred = output.argmax(dim=1, keepdim=True) # get the index of the max log-probability\n",
    "            correct += pred.eq(target.view_as(pred)).sum().item()\n",
    "    test_loss /= len(test_loader.dataset)\n",
    "\n",
    "    print('\\nTest set: Average loss: {:.4f}, Accuracy: {}/{} ({:.0f}%)\\n'.format(\n",
    "        test_loss, correct, len(test_loader.dataset),\n",
    "        100. * correct / len(test_loader.dataset)))\n",
    "    return correct"
   ]
  },
  {
   "cell_type": "markdown",
   "metadata": {
    "id": "tRoctP1kpQcu"
   },
   "source": [
    "### Set parameters for training and print intermediate loss values"
   ]
  },
  {
   "cell_type": "code",
   "execution_count": null,
   "metadata": {
    "id": "X2dpfXMMpQcv"
   },
   "outputs": [],
   "source": [
    "log_interval = 50\n",
    "epochs = 7"
   ]
  },
  {
   "cell_type": "markdown",
   "metadata": {
    "id": "VYOGbPz4pQcx"
   },
   "source": [
    "### Third step: run training with the [Adam](https://arxiv.org/pdf/1412.6980.pdf%20%22%20entire%20document) optimization method\n",
    "\n",
    "If your laptop is not very fast, you will wait some time till training is finished. "
   ]
  },
  {
   "cell_type": "code",
   "execution_count": null,
   "metadata": {
    "id": "9FwHvLc4bxOa"
   },
   "outputs": [],
   "source": [
    "epochs = 5"
   ]
  },
  {
   "cell_type": "code",
   "execution_count": null,
   "metadata": {
    "colab": {
     "base_uri": "https://localhost:8080/"
    },
    "id": "LQ3ru7ggpQcx",
    "outputId": "dbfce1e7-2193-4b6b-d48c-4a374c6d1e63"
   },
   "outputs": [
    {
     "name": "stdout",
     "output_type": "stream",
     "text": [
      "Train Epoch: 1 [0/50000 (0%)]\tLoss: 2.308538\n",
      "Train Epoch: 1 [5000/50000 (10%)]\tLoss: 1.832281\n",
      "Train Epoch: 1 [10000/50000 (20%)]\tLoss: 1.856947\n",
      "Train Epoch: 1 [15000/50000 (30%)]\tLoss: 1.699480\n",
      "Train Epoch: 1 [20000/50000 (40%)]\tLoss: 1.822031\n",
      "Train Epoch: 1 [25000/50000 (50%)]\tLoss: 1.689634\n",
      "Train Epoch: 1 [30000/50000 (60%)]\tLoss: 1.855106\n",
      "Train Epoch: 1 [35000/50000 (70%)]\tLoss: 1.619194\n",
      "Train Epoch: 1 [40000/50000 (80%)]\tLoss: 1.522849\n",
      "Train Epoch: 1 [45000/50000 (90%)]\tLoss: 1.618946\n",
      "\n",
      "Test set: Average loss: 1.6068, Accuracy: 4444/10000 (44%)\n",
      "\n",
      "Train Epoch: 2 [0/50000 (0%)]\tLoss: 1.337222\n",
      "Train Epoch: 2 [5000/50000 (10%)]\tLoss: 1.551229\n",
      "Train Epoch: 2 [10000/50000 (20%)]\tLoss: 1.584916\n",
      "Train Epoch: 2 [15000/50000 (30%)]\tLoss: 1.652964\n",
      "Train Epoch: 2 [20000/50000 (40%)]\tLoss: 1.380229\n",
      "Train Epoch: 2 [25000/50000 (50%)]\tLoss: 1.599854\n",
      "Train Epoch: 2 [30000/50000 (60%)]\tLoss: 1.600126\n",
      "Train Epoch: 2 [35000/50000 (70%)]\tLoss: 1.467569\n",
      "Train Epoch: 2 [40000/50000 (80%)]\tLoss: 1.466547\n",
      "Train Epoch: 2 [45000/50000 (90%)]\tLoss: 1.616811\n",
      "\n",
      "Test set: Average loss: 1.4817, Accuracy: 4792/10000 (48%)\n",
      "\n",
      "Train Epoch: 3 [0/50000 (0%)]\tLoss: 1.378512\n",
      "Train Epoch: 3 [5000/50000 (10%)]\tLoss: 1.472112\n",
      "Train Epoch: 3 [10000/50000 (20%)]\tLoss: 1.304527\n",
      "Train Epoch: 3 [15000/50000 (30%)]\tLoss: 1.508423\n",
      "Train Epoch: 3 [20000/50000 (40%)]\tLoss: 1.370959\n",
      "Train Epoch: 3 [25000/50000 (50%)]\tLoss: 1.363734\n",
      "Train Epoch: 3 [30000/50000 (60%)]\tLoss: 1.450993\n",
      "Train Epoch: 3 [35000/50000 (70%)]\tLoss: 1.332755\n",
      "Train Epoch: 3 [40000/50000 (80%)]\tLoss: 1.235525\n",
      "Train Epoch: 3 [45000/50000 (90%)]\tLoss: 1.353669\n",
      "\n",
      "Test set: Average loss: 1.4006, Accuracy: 5082/10000 (51%)\n",
      "\n",
      "Train Epoch: 4 [0/50000 (0%)]\tLoss: 1.263612\n",
      "Train Epoch: 4 [5000/50000 (10%)]\tLoss: 1.344999\n",
      "Train Epoch: 4 [10000/50000 (20%)]\tLoss: 1.298896\n",
      "Train Epoch: 4 [15000/50000 (30%)]\tLoss: 1.283070\n",
      "Train Epoch: 4 [20000/50000 (40%)]\tLoss: 1.088341\n",
      "Train Epoch: 4 [25000/50000 (50%)]\tLoss: 1.243086\n",
      "Train Epoch: 4 [30000/50000 (60%)]\tLoss: 1.010309\n",
      "Train Epoch: 4 [35000/50000 (70%)]\tLoss: 1.162077\n",
      "Train Epoch: 4 [40000/50000 (80%)]\tLoss: 1.296103\n",
      "Train Epoch: 4 [45000/50000 (90%)]\tLoss: 1.338825\n",
      "\n",
      "Test set: Average loss: 1.3763, Accuracy: 5227/10000 (52%)\n",
      "\n",
      "Train Epoch: 5 [0/50000 (0%)]\tLoss: 1.249130\n",
      "Train Epoch: 5 [5000/50000 (10%)]\tLoss: 1.178718\n",
      "Train Epoch: 5 [10000/50000 (20%)]\tLoss: 1.383815\n",
      "Train Epoch: 5 [15000/50000 (30%)]\tLoss: 1.252955\n",
      "Train Epoch: 5 [20000/50000 (40%)]\tLoss: 1.246574\n",
      "Train Epoch: 5 [25000/50000 (50%)]\tLoss: 1.259376\n",
      "Train Epoch: 5 [30000/50000 (60%)]\tLoss: 1.346612\n",
      "Train Epoch: 5 [35000/50000 (70%)]\tLoss: 1.084190\n",
      "Train Epoch: 5 [40000/50000 (80%)]\tLoss: 1.153812\n",
      "Train Epoch: 5 [45000/50000 (90%)]\tLoss: 1.194379\n",
      "\n",
      "Test set: Average loss: 1.3491, Accuracy: 5339/10000 (53%)\n",
      "\n"
     ]
    }
   ],
   "source": [
    "model = Net()\n",
    "optimizer = optim.Adam(model.parameters(), lr=1e-3)\n",
    "\n",
    "for epoch in range(1, epochs + 1):\n",
    "    train(model,  train_loader, optimizer, epoch)\n",
    "    test(model, test_loader)"
   ]
  },
  {
   "cell_type": "markdown",
   "metadata": {
    "id": "C7mwLp-6pQc0"
   },
   "source": [
    "Now we have somehow trained neural network and we are ready to perform compression of the weigths in the fully-connected layers."
   ]
  },
  {
   "cell_type": "markdown",
   "metadata": {
    "id": "z1XqB95ypQc0"
   },
   "source": [
    "- (3 pts) Compute SVD of the matrix $1000 \\times 1000$, which corresponds to a weight matrix $A$ in any layer of the trained neural network of the appropriate dimension. To find more information about accessing this matrix please refer to [PyTorch manual](https://pytorch.org/docs/stable/index.html).\n",
    "Plot decaying of the singular values like it was shown in the lecture. What conclusion can you make?\n",
    "- (17 pts) Create a new model, which is an analogue to the class ```Net```, but with some significant distinctions. \n",
    "It takes as input parameters the instance of the class ```Net``` and compression rank $r > 0$. \n",
    "After that, this model has to compress all matrices $A$ in fully-connected layers with SVD using first $r$ singular vectors and singular values.\n",
    "Pay attention to efficient storing of compress representation of the layers.\n",
    "Also ```forward``` method of your new model has to be implemented in a way to use compressed representation of the fully-connected layers in the most efficient way. In all other aspects it has to reproduce ```forward``` method in the original non-compressed model (number of layers, activations, loss function etc).\n",
    "- (5 pts) Plot dependence of test accuracy on the number of parameters in the compressed model. This number of parameters obviously depends on the compression rank $r$.\n",
    "Also plot dependence of time to compute inference on the compression rank $r$.\n",
    "Explain obtained results.\n",
    "To measure time, use [%timeit](https://docs.python.org/3.6/library/timeit.html) with necessary parameters (examples of using this command see in lectures) \n",
    "\n",
    "- (5 pts) After such transformations, your model depends on the factors obtained from SVD. Therefore, these factors are also can be trained with the same gradient method during some number of epochs. This procedure is called fine-tuning. We ask you make this fine-tuning of your compressed model during from 1 to 5 epoch and compare the result test accuracy with the test accuracy that you get after compression. Explain the observed results "
   ]
  },
  {
   "cell_type": "markdown",
   "metadata": {
    "id": "1vwmV94b9c3k"
   },
   "source": [
    "#1"
   ]
  },
  {
   "cell_type": "markdown",
   "metadata": {
    "id": "AHxB_7hi0w9k"
   },
   "source": [
    "So we have a model such that each layer has 1000 elements. We now need to extract a 1000 x 1000 weight matrix. Let's take the second layer and iterate through its parameters generator. Since the first element of the parameters is weight matrix and the second element is the output of activation function - we take the first element which is a 1000 x 1000 matrix"
   ]
  },
  {
   "cell_type": "code",
   "execution_count": null,
   "metadata": {
    "colab": {
     "base_uri": "https://localhost:8080/"
    },
    "id": "AcLNXANcy60W",
    "outputId": "3a7c768c-ad01-4503-d866-c4f6803a1578"
   },
   "outputs": [
    {
     "data": {
      "text/plain": [
       "torch.Size([1000, 1000])"
      ]
     },
     "execution_count": 384,
     "metadata": {
      "tags": []
     },
     "output_type": "execute_result"
    }
   ],
   "source": [
    "model.fc2.weight.data.shape"
   ]
  },
  {
   "cell_type": "code",
   "execution_count": null,
   "metadata": {
    "id": "w7Lb6fmfyy5L"
   },
   "outputs": [],
   "source": [
    "A = model.fc2.weight.data"
   ]
  },
  {
   "cell_type": "code",
   "execution_count": null,
   "metadata": {
    "colab": {
     "base_uri": "https://localhost:8080/"
    },
    "id": "eEFCKgk1U-FW",
    "outputId": "a722a907-8d9b-4382-ba8a-d5559ab3469b"
   },
   "outputs": [
    {
     "data": {
      "text/plain": [
       "torch.Size([1000, 3072])"
      ]
     },
     "execution_count": 386,
     "metadata": {
      "tags": []
     },
     "output_type": "execute_result"
    }
   ],
   "source": [
    "model.fc1.weight.shape"
   ]
  },
  {
   "cell_type": "code",
   "execution_count": null,
   "metadata": {
    "id": "CN_bpyWnM-kv"
   },
   "outputs": [],
   "source": [
    "U, S, V = torch.svd(A)"
   ]
  },
  {
   "cell_type": "code",
   "execution_count": null,
   "metadata": {
    "colab": {
     "base_uri": "https://localhost:8080/",
     "height": 352
    },
    "id": "JAp6JwXY4mkw",
    "outputId": "4a38c0fc-1e1b-41f6-90d8-d4c6ad4c05ef"
   },
   "outputs": [
    {
     "data": {
      "image/png": "[encoded data removed]",
      "text/plain": [
       "<Figure size 576x360 with 1 Axes>"
      ]
     },
     "metadata": {
      "needs_background": "light",
      "tags": []
     },
     "output_type": "display_data"
    }
   ],
   "source": [
    "plt.figure(figsize=(8,5)) # Plot parameters are taken from lecture 4\n",
    "plt.semilogy(S.T/S.T[0])\n",
    "plt.ylabel(r\"$\\sigma_i / \\sigma_0$\", fontsize=24)\n",
    "plt.grid(True)\n",
    "plt.xlabel(r\"Singular value index, $i$\", fontsize=24);"
   ]
  },
  {
   "cell_type": "markdown",
   "metadata": {
    "id": "P6kJq4DmCUzv"
   },
   "source": [
    "So, from the plot we can point out that in order to perform a noticable low-rank approximation, we have to allow $\\epsilon \\geq 10^{-4}$ error"
   ]
  },
  {
   "cell_type": "markdown",
   "metadata": {
    "id": "qSybg9e89g7u"
   },
   "source": [
    "#2"
   ]
  },
  {
   "cell_type": "markdown",
   "metadata": {
    "id": "6quT4ezp1HF0"
   },
   "source": [
    "Now let's compress every weight matrix between layers for given r. For this we need to perform SVD for each layer except the first and last (since they transition between embeddings and classifications respectfuly). \n",
    "\n",
    "It is efficient to store the decompositions of weight matrices separately, therefore we need to split each layer (except the first and last) into two layers with weight matrices $V^T$ and $U$ respectively. Between those layers we need to apply elementwise multiplication of $V^Tx$ with vector $\\Sigma$, where $x$ is input vector at the current stage of forwarding. \n",
    "\n",
    "Therefore we can create a 1D parameter layer in order to make the weights be  reinitialized by backpropagation.   "
   ]
  },
  {
   "cell_type": "code",
   "execution_count": null,
   "metadata": {
    "id": "BwhNIm0_D2sJ"
   },
   "outputs": [],
   "source": [
    "class NewNet(nn.Module):\n",
    "    def __init__(self, r, model_instance):\n",
    "        super(NewNet, self).__init__()\n",
    "        self.fc1 = model_instance.fc1\n",
    "        self.fc2_u, self.fc2_s, self.fc2_v = self.low_rankify_layer(model_instance.fc2, r)\n",
    "        self.fc3_u, self.fc3_s, self.fc3_v = self.low_rankify_layer(model_instance.fc3, r)\n",
    "        self.fc4_u, self.fc4_s, self.fc4_v = self.low_rankify_layer(model_instance.fc4, r)\n",
    "        self.fc5_u, self.fc5_s, self.fc5_v = self.low_rankify_layer(model_instance.fc5, r)\n",
    "        self.fc6 = model_instance.fc6\n",
    "        self.ReLU = nn.ReLU()\n",
    "\n",
    "    def low_rankify_layer(self, layer, r):\n",
    "        data = layer.weight.data\n",
    "        u, s, v = torch.svd(data, some=True)\n",
    "        u = u[:, :r]\n",
    "        s = s[:r]\n",
    "        v = v[:, :r]\n",
    "\n",
    "        v_layer =  nn.Linear(1000, r, bias=False)\n",
    "        with torch.no_grad(): \n",
    "          v_layer.weight.copy_(torch.transpose(v, 0, 1))\n",
    "\n",
    "        s_scaler =  nn.Parameter(s, requires_grad = True) # 1D parameter layer\n",
    "\n",
    "        u_layer = nn.Linear(r, 1000, bias=True)\n",
    "        with torch.no_grad(): \n",
    "            u_layer.weight.copy_(u)\n",
    "            u_layer.bias.copy_(layer.bias.data)\n",
    "\n",
    "        return u_layer, s_scaler, v_layer\n",
    "\n",
    "    def forward(self, x):\n",
    "        x = self.fc1(x.view(-1, 3 * 32*32))\n",
    "        x = self.ReLU(x)\n",
    "        x = self.fc2_v(x)\n",
    "        x = self.fc2_u(self.fc2_s * x) # Apply sigma layer coeffitients as elementwise mul\n",
    "        x = self.ReLU(x)\n",
    "        x = self.fc3_v(x)\n",
    "        x = self.fc3_u(self.fc3_s * x)\n",
    "        x = self.ReLU(x)\n",
    "        x = self.fc4_v(x)\n",
    "        x = self.fc4_u(self.fc4_s * x)\n",
    "        x = self.ReLU(x)\n",
    "        x = self.fc5_v(x)\n",
    "        x = self.fc5_u(self.fc5_s * x)\n",
    "        x = self.ReLU(x)\n",
    "        x = self.fc6(x)\n",
    "        return F.log_softmax(x, dim=1)"
   ]
  },
  {
   "cell_type": "code",
   "execution_count": null,
   "metadata": {
    "id": "KlY_15tCbucE"
   },
   "outputs": [],
   "source": [
    "new_model_500 = NewNet(500, model)\n",
    "new_model_10 = NewNet(10, model)"
   ]
  },
  {
   "cell_type": "markdown",
   "metadata": {
    "id": "Mevm5CMK9D7l"
   },
   "source": [
    "#3"
   ]
  },
  {
   "cell_type": "code",
   "execution_count": null,
   "metadata": {
    "id": "FzebZJ9P9qvg"
   },
   "outputs": [],
   "source": [
    "r_sweep = [1, 5, 10, 20, 50, 75, 100, 200, 300, 400, 500, 600, 700, 800, 900, 1000]"
   ]
  },
  {
   "cell_type": "code",
   "execution_count": null,
   "metadata": {
    "id": "uFQwNJYT-x3A"
   },
   "outputs": [],
   "source": [
    "def sweep_the_accuracy(r_range):\n",
    "  results = []\n",
    "  for i in r_range: # Tried vectorize but it passes the full array instead of one element\n",
    "    model_new = NewNet(i, model)\n",
    "    result = test(model_new, test_loader)\n",
    "    results.append(result)\n",
    "  return results"
   ]
  },
  {
   "cell_type": "code",
   "execution_count": null,
   "metadata": {
    "colab": {
     "base_uri": "https://localhost:8080/"
    },
    "id": "QtumnGSX_VUm",
    "outputId": "55900750-47e8-4c6b-abfb-81b3cc9a7b60"
   },
   "outputs": [
    {
     "name": "stdout",
     "output_type": "stream",
     "text": [
      "\n",
      "Test set: Average loss: 2.4087, Accuracy: 1000/10000 (10%)\n",
      "\n",
      "\n",
      "Test set: Average loss: 2.0331, Accuracy: 2738/10000 (27%)\n",
      "\n",
      "\n",
      "Test set: Average loss: 1.6194, Accuracy: 4642/10000 (46%)\n",
      "\n",
      "\n",
      "Test set: Average loss: 1.4433, Accuracy: 5097/10000 (51%)\n",
      "\n",
      "\n",
      "Test set: Average loss: 1.3708, Accuracy: 5322/10000 (53%)\n",
      "\n",
      "\n",
      "Test set: Average loss: 1.3620, Accuracy: 5340/10000 (53%)\n",
      "\n",
      "\n",
      "Test set: Average loss: 1.3585, Accuracy: 5331/10000 (53%)\n",
      "\n",
      "\n",
      "Test set: Average loss: 1.3501, Accuracy: 5348/10000 (53%)\n",
      "\n",
      "\n",
      "Test set: Average loss: 1.3516, Accuracy: 5335/10000 (53%)\n",
      "\n",
      "\n",
      "Test set: Average loss: 1.3499, Accuracy: 5324/10000 (53%)\n",
      "\n",
      "\n",
      "Test set: Average loss: 1.3499, Accuracy: 5329/10000 (53%)\n",
      "\n",
      "\n",
      "Test set: Average loss: 1.3491, Accuracy: 5348/10000 (53%)\n",
      "\n",
      "\n",
      "Test set: Average loss: 1.3487, Accuracy: 5341/10000 (53%)\n",
      "\n",
      "\n",
      "Test set: Average loss: 1.3491, Accuracy: 5344/10000 (53%)\n",
      "\n",
      "\n",
      "Test set: Average loss: 1.3491, Accuracy: 5340/10000 (53%)\n",
      "\n",
      "\n",
      "Test set: Average loss: 1.3491, Accuracy: 5339/10000 (53%)\n",
      "\n"
     ]
    }
   ],
   "source": [
    "vector_acc = sweep_the_accuracy(r_sweep)"
   ]
  },
  {
   "cell_type": "code",
   "execution_count": null,
   "metadata": {
    "id": "9aPpIZ9BIHg1"
   },
   "outputs": [],
   "source": [
    "vector_acc = [vector / 10000 for vector in vector_acc]"
   ]
  },
  {
   "cell_type": "code",
   "execution_count": null,
   "metadata": {
    "colab": {
     "base_uri": "https://localhost:8080/",
     "height": 348
    },
    "id": "RbCZ9bMLAtRx",
    "outputId": "a79301dd-6a72-41fe-bbb8-89d8afc8caaa"
   },
   "outputs": [
    {
     "data": {
      "image/png": "[encoded data removed]",
      "text/plain": [
       "<Figure size 576x360 with 1 Axes>"
      ]
     },
     "metadata": {
      "needs_background": "light",
      "tags": []
     },
     "output_type": "display_data"
    }
   ],
   "source": [
    "plt.figure(figsize=(8,5)) # Plot parameters are taken from lecture 4\n",
    "plt.plot(r_sweep, vector_acc)\n",
    "plt.ylabel(r\"Accuracy\", fontsize=24)\n",
    "plt.grid(True)\n",
    "plt.xlabel(r\"Compression rank\", fontsize=24);"
   ]
  },
  {
   "cell_type": "markdown",
   "metadata": {
    "id": "b9HaNWgDLzuM"
   },
   "source": [
    "So, on the basis of plot, we could state that we could pick r around 100 and remain on the flat area of the accuracy growth. The beginning of the accuracy plot resembles the singluar value decay for those rank values, since accuracy depends on the error between the true weights and compressed ones. "
   ]
  },
  {
   "cell_type": "code",
   "execution_count": null,
   "metadata": {
    "colab": {
     "base_uri": "https://localhost:8080/"
    },
    "id": "qxz1hQAuRJcZ",
    "outputId": "1b719892-4f39-4949-b203-c61f19884348"
   },
   "outputs": [
    {
     "name": "stdout",
     "output_type": "stream",
     "text": [
      "\n",
      "Test set: Average loss: 2.4087, Accuracy: 1000/10000 (10%)\n",
      "\n",
      "\n",
      "Test set: Average loss: 2.4087, Accuracy: 1000/10000 (10%)\n",
      "\n",
      "\n",
      "Test set: Average loss: 2.4087, Accuracy: 1000/10000 (10%)\n",
      "\n",
      "\n",
      "Test set: Average loss: 2.4087, Accuracy: 1000/10000 (10%)\n",
      "\n",
      "\n",
      "Test set: Average loss: 2.0331, Accuracy: 2738/10000 (27%)\n",
      "\n",
      "\n",
      "Test set: Average loss: 2.0331, Accuracy: 2738/10000 (27%)\n",
      "\n",
      "\n",
      "Test set: Average loss: 2.0331, Accuracy: 2738/10000 (27%)\n",
      "\n",
      "\n",
      "Test set: Average loss: 2.0331, Accuracy: 2738/10000 (27%)\n",
      "\n",
      "\n",
      "Test set: Average loss: 1.6194, Accuracy: 4642/10000 (46%)\n",
      "\n",
      "\n",
      "Test set: Average loss: 1.6194, Accuracy: 4642/10000 (46%)\n",
      "\n",
      "\n",
      "Test set: Average loss: 1.6194, Accuracy: 4642/10000 (46%)\n",
      "\n",
      "\n",
      "Test set: Average loss: 1.6194, Accuracy: 4642/10000 (46%)\n",
      "\n",
      "\n",
      "Test set: Average loss: 1.4433, Accuracy: 5097/10000 (51%)\n",
      "\n",
      "\n",
      "Test set: Average loss: 1.4433, Accuracy: 5097/10000 (51%)\n",
      "\n",
      "\n",
      "Test set: Average loss: 1.4433, Accuracy: 5097/10000 (51%)\n",
      "\n",
      "\n",
      "Test set: Average loss: 1.4433, Accuracy: 5097/10000 (51%)\n",
      "\n",
      "\n",
      "Test set: Average loss: 1.3708, Accuracy: 5322/10000 (53%)\n",
      "\n",
      "\n",
      "Test set: Average loss: 1.3708, Accuracy: 5322/10000 (53%)\n",
      "\n",
      "\n",
      "Test set: Average loss: 1.3708, Accuracy: 5322/10000 (53%)\n",
      "\n",
      "\n",
      "Test set: Average loss: 1.3708, Accuracy: 5322/10000 (53%)\n",
      "\n",
      "\n",
      "Test set: Average loss: 1.3620, Accuracy: 5340/10000 (53%)\n",
      "\n",
      "\n",
      "Test set: Average loss: 1.3620, Accuracy: 5340/10000 (53%)\n",
      "\n",
      "\n",
      "Test set: Average loss: 1.3620, Accuracy: 5340/10000 (53%)\n",
      "\n",
      "\n",
      "Test set: Average loss: 1.3620, Accuracy: 5340/10000 (53%)\n",
      "\n",
      "\n",
      "Test set: Average loss: 1.3585, Accuracy: 5331/10000 (53%)\n",
      "\n",
      "\n",
      "Test set: Average loss: 1.3585, Accuracy: 5331/10000 (53%)\n",
      "\n",
      "\n",
      "Test set: Average loss: 1.3585, Accuracy: 5331/10000 (53%)\n",
      "\n",
      "\n",
      "Test set: Average loss: 1.3585, Accuracy: 5331/10000 (53%)\n",
      "\n",
      "\n",
      "Test set: Average loss: 1.3501, Accuracy: 5348/10000 (53%)\n",
      "\n",
      "\n",
      "Test set: Average loss: 1.3501, Accuracy: 5348/10000 (53%)\n",
      "\n",
      "\n",
      "Test set: Average loss: 1.3501, Accuracy: 5348/10000 (53%)\n",
      "\n",
      "\n",
      "Test set: Average loss: 1.3501, Accuracy: 5348/10000 (53%)\n",
      "\n",
      "\n",
      "Test set: Average loss: 1.3516, Accuracy: 5335/10000 (53%)\n",
      "\n",
      "\n",
      "Test set: Average loss: 1.3516, Accuracy: 5335/10000 (53%)\n",
      "\n",
      "\n",
      "Test set: Average loss: 1.3516, Accuracy: 5335/10000 (53%)\n",
      "\n",
      "\n",
      "Test set: Average loss: 1.3516, Accuracy: 5335/10000 (53%)\n",
      "\n",
      "\n",
      "Test set: Average loss: 1.3499, Accuracy: 5324/10000 (53%)\n",
      "\n",
      "\n",
      "Test set: Average loss: 1.3499, Accuracy: 5324/10000 (53%)\n",
      "\n",
      "\n",
      "Test set: Average loss: 1.3499, Accuracy: 5324/10000 (53%)\n",
      "\n",
      "\n",
      "Test set: Average loss: 1.3499, Accuracy: 5324/10000 (53%)\n",
      "\n",
      "\n",
      "Test set: Average loss: 1.3499, Accuracy: 5329/10000 (53%)\n",
      "\n",
      "\n",
      "Test set: Average loss: 1.3499, Accuracy: 5329/10000 (53%)\n",
      "\n",
      "\n",
      "Test set: Average loss: 1.3499, Accuracy: 5329/10000 (53%)\n",
      "\n",
      "\n",
      "Test set: Average loss: 1.3499, Accuracy: 5329/10000 (53%)\n",
      "\n",
      "\n",
      "Test set: Average loss: 1.3491, Accuracy: 5348/10000 (53%)\n",
      "\n",
      "\n",
      "Test set: Average loss: 1.3491, Accuracy: 5348/10000 (53%)\n",
      "\n",
      "\n",
      "Test set: Average loss: 1.3491, Accuracy: 5348/10000 (53%)\n",
      "\n",
      "\n",
      "Test set: Average loss: 1.3491, Accuracy: 5348/10000 (53%)\n",
      "\n",
      "\n",
      "Test set: Average loss: 1.3487, Accuracy: 5341/10000 (53%)\n",
      "\n",
      "\n",
      "Test set: Average loss: 1.3487, Accuracy: 5341/10000 (53%)\n",
      "\n",
      "\n",
      "Test set: Average loss: 1.3487, Accuracy: 5341/10000 (53%)\n",
      "\n",
      "\n",
      "Test set: Average loss: 1.3487, Accuracy: 5341/10000 (53%)\n",
      "\n",
      "\n",
      "Test set: Average loss: 1.3491, Accuracy: 5344/10000 (53%)\n",
      "\n",
      "\n",
      "Test set: Average loss: 1.3491, Accuracy: 5344/10000 (53%)\n",
      "\n",
      "\n",
      "Test set: Average loss: 1.3491, Accuracy: 5344/10000 (53%)\n",
      "\n",
      "\n",
      "Test set: Average loss: 1.3491, Accuracy: 5344/10000 (53%)\n",
      "\n",
      "\n",
      "Test set: Average loss: 1.3491, Accuracy: 5340/10000 (53%)\n",
      "\n",
      "\n",
      "Test set: Average loss: 1.3491, Accuracy: 5340/10000 (53%)\n",
      "\n",
      "\n",
      "Test set: Average loss: 1.3491, Accuracy: 5340/10000 (53%)\n",
      "\n",
      "\n",
      "Test set: Average loss: 1.3491, Accuracy: 5340/10000 (53%)\n",
      "\n",
      "\n",
      "Test set: Average loss: 1.3491, Accuracy: 5339/10000 (53%)\n",
      "\n",
      "\n",
      "Test set: Average loss: 1.3491, Accuracy: 5339/10000 (53%)\n",
      "\n",
      "\n",
      "Test set: Average loss: 1.3491, Accuracy: 5339/10000 (53%)\n",
      "\n",
      "\n",
      "Test set: Average loss: 1.3491, Accuracy: 5339/10000 (53%)\n",
      "\n"
     ]
    }
   ],
   "source": [
    "def time_the_inference(r_range):\n",
    "  results = []\n",
    "  for i in r_range: # Tried vectorize but it passes the full array instead of one element\n",
    "    global model_new\n",
    "    model_new = NewNet(i, model)\n",
    "    result = %timeit -o -q test(model_new, test_loader)\n",
    "    results.append(result)\n",
    "  return results\n",
    "\n",
    "result_timing = time_the_inference(r_sweep)"
   ]
  },
  {
   "cell_type": "code",
   "execution_count": null,
   "metadata": {
    "id": "z7u26hMQbCfd"
   },
   "outputs": [],
   "source": [
    "result_timing = [time.worst for time in result_timing]"
   ]
  },
  {
   "cell_type": "code",
   "execution_count": null,
   "metadata": {
    "colab": {
     "base_uri": "https://localhost:8080/",
     "height": 373
    },
    "id": "k7UfIK55Sj_J",
    "outputId": "005f5c86-7312-4882-e9ca-063f02d54b85"
   },
   "outputs": [
    {
     "data": {
      "image/png": "[encoded data removed]",
      "text/plain": [
       "<Figure size 576x360 with 1 Axes>"
      ]
     },
     "metadata": {
      "needs_background": "light",
      "tags": []
     },
     "output_type": "display_data"
    }
   ],
   "source": [
    "plt.figure(figsize=(8,5))\n",
    "\n",
    "plt.plot(r_sweep, result_timing)\n",
    "\n",
    "plt.grid(True)\n",
    "\n",
    "plt.ylabel(\"Computation time\", fontsize=24)\n",
    "plt.xlabel(\"r\", fontsize=24)\n",
    "plt.title(\"Inference computational complexity\", fontsize=24)\n",
    "plt.show()"
   ]
  },
  {
   "cell_type": "markdown",
   "metadata": {
    "id": "e5fKsz37j9Oe"
   },
   "source": [
    "The complexity of inference computation reduces linearly with compression rank. "
   ]
  },
  {
   "cell_type": "code",
   "execution_count": null,
   "metadata": {
    "colab": {
     "base_uri": "https://localhost:8080/"
    },
    "id": "7GeaE51-gv3h",
    "outputId": "78d2e113-9c02-4c6e-d470-cb4a8f997730"
   },
   "outputs": [
    {
     "name": "stdout",
     "output_type": "stream",
     "text": [
      "Train Epoch: 1 [0/50000 (0%)]\tLoss: 2.305355\n",
      "Train Epoch: 1 [5000/50000 (10%)]\tLoss: 1.901562\n",
      "Train Epoch: 1 [10000/50000 (20%)]\tLoss: 2.118716\n",
      "Train Epoch: 1 [15000/50000 (30%)]\tLoss: 1.994798\n",
      "Train Epoch: 1 [20000/50000 (40%)]\tLoss: 1.956554\n",
      "Train Epoch: 1 [25000/50000 (50%)]\tLoss: 1.886509\n",
      "Train Epoch: 1 [30000/50000 (60%)]\tLoss: 1.639090\n",
      "Train Epoch: 1 [35000/50000 (70%)]\tLoss: 1.830867\n",
      "Train Epoch: 1 [40000/50000 (80%)]\tLoss: 1.842366\n",
      "Train Epoch: 1 [45000/50000 (90%)]\tLoss: 1.674262\n",
      "\n",
      "Test set: Average loss: 1.6707, Accuracy: 3817/10000 (38%)\n",
      "\n",
      "Train Epoch: 2 [0/50000 (0%)]\tLoss: 1.751732\n",
      "Train Epoch: 2 [5000/50000 (10%)]\tLoss: 1.578489\n",
      "Train Epoch: 2 [10000/50000 (20%)]\tLoss: 1.708940\n",
      "Train Epoch: 2 [15000/50000 (30%)]\tLoss: 1.795253\n",
      "Train Epoch: 2 [20000/50000 (40%)]\tLoss: 1.628109\n",
      "Train Epoch: 2 [25000/50000 (50%)]\tLoss: 1.749884\n",
      "Train Epoch: 2 [30000/50000 (60%)]\tLoss: 1.751578\n",
      "Train Epoch: 2 [35000/50000 (70%)]\tLoss: 1.558238\n",
      "Train Epoch: 2 [40000/50000 (80%)]\tLoss: 1.777505\n",
      "Train Epoch: 2 [45000/50000 (90%)]\tLoss: 1.477830\n",
      "\n",
      "Test set: Average loss: 1.5430, Accuracy: 4480/10000 (45%)\n",
      "\n",
      "Train Epoch: 3 [0/50000 (0%)]\tLoss: 1.493377\n",
      "Train Epoch: 3 [5000/50000 (10%)]\tLoss: 1.603292\n",
      "Train Epoch: 3 [10000/50000 (20%)]\tLoss: 1.521920\n",
      "Train Epoch: 3 [15000/50000 (30%)]\tLoss: 1.488950\n",
      "Train Epoch: 3 [20000/50000 (40%)]\tLoss: 1.533473\n",
      "Train Epoch: 3 [25000/50000 (50%)]\tLoss: 1.615060\n",
      "Train Epoch: 3 [30000/50000 (60%)]\tLoss: 1.244632\n",
      "Train Epoch: 3 [35000/50000 (70%)]\tLoss: 1.387476\n",
      "Train Epoch: 3 [40000/50000 (80%)]\tLoss: 1.465291\n",
      "Train Epoch: 3 [45000/50000 (90%)]\tLoss: 1.484070\n",
      "\n",
      "Test set: Average loss: 1.5072, Accuracy: 4572/10000 (46%)\n",
      "\n",
      "Train Epoch: 4 [0/50000 (0%)]\tLoss: 1.364175\n",
      "Train Epoch: 4 [5000/50000 (10%)]\tLoss: 1.277116\n",
      "Train Epoch: 4 [10000/50000 (20%)]\tLoss: 1.476179\n",
      "Train Epoch: 4 [15000/50000 (30%)]\tLoss: 1.238835\n",
      "Train Epoch: 4 [20000/50000 (40%)]\tLoss: 1.361412\n",
      "Train Epoch: 4 [25000/50000 (50%)]\tLoss: 1.530059\n",
      "Train Epoch: 4 [30000/50000 (60%)]\tLoss: 1.271266\n",
      "Train Epoch: 4 [35000/50000 (70%)]\tLoss: 1.429139\n",
      "Train Epoch: 4 [40000/50000 (80%)]\tLoss: 1.320117\n",
      "Train Epoch: 4 [45000/50000 (90%)]\tLoss: 1.420186\n",
      "\n",
      "Test set: Average loss: 1.4020, Accuracy: 5071/10000 (51%)\n",
      "\n",
      "Train Epoch: 5 [0/50000 (0%)]\tLoss: 1.137652\n",
      "Train Epoch: 5 [5000/50000 (10%)]\tLoss: 1.351056\n",
      "Train Epoch: 5 [10000/50000 (20%)]\tLoss: 1.194727\n",
      "Train Epoch: 5 [15000/50000 (30%)]\tLoss: 1.365281\n",
      "Train Epoch: 5 [20000/50000 (40%)]\tLoss: 1.292567\n",
      "Train Epoch: 5 [25000/50000 (50%)]\tLoss: 1.236554\n",
      "Train Epoch: 5 [30000/50000 (60%)]\tLoss: 1.121083\n",
      "Train Epoch: 5 [35000/50000 (70%)]\tLoss: 1.323738\n",
      "Train Epoch: 5 [40000/50000 (80%)]\tLoss: 1.426938\n",
      "Train Epoch: 5 [45000/50000 (90%)]\tLoss: 1.156141\n",
      "\n",
      "Test set: Average loss: 1.4231, Accuracy: 4991/10000 (50%)\n",
      "\n"
     ]
    }
   ],
   "source": [
    "model = Net()\n",
    "compressed_model = NewNet(100, model)\n",
    "optimizer = optim.Adam(compressed_model.parameters(), lr=1e-3)\n",
    "\n",
    "for epoch in range(1, epochs + 1):\n",
    "    train(compressed_model,  train_loader, optimizer, epoch)\n",
    "    test(compressed_model, test_loader)"
   ]
  },
  {
   "cell_type": "markdown",
   "metadata": {
    "id": "ZPRD48RnaDXx"
   },
   "source": [
    "Conclusion: after 5 epoch fine tuning with 10 times reduced weight ranks we have 51% accuracy, which is just 2% less than the same tuning without compression "
   ]
  },
  {
   "cell_type": "markdown",
   "metadata": {
    "id": "1MPegOurpQc3"
   },
   "source": [
    "## Problem 4. «Reducio!» (15 pts)  "
   ]
  },
  {
   "cell_type": "markdown",
   "metadata": {
    "id": "4dgScsP0pQc4"
   },
   "source": [
    "Hermione Granger is well versed in all magical disciplines. In particular, she is a great expert in Numerical Linear Algebra and JAX.\n",
    "\n",
    "She has invited Harry Potter to play the game. \n",
    "\n",
    "Hermione chooses a number $r \\in [1, 95]$ and two matrices $W_1 \\in \\mathbb{R}^{r \\times 100}$ and $W_2 \\in \\mathbb{R}^{100 \\times r}$.\n",
    "Harry can tell her any 100-dimensional vector $x$, and Hermione gives Harry the result of \n",
    "\n",
    "$$\n",
    "\\sin(W_2 \\cos(W_1 x)),$$ \n",
    "\n",
    "where trigonometric functions are applied element-wise. \n",
    "This result is also a 100-dimensional vector. \n",
    "\n",
    "Not to lose, Harry should guess what number $r$ Hermione has chosen.   \n",
    "Harry knows the python language, but he is an absolute layman in algebra. Please, help him to get at least 95% correct answers! \n",
    "\n",
    "<i> Hint 1: SVD might help you, but use it wisely! </i>\n",
    "\n",
    "<i> Hint 2: Suppose that a special magic allows you to compute gradients through automatic differentiation in JAX. You can also estimate gradients via finite differences, if you want it.</i>\n",
    "\n",
    "<i> Hint 3: You can estimate the matrix rank using simple heuristics.\n",
    "    \n",
    "You should write code into the `harry_answers` function. Good luck! "
   ]
  },
  {
   "cell_type": "markdown",
   "metadata": {
    "id": "nAtKTTjpF1_q"
   },
   "source": [
    "_____________________________________________________________________________________________________________________"
   ]
  },
  {
   "cell_type": "markdown",
   "metadata": {
    "id": "mNyu9y5hBAa2"
   },
   "source": [
    "##Theoretical thoughts\n",
    "\n",
    "Let's use the idea of active subspaces. \n",
    "\n",
    "First we draw some sample vectors to compute the gradient function on them later.\n",
    "\n",
    "Then we ask jax to evaluate the gradient function for hermione(x). Here's the problem: the output of her function is a vector, and we need to make it scalar. Therefore we just take the norm of the output vector, because it seems to be the best option to respresent vector qualities inside the scalar.\n",
    "\n",
    "Then we apply the gradient function into sample vectors, which yields a gradient matrix. Now we need to find the rank of this matrix. To do that, we compute SVD. One of the properties of SVD is that the amount of non-zero elements of the $\\Sigma$ equals to rank of the decomposed matrix. Thus, we have found the initial r."
   ]
  },
  {
   "cell_type": "code",
   "execution_count": null,
   "metadata": {
    "id": "SKIXORGwpQc4"
   },
   "outputs": [],
   "source": [
    "import jax.numpy as jnp\n",
    "import jax\n",
    "import numpy as np\n",
    "import random\n",
    "\n",
    "class Game:\n",
    "    def __init__(self, key):\n",
    "        # key is a jax.random.PRNGKey\n",
    "        self.key = key\n",
    "        return\n",
    "    def hermione_chooses_r_and_W(self):\n",
    "        self.r = random.randint(1, 95)\n",
    "        self.key, subkey = jax.random.split(self.key)\n",
    "        self.W1 = jax.random.uniform(subkey, (self.r, 100), maxval=100., minval=0., dtype=jnp.float32)\n",
    "        self.key, subkey = jax.random.split(self.key)\n",
    "        self.W2 = jax.random.uniform(subkey, (100, self.r), maxval=100., minval=0., dtype=jnp.float32)\n",
    "\n",
    "    def hermione_computes_function(self, x):\n",
    "        result = jnp.sin(self.W2 @ jnp.cos(self.W1 @ x))\n",
    "        return jnp.linalg.norm(result) # Harry asked Hermione to name him norm instead of the whole vector. Hermione is always happy to do additional computations.\n",
    "\n",
    "    def harry_answers(self):\n",
    "        m = 100\n",
    "        samples = jax.random.normal(self.key, (100, m))\n",
    "        gradient_f = jax.grad(self.hermione_computes_function, argnums=0)\n",
    "\n",
    "        gradients_list = jnp.apply_along_axis(gradient_f, 1, samples) / m ** 0.5\n",
    "        u, s, v = jnp.linalg.svd(gradients_list)\n",
    "        s = np.round(s)\n",
    "        s = s[s >= 1]\n",
    "        r = len(s) \n",
    "\n",
    "        return r\n",
    "    \n",
    "    def play(self, n_rounds, verbose=True):\n",
    "        # n_rounds: a number of rounds of the game\n",
    "        # verbose: print or not the result of each round\n",
    "        n_right_answers = 0\n",
    "        for _ in range(n_rounds):\n",
    "            self.hermione_chooses_r_and_W()\n",
    "            r = self.harry_answers()\n",
    "            if abs(r - self.r) == 0:\n",
    "                if verbose:\n",
    "                    print(\"Good job! The true answer is {}, Harry's answer is {}!\".format(self.r, r))\n",
    "                n_right_answers += 1\n",
    "            else:\n",
    "                if verbose:\n",
    "                    print(\"Harry's answers is {}, but the true answer is {} :(\".format(r, self.r))\n",
    "        if float(n_right_answers) / n_rounds > 0.95:\n",
    "            print('Well done: {}/{} right answers!'.format(n_right_answers, n_rounds))\n",
    "        else:\n",
    "            print('Only {}/{} right answers :( Work a little more and you will succeed!'.format(\n",
    "                n_right_answers, n_rounds))"
   ]
  },
  {
   "cell_type": "code",
   "execution_count": null,
   "metadata": {
    "colab": {
     "base_uri": "https://localhost:8080/"
    },
    "id": "6b5xmUF0pQc6",
    "outputId": "e7ad3128-12d3-42cb-ad1d-8085f688f7dc"
   },
   "outputs": [
    {
     "name": "stdout",
     "output_type": "stream",
     "text": [
      "Well done: 100/100 right answers!\n"
     ]
    }
   ],
   "source": [
    "key = jax.random.PRNGKey(713)\n",
    "game = Game(key)\n",
    "game.play(n_rounds=100, verbose=False)"
   ]
  },
  {
   "cell_type": "markdown",
   "metadata": {
    "id": "60wSo-cdpQc9"
   },
   "source": [
    "# Problem 5 (Bonus)\n",
    "\n",
    "1. The norm is called absolute if $\\|x\\|=\\| \\lvert x \\lvert \\|$ holds for any vector $x$, where $x=(x_1,\\dots,x_n)^T$ and $\\lvert x \\lvert = (\\lvert x_1 \\lvert,\\dots, \\lvert x_n \\lvert)^T$. Give an example of a norm which is not absolute.\n",
    "\n",
    "2. Write a function ```ranks_HOSVD(A, eps)```\n",
    "that calculates Tucker ranks of a d-dimensional tensor $A$ using High-Order SVD (HOSVD) algorithm, where ```eps``` is the relative accuracy in the Frobenius norm between the approximated and the initial tensors. Details can be found [here](http://ca.sandia.gov/~tgkolda/pubs/pubfiles/TensorReview.pdf) on Figure 4.3.\n",
    "```python\n",
    "def ranks_HOSVD(A, eps):\n",
    "      return r #r should be a tuple of ranks r = (r1, r2, ..., rd)\n",
    "```"
   ]
  },
  {
   "cell_type": "markdown",
   "metadata": {
    "id": "Ti4jhwwhNA2A"
   },
   "source": [
    "##1\n",
    "Let's write the norm test in order to check the legitimacy of the proposed norms (by now only first two properties of definition of norm)"
   ]
  },
  {
   "cell_type": "code",
   "execution_count": null,
   "metadata": {
    "id": "azAOJpHTMBCS"
   },
   "outputs": [],
   "source": [
    "def test_norm(norm_function, vector_size):\n",
    "  results = []\n",
    "  for i in range(300):\n",
    "    x = jax.random.normal(jax.random.PRNGKey(i), (1, vector_size))[0]\n",
    "    y = jax.random.normal(jax.random.PRNGKey(i), (1, vector_size))[0]\n",
    "    a = jax.random.normal(jax.random.PRNGKey(i), (1, 1))[0][0]\n",
    "    ax = a * x\n",
    "    test_1 = norm_function(ax) == abs(a) * norm_function(x)\n",
    "    test_2 = norm_function(x + y) <= norm_function(x) + norm_function(y)\n",
    "    results.append(test_1 and test_2)\n",
    "  return all(results)"
   ]
  },
  {
   "cell_type": "code",
   "execution_count": null,
   "metadata": {
    "id": "kt_ErM09O5A5"
   },
   "outputs": [],
   "source": [
    "def goncharov_norm(x):\n",
    "  abses = []\n",
    "  for x_i in x:\n",
    "    abses.append(abs(jnp.real(x_i)) + abs(jnp.imag(x_i)))\n",
    "  return max(abses)"
   ]
  },
  {
   "cell_type": "code",
   "execution_count": null,
   "metadata": {
    "colab": {
     "base_uri": "https://localhost:8080/"
    },
    "id": "nO8lH2SNPPx-",
    "outputId": "336686b4-54bb-41e2-e7a6-44e13b7c5580"
   },
   "outputs": [
    {
     "data": {
      "text/plain": [
       "True"
      ]
     },
     "execution_count": 404,
     "metadata": {
      "tags": []
     },
     "output_type": "execute_result"
    }
   ],
   "source": [
    "test_norm(goncharov_norm, 5)"
   ]
  },
  {
   "cell_type": "markdown",
   "metadata": {
    "id": "ZYl2dWIsZ1aw"
   },
   "source": [
    "### Example of non-absolute result of the proposed norm:"
   ]
  },
  {
   "cell_type": "code",
   "execution_count": null,
   "metadata": {
    "id": "rez-6bgWPlRe"
   },
   "outputs": [],
   "source": [
    "x = jnp.array([2j-2, 2j+3])\n",
    "abs_x = abs(x) # vector of absolutes of x"
   ]
  },
  {
   "cell_type": "code",
   "execution_count": null,
   "metadata": {
    "colab": {
     "base_uri": "https://localhost:8080/"
    },
    "id": "CYdSycD3ZkGU",
    "outputId": "c273b8dd-4973-4a4b-ecd1-98f88bb35a50"
   },
   "outputs": [
    {
     "name": "stdout",
     "output_type": "stream",
     "text": [
      "5.0 3.6055512\n"
     ]
    }
   ],
   "source": [
    "print(goncharov_norm(x), goncharov_norm(abs_x)) # not equal"
   ]
  },
  {
   "cell_type": "markdown",
   "metadata": {
    "id": "_hCguYyYZl15"
   },
   "source": [
    "### So the norm is:\n",
    "$||x||_G = max(|Re(x_i)| + |Im(x_i)|)$\n",
    "\n",
    "And one could also check that if $||x||_G = 0$, then $x = 0$"
   ]
  },
  {
   "cell_type": "markdown",
   "metadata": {
    "id": "i-dsxFe-a9i4"
   },
   "source": [
    "##2"
   ]
  },
  {
   "cell_type": "markdown",
   "metadata": {
    "id": "82mccFthyLBU"
   },
   "source": [
    "The hosvd code was taken from here https://github.com/li012589/HOSVD-pytorch/blob/master/hosvd.py"
   ]
  },
  {
   "cell_type": "code",
   "execution_count": null,
   "metadata": {
    "id": "xquThGNVcREB"
   },
   "outputs": [],
   "source": [
    "def unfolding(n,A):\n",
    "    shape = A.shape\n",
    "    size = np.prod(shape)\n",
    "    lsize = size // shape[n]\n",
    "    sizelist = list(range(len(shape)))\n",
    "    sizelist[n] = 0\n",
    "    sizelist[0] = n\n",
    "    return jnp.transpose(A, sizelist).reshape(shape[n], lsize)\n",
    "\n",
    "def modalsvd(n,A):\n",
    "    nA = unfolding(n,A)\n",
    "    return jnp.linalg.svd(nA)\n",
    "\n",
    "def hosvd(A):\n",
    "    Ulist = []\n",
    "    S = A\n",
    "    for i, ni in enumerate(A.shape):\n",
    "        u,_,_ = modalsvd(i,A)\n",
    "        Ulist.append(u)\n",
    "        S = jnp.tensordot(S,u.T,axes=([0],[0]))\n",
    "\n",
    "    return S,Ulist"
   ]
  },
  {
   "cell_type": "markdown",
   "metadata": {
    "id": "H-LZnA14B7sd"
   },
   "source": [
    "Now we need to modify hosvd to take the ranks tuple and compute the approximation corresponding to those ranks. Then we need to iterate through those ranks tuples (some compliacted combinatorical iteration) and compute the error for each step. Then we need to stop whenever the error grows too high and return the ideal tuple of ranks."
   ]
  }
 ],
 "metadata": {
  "colab": {
   "collapsed_sections": [],
   "name": "Homework_new.ipynb",
   "provenance": []
  },
  "kernelspec": {
   "display_name": "Python 3",
   "language": "python",
   "name": "python3"
  },
  "language_info": {
   "codemirror_mode": {
    "name": "ipython",
    "version": 3
   },
   "file_extension": ".py",
   "mimetype": "text/x-python",
   "name": "python",
   "nbconvert_exporter": "python",
   "pygments_lexer": "ipython3",
   "version": "3.7.4"
  },
  "widgets": {
   "application/vnd.jupyter.widget-state+json": {
    "0110d83e82b442b98fcb827f3035af23": {
     "model_module": "@jupyter-widgets/controls",
     "model_name": "ProgressStyleModel",
     "state": {
      "_model_module": "@jupyter-widgets/controls",
      "_model_module_version": "1.5.0",
      "_model_name": "ProgressStyleModel",
      "_view_count": null,
      "_view_module": "@jupyter-widgets/base",
      "_view_module_version": "1.2.0",
      "_view_name": "StyleView",
      "bar_color": null,
      "description_width": "initial"
     }
    },
    "09359eb916af46489061ffe25ba66580": {
     "model_module": "@jupyter-widgets/controls",
     "model_name": "FloatProgressModel",
     "state": {
      "_dom_classes": [],
      "_model_module": "@jupyter-widgets/controls",
      "_model_module_version": "1.5.0",
      "_model_name": "FloatProgressModel",
      "_view_count": null,
      "_view_module": "@jupyter-widgets/controls",
      "_view_module_version": "1.5.0",
      "_view_name": "ProgressView",
      "bar_style": "success",
      "description": "100%",
      "description_tooltip": null,
      "layout": "IPY_MODEL_4bf15e97e8f2401da14d28ed1adba7f2",
      "max": 20,
      "min": 0,
      "orientation": "horizontal",
      "style": "IPY_MODEL_44ed7f40aa7f43b9a266e5c51d9b4efe",
      "value": 20
     }
    },
    "0a5d8e6bd07a49f9ba98644d1322b7ba": {
     "model_module": "@jupyter-widgets/controls",
     "model_name": "DescriptionStyleModel",
     "state": {
      "_model_module": "@jupyter-widgets/controls",
      "_model_module_version": "1.5.0",
      "_model_name": "DescriptionStyleModel",
      "_view_count": null,
      "_view_module": "@jupyter-widgets/base",
      "_view_module_version": "1.2.0",
      "_view_name": "StyleView",
      "description_width": ""
     }
    },
    "0c897883a9b5411da0d6b2ac385b36dd": {
     "model_module": "@jupyter-widgets/base",
     "model_name": "LayoutModel",
     "state": {
      "_model_module": "@jupyter-widgets/base",
      "_model_module_version": "1.2.0",
      "_model_name": "LayoutModel",
      "_view_count": null,
      "_view_module": "@jupyter-widgets/base",
      "_view_module_version": "1.2.0",
      "_view_name": "LayoutView",
      "align_content": null,
      "align_items": null,
      "align_self": null,
      "border": null,
      "bottom": null,
      "display": null,
      "flex": null,
      "flex_flow": null,
      "grid_area": null,
      "grid_auto_columns": null,
      "grid_auto_flow": null,
      "grid_auto_rows": null,
      "grid_column": null,
      "grid_gap": null,
      "grid_row": null,
      "grid_template_areas": null,
      "grid_template_columns": null,
      "grid_template_rows": null,
      "height": null,
      "justify_content": null,
      "justify_items": null,
      "left": null,
      "margin": null,
      "max_height": null,
      "max_width": null,
      "min_height": null,
      "min_width": null,
      "object_fit": null,
      "object_position": null,
      "order": null,
      "overflow": null,
      "overflow_x": null,
      "overflow_y": null,
      "padding": null,
      "right": null,
      "top": null,
      "visibility": null,
      "width": null
     }
    },
    "0fc00ff2d24d495d949f7438b385e296": {
     "model_module": "@jupyter-widgets/controls",
     "model_name": "FloatProgressModel",
     "state": {
      "_dom_classes": [],
      "_model_module": "@jupyter-widgets/controls",
      "_model_module_version": "1.5.0",
      "_model_name": "FloatProgressModel",
      "_view_count": null,
      "_view_module": "@jupyter-widgets/controls",
      "_view_module_version": "1.5.0",
      "_view_name": "ProgressView",
      "bar_style": "success",
      "description": "100%",
      "description_tooltip": null,
      "layout": "IPY_MODEL_8d3ce26b552041b4aa1fc2be5e3ef317",
      "max": 20,
      "min": 0,
      "orientation": "horizontal",
      "style": "IPY_MODEL_5f69a44e0ebb47b0964078fc42cbb53c",
      "value": 20
     }
    },
    "155fddc61fe7403399f0f9dae8e3dcad": {
     "model_module": "@jupyter-widgets/controls",
     "model_name": "HBoxModel",
     "state": {
      "_dom_classes": [],
      "_model_module": "@jupyter-widgets/controls",
      "_model_module_version": "1.5.0",
      "_model_name": "HBoxModel",
      "_view_count": null,
      "_view_module": "@jupyter-widgets/controls",
      "_view_module_version": "1.5.0",
      "_view_name": "HBoxView",
      "box_style": "",
      "children": [
       "IPY_MODEL_c24a882fb82c4b3d85709c79c6630071",
       "IPY_MODEL_e5ba4afdbb6a41de9bbcb15379393a93"
      ],
      "layout": "IPY_MODEL_38dc21591c32443eb679c47e52c4257a"
     }
    },
    "1c77fca2688d45bcaf8884f0bcac6321": {
     "model_module": "@jupyter-widgets/base",
     "model_name": "LayoutModel",
     "state": {
      "_model_module": "@jupyter-widgets/base",
      "_model_module_version": "1.2.0",
      "_model_name": "LayoutModel",
      "_view_count": null,
      "_view_module": "@jupyter-widgets/base",
      "_view_module_version": "1.2.0",
      "_view_name": "LayoutView",
      "align_content": null,
      "align_items": null,
      "align_self": null,
      "border": null,
      "bottom": null,
      "display": null,
      "flex": null,
      "flex_flow": null,
      "grid_area": null,
      "grid_auto_columns": null,
      "grid_auto_flow": null,
      "grid_auto_rows": null,
      "grid_column": null,
      "grid_gap": null,
      "grid_row": null,
      "grid_template_areas": null,
      "grid_template_columns": null,
      "grid_template_rows": null,
      "height": null,
      "justify_content": null,
      "justify_items": null,
      "left": null,
      "margin": null,
      "max_height": null,
      "max_width": null,
      "min_height": null,
      "min_width": null,
      "object_fit": null,
      "object_position": null,
      "order": null,
      "overflow": null,
      "overflow_x": null,
      "overflow_y": null,
      "padding": null,
      "right": null,
      "top": null,
      "visibility": null,
      "width": null
     }
    },
    "1dab1747203d431b8dffd4761cf10829": {
     "model_module": "@jupyter-widgets/controls",
     "model_name": "FloatProgressModel",
     "state": {
      "_dom_classes": [],
      "_model_module": "@jupyter-widgets/controls",
      "_model_module_version": "1.5.0",
      "_model_name": "FloatProgressModel",
      "_view_count": null,
      "_view_module": "@jupyter-widgets/controls",
      "_view_module_version": "1.5.0",
      "_view_name": "ProgressView",
      "bar_style": "success",
      "description": "100%",
      "description_tooltip": null,
      "layout": "IPY_MODEL_f087f3af3532434089e6698b0a88d06a",
      "max": 20,
      "min": 0,
      "orientation": "horizontal",
      "style": "IPY_MODEL_ac1e6550e1b64a0b8f475803a88e0349",
      "value": 20
     }
    },
    "1e929118c58042c58b0b4e465ffd9a5d": {
     "model_module": "@jupyter-widgets/controls",
     "model_name": "HBoxModel",
     "state": {
      "_dom_classes": [],
      "_model_module": "@jupyter-widgets/controls",
      "_model_module_version": "1.5.0",
      "_model_name": "HBoxModel",
      "_view_count": null,
      "_view_module": "@jupyter-widgets/controls",
      "_view_module_version": "1.5.0",
      "_view_name": "HBoxView",
      "box_style": "",
      "children": [
       "IPY_MODEL_ced6027992954db393f4af0972929e74",
       "IPY_MODEL_a0fdeab0f32d413699d515cdae4c8351"
      ],
      "layout": "IPY_MODEL_44e8d698997c4c779eb9e98f7f9c6ac2"
     }
    },
    "26f87213918a4312b7ffaef44c98c3ae": {
     "model_module": "@jupyter-widgets/controls",
     "model_name": "HBoxModel",
     "state": {
      "_dom_classes": [],
      "_model_module": "@jupyter-widgets/controls",
      "_model_module_version": "1.5.0",
      "_model_name": "HBoxModel",
      "_view_count": null,
      "_view_module": "@jupyter-widgets/controls",
      "_view_module_version": "1.5.0",
      "_view_name": "HBoxView",
      "box_style": "",
      "children": [
       "IPY_MODEL_1dab1747203d431b8dffd4761cf10829",
       "IPY_MODEL_eef24314c98c4d96a2fe7da95acca73d"
      ],
      "layout": "IPY_MODEL_445bc147f8e744c69f6cefdae9274826"
     }
    },
    "27f6e62189c54936b44a084592297a4d": {
     "model_module": "@jupyter-widgets/base",
     "model_name": "LayoutModel",
     "state": {
      "_model_module": "@jupyter-widgets/base",
      "_model_module_version": "1.2.0",
      "_model_name": "LayoutModel",
      "_view_count": null,
      "_view_module": "@jupyter-widgets/base",
      "_view_module_version": "1.2.0",
      "_view_name": "LayoutView",
      "align_content": null,
      "align_items": null,
      "align_self": null,
      "border": null,
      "bottom": null,
      "display": null,
      "flex": null,
      "flex_flow": null,
      "grid_area": null,
      "grid_auto_columns": null,
      "grid_auto_flow": null,
      "grid_auto_rows": null,
      "grid_column": null,
      "grid_gap": null,
      "grid_row": null,
      "grid_template_areas": null,
      "grid_template_columns": null,
      "grid_template_rows": null,
      "height": null,
      "justify_content": null,
      "justify_items": null,
      "left": null,
      "margin": null,
      "max_height": null,
      "max_width": null,
      "min_height": null,
      "min_width": null,
      "object_fit": null,
      "object_position": null,
      "order": null,
      "overflow": null,
      "overflow_x": null,
      "overflow_y": null,
      "padding": null,
      "right": null,
      "top": null,
      "visibility": null,
      "width": null
     }
    },
    "2c81a2e5742d49ecadc4d298bc5eba1b": {
     "model_module": "@jupyter-widgets/controls",
     "model_name": "DescriptionStyleModel",
     "state": {
      "_model_module": "@jupyter-widgets/controls",
      "_model_module_version": "1.5.0",
      "_model_name": "DescriptionStyleModel",
      "_view_count": null,
      "_view_module": "@jupyter-widgets/base",
      "_view_module_version": "1.2.0",
      "_view_name": "StyleView",
      "description_width": ""
     }
    },
    "2e07fe694a4b4024b4346aec35500a4f": {
     "model_module": "@jupyter-widgets/base",
     "model_name": "LayoutModel",
     "state": {
      "_model_module": "@jupyter-widgets/base",
      "_model_module_version": "1.2.0",
      "_model_name": "LayoutModel",
      "_view_count": null,
      "_view_module": "@jupyter-widgets/base",
      "_view_module_version": "1.2.0",
      "_view_name": "LayoutView",
      "align_content": null,
      "align_items": null,
      "align_self": null,
      "border": null,
      "bottom": null,
      "display": null,
      "flex": null,
      "flex_flow": null,
      "grid_area": null,
      "grid_auto_columns": null,
      "grid_auto_flow": null,
      "grid_auto_rows": null,
      "grid_column": null,
      "grid_gap": null,
      "grid_row": null,
      "grid_template_areas": null,
      "grid_template_columns": null,
      "grid_template_rows": null,
      "height": null,
      "justify_content": null,
      "justify_items": null,
      "left": null,
      "margin": null,
      "max_height": null,
      "max_width": null,
      "min_height": null,
      "min_width": null,
      "object_fit": null,
      "object_position": null,
      "order": null,
      "overflow": null,
      "overflow_x": null,
      "overflow_y": null,
      "padding": null,
      "right": null,
      "top": null,
      "visibility": null,
      "width": null
     }
    },
    "31c520cd41a44a009e4d7d1e3cd5761e": {
     "model_module": "@jupyter-widgets/controls",
     "model_name": "HBoxModel",
     "state": {
      "_dom_classes": [],
      "_model_module": "@jupyter-widgets/controls",
      "_model_module_version": "1.5.0",
      "_model_name": "HBoxModel",
      "_view_count": null,
      "_view_module": "@jupyter-widgets/controls",
      "_view_module_version": "1.5.0",
      "_view_name": "HBoxView",
      "box_style": "",
      "children": [
       "IPY_MODEL_86f62ee84fd74bffa1f047c43a4f12e0",
       "IPY_MODEL_37fc8a9541b34f44a0dee2bf634a96f4"
      ],
      "layout": "IPY_MODEL_a8caf20c073f4efa9ebc93141e21f5e4"
     }
    },
    "32dab76a725448819dee59e2cd745f16": {
     "model_module": "@jupyter-widgets/controls",
     "model_name": "HTMLModel",
     "state": {
      "_dom_classes": [],
      "_model_module": "@jupyter-widgets/controls",
      "_model_module_version": "1.5.0",
      "_model_name": "HTMLModel",
      "_view_count": null,
      "_view_module": "@jupyter-widgets/controls",
      "_view_module_version": "1.5.0",
      "_view_name": "HTMLView",
      "description": "",
      "description_tooltip": null,
      "layout": "IPY_MODEL_3f74aaa8139c4110ac2476faf5b834f1",
      "placeholder": "​",
      "style": "IPY_MODEL_892cb8640b984d36b8cc7cf7b6458236",
      "value": " 20/20 [29:01&lt;00:00, 87.06s/it]"
     }
    },
    "34420960001e444392e447f62cdbb7e9": {
     "model_module": "@jupyter-widgets/controls",
     "model_name": "HBoxModel",
     "state": {
      "_dom_classes": [],
      "_model_module": "@jupyter-widgets/controls",
      "_model_module_version": "1.5.0",
      "_model_name": "HBoxModel",
      "_view_count": null,
      "_view_module": "@jupyter-widgets/controls",
      "_view_module_version": "1.5.0",
      "_view_name": "HBoxView",
      "box_style": "",
      "children": [
       "IPY_MODEL_9cd20376301e428dbd598da3884126bf",
       "IPY_MODEL_90cf4c31018c4aa2bd54730254448005"
      ],
      "layout": "IPY_MODEL_79ed0de2d9f24a6282a5196a62fe2e4d"
     }
    },
    "37fc8a9541b34f44a0dee2bf634a96f4": {
     "model_module": "@jupyter-widgets/controls",
     "model_name": "HTMLModel",
     "state": {
      "_dom_classes": [],
      "_model_module": "@jupyter-widgets/controls",
      "_model_module_version": "1.5.0",
      "_model_name": "HTMLModel",
      "_view_count": null,
      "_view_module": "@jupyter-widgets/controls",
      "_view_module_version": "1.5.0",
      "_view_name": "HTMLView",
      "description": "",
      "description_tooltip": null,
      "layout": "IPY_MODEL_a1660249d5f0427fa82e84d8749871b6",
      "placeholder": "​",
      "style": "IPY_MODEL_0a5d8e6bd07a49f9ba98644d1322b7ba",
      "value": " 20/20 [37:22&lt;00:00, 112.10s/it]"
     }
    },
    "38dc21591c32443eb679c47e52c4257a": {
     "model_module": "@jupyter-widgets/base",
     "model_name": "LayoutModel",
     "state": {
      "_model_module": "@jupyter-widgets/base",
      "_model_module_version": "1.2.0",
      "_model_name": "LayoutModel",
      "_view_count": null,
      "_view_module": "@jupyter-widgets/base",
      "_view_module_version": "1.2.0",
      "_view_name": "LayoutView",
      "align_content": null,
      "align_items": null,
      "align_self": null,
      "border": null,
      "bottom": null,
      "display": null,
      "flex": null,
      "flex_flow": null,
      "grid_area": null,
      "grid_auto_columns": null,
      "grid_auto_flow": null,
      "grid_auto_rows": null,
      "grid_column": null,
      "grid_gap": null,
      "grid_row": null,
      "grid_template_areas": null,
      "grid_template_columns": null,
      "grid_template_rows": null,
      "height": null,
      "justify_content": null,
      "justify_items": null,
      "left": null,
      "margin": null,
      "max_height": null,
      "max_width": null,
      "min_height": null,
      "min_width": null,
      "object_fit": null,
      "object_position": null,
      "order": null,
      "overflow": null,
      "overflow_x": null,
      "overflow_y": null,
      "padding": null,
      "right": null,
      "top": null,
      "visibility": null,
      "width": null
     }
    },
    "3982548718184b939f8d0a173d7f8d12": {
     "model_module": "@jupyter-widgets/controls",
     "model_name": "DescriptionStyleModel",
     "state": {
      "_model_module": "@jupyter-widgets/controls",
      "_model_module_version": "1.5.0",
      "_model_name": "DescriptionStyleModel",
      "_view_count": null,
      "_view_module": "@jupyter-widgets/base",
      "_view_module_version": "1.2.0",
      "_view_name": "StyleView",
      "description_width": ""
     }
    },
    "3987ffd627904f748edcef870c8e0382": {
     "model_module": "@jupyter-widgets/base",
     "model_name": "LayoutModel",
     "state": {
      "_model_module": "@jupyter-widgets/base",
      "_model_module_version": "1.2.0",
      "_model_name": "LayoutModel",
      "_view_count": null,
      "_view_module": "@jupyter-widgets/base",
      "_view_module_version": "1.2.0",
      "_view_name": "LayoutView",
      "align_content": null,
      "align_items": null,
      "align_self": null,
      "border": null,
      "bottom": null,
      "display": null,
      "flex": null,
      "flex_flow": null,
      "grid_area": null,
      "grid_auto_columns": null,
      "grid_auto_flow": null,
      "grid_auto_rows": null,
      "grid_column": null,
      "grid_gap": null,
      "grid_row": null,
      "grid_template_areas": null,
      "grid_template_columns": null,
      "grid_template_rows": null,
      "height": null,
      "justify_content": null,
      "justify_items": null,
      "left": null,
      "margin": null,
      "max_height": null,
      "max_width": null,
      "min_height": null,
      "min_width": null,
      "object_fit": null,
      "object_position": null,
      "order": null,
      "overflow": null,
      "overflow_x": null,
      "overflow_y": null,
      "padding": null,
      "right": null,
      "top": null,
      "visibility": null,
      "width": null
     }
    },
    "3becafc05c97413896e32298d92b3270": {
     "model_module": "@jupyter-widgets/base",
     "model_name": "LayoutModel",
     "state": {
      "_model_module": "@jupyter-widgets/base",
      "_model_module_version": "1.2.0",
      "_model_name": "LayoutModel",
      "_view_count": null,
      "_view_module": "@jupyter-widgets/base",
      "_view_module_version": "1.2.0",
      "_view_name": "LayoutView",
      "align_content": null,
      "align_items": null,
      "align_self": null,
      "border": null,
      "bottom": null,
      "display": null,
      "flex": null,
      "flex_flow": null,
      "grid_area": null,
      "grid_auto_columns": null,
      "grid_auto_flow": null,
      "grid_auto_rows": null,
      "grid_column": null,
      "grid_gap": null,
      "grid_row": null,
      "grid_template_areas": null,
      "grid_template_columns": null,
      "grid_template_rows": null,
      "height": null,
      "justify_content": null,
      "justify_items": null,
      "left": null,
      "margin": null,
      "max_height": null,
      "max_width": null,
      "min_height": null,
      "min_width": null,
      "object_fit": null,
      "object_position": null,
      "order": null,
      "overflow": null,
      "overflow_x": null,
      "overflow_y": null,
      "padding": null,
      "right": null,
      "top": null,
      "visibility": null,
      "width": null
     }
    },
    "3c345ee7170d42c4931ca0947a075327": {
     "model_module": "@jupyter-widgets/controls",
     "model_name": "HBoxModel",
     "state": {
      "_dom_classes": [],
      "_model_module": "@jupyter-widgets/controls",
      "_model_module_version": "1.5.0",
      "_model_name": "HBoxModel",
      "_view_count": null,
      "_view_module": "@jupyter-widgets/controls",
      "_view_module_version": "1.5.0",
      "_view_name": "HBoxView",
      "box_style": "",
      "children": [
       "IPY_MODEL_4cae02fb1e7843139dcb87d551b38958",
       "IPY_MODEL_fda5c60eaac642f9b9e64d9b8115f37c"
      ],
      "layout": "IPY_MODEL_3987ffd627904f748edcef870c8e0382"
     }
    },
    "3e0e79d77b9f48eab8d68fcaf8b7c6b6": {
     "model_module": "@jupyter-widgets/base",
     "model_name": "LayoutModel",
     "state": {
      "_model_module": "@jupyter-widgets/base",
      "_model_module_version": "1.2.0",
      "_model_name": "LayoutModel",
      "_view_count": null,
      "_view_module": "@jupyter-widgets/base",
      "_view_module_version": "1.2.0",
      "_view_name": "LayoutView",
      "align_content": null,
      "align_items": null,
      "align_self": null,
      "border": null,
      "bottom": null,
      "display": null,
      "flex": null,
      "flex_flow": null,
      "grid_area": null,
      "grid_auto_columns": null,
      "grid_auto_flow": null,
      "grid_auto_rows": null,
      "grid_column": null,
      "grid_gap": null,
      "grid_row": null,
      "grid_template_areas": null,
      "grid_template_columns": null,
      "grid_template_rows": null,
      "height": null,
      "justify_content": null,
      "justify_items": null,
      "left": null,
      "margin": null,
      "max_height": null,
      "max_width": null,
      "min_height": null,
      "min_width": null,
      "object_fit": null,
      "object_position": null,
      "order": null,
      "overflow": null,
      "overflow_x": null,
      "overflow_y": null,
      "padding": null,
      "right": null,
      "top": null,
      "visibility": null,
      "width": null
     }
    },
    "3f74aaa8139c4110ac2476faf5b834f1": {
     "model_module": "@jupyter-widgets/base",
     "model_name": "LayoutModel",
     "state": {
      "_model_module": "@jupyter-widgets/base",
      "_model_module_version": "1.2.0",
      "_model_name": "LayoutModel",
      "_view_count": null,
      "_view_module": "@jupyter-widgets/base",
      "_view_module_version": "1.2.0",
      "_view_name": "LayoutView",
      "align_content": null,
      "align_items": null,
      "align_self": null,
      "border": null,
      "bottom": null,
      "display": null,
      "flex": null,
      "flex_flow": null,
      "grid_area": null,
      "grid_auto_columns": null,
      "grid_auto_flow": null,
      "grid_auto_rows": null,
      "grid_column": null,
      "grid_gap": null,
      "grid_row": null,
      "grid_template_areas": null,
      "grid_template_columns": null,
      "grid_template_rows": null,
      "height": null,
      "justify_content": null,
      "justify_items": null,
      "left": null,
      "margin": null,
      "max_height": null,
      "max_width": null,
      "min_height": null,
      "min_width": null,
      "object_fit": null,
      "object_position": null,
      "order": null,
      "overflow": null,
      "overflow_x": null,
      "overflow_y": null,
      "padding": null,
      "right": null,
      "top": null,
      "visibility": null,
      "width": null
     }
    },
    "445bc147f8e744c69f6cefdae9274826": {
     "model_module": "@jupyter-widgets/base",
     "model_name": "LayoutModel",
     "state": {
      "_model_module": "@jupyter-widgets/base",
      "_model_module_version": "1.2.0",
      "_model_name": "LayoutModel",
      "_view_count": null,
      "_view_module": "@jupyter-widgets/base",
      "_view_module_version": "1.2.0",
      "_view_name": "LayoutView",
      "align_content": null,
      "align_items": null,
      "align_self": null,
      "border": null,
      "bottom": null,
      "display": null,
      "flex": null,
      "flex_flow": null,
      "grid_area": null,
      "grid_auto_columns": null,
      "grid_auto_flow": null,
      "grid_auto_rows": null,
      "grid_column": null,
      "grid_gap": null,
      "grid_row": null,
      "grid_template_areas": null,
      "grid_template_columns": null,
      "grid_template_rows": null,
      "height": null,
      "justify_content": null,
      "justify_items": null,
      "left": null,
      "margin": null,
      "max_height": null,
      "max_width": null,
      "min_height": null,
      "min_width": null,
      "object_fit": null,
      "object_position": null,
      "order": null,
      "overflow": null,
      "overflow_x": null,
      "overflow_y": null,
      "padding": null,
      "right": null,
      "top": null,
      "visibility": null,
      "width": null
     }
    },
    "44e8d698997c4c779eb9e98f7f9c6ac2": {
     "model_module": "@jupyter-widgets/base",
     "model_name": "LayoutModel",
     "state": {
      "_model_module": "@jupyter-widgets/base",
      "_model_module_version": "1.2.0",
      "_model_name": "LayoutModel",
      "_view_count": null,
      "_view_module": "@jupyter-widgets/base",
      "_view_module_version": "1.2.0",
      "_view_name": "LayoutView",
      "align_content": null,
      "align_items": null,
      "align_self": null,
      "border": null,
      "bottom": null,
      "display": null,
      "flex": null,
      "flex_flow": null,
      "grid_area": null,
      "grid_auto_columns": null,
      "grid_auto_flow": null,
      "grid_auto_rows": null,
      "grid_column": null,
      "grid_gap": null,
      "grid_row": null,
      "grid_template_areas": null,
      "grid_template_columns": null,
      "grid_template_rows": null,
      "height": null,
      "justify_content": null,
      "justify_items": null,
      "left": null,
      "margin": null,
      "max_height": null,
      "max_width": null,
      "min_height": null,
      "min_width": null,
      "object_fit": null,
      "object_position": null,
      "order": null,
      "overflow": null,
      "overflow_x": null,
      "overflow_y": null,
      "padding": null,
      "right": null,
      "top": null,
      "visibility": null,
      "width": null
     }
    },
    "44ed7f40aa7f43b9a266e5c51d9b4efe": {
     "model_module": "@jupyter-widgets/controls",
     "model_name": "ProgressStyleModel",
     "state": {
      "_model_module": "@jupyter-widgets/controls",
      "_model_module_version": "1.5.0",
      "_model_name": "ProgressStyleModel",
      "_view_count": null,
      "_view_module": "@jupyter-widgets/base",
      "_view_module_version": "1.2.0",
      "_view_name": "StyleView",
      "bar_color": null,
      "description_width": "initial"
     }
    },
    "4bf15e97e8f2401da14d28ed1adba7f2": {
     "model_module": "@jupyter-widgets/base",
     "model_name": "LayoutModel",
     "state": {
      "_model_module": "@jupyter-widgets/base",
      "_model_module_version": "1.2.0",
      "_model_name": "LayoutModel",
      "_view_count": null,
      "_view_module": "@jupyter-widgets/base",
      "_view_module_version": "1.2.0",
      "_view_name": "LayoutView",
      "align_content": null,
      "align_items": null,
      "align_self": null,
      "border": null,
      "bottom": null,
      "display": null,
      "flex": null,
      "flex_flow": null,
      "grid_area": null,
      "grid_auto_columns": null,
      "grid_auto_flow": null,
      "grid_auto_rows": null,
      "grid_column": null,
      "grid_gap": null,
      "grid_row": null,
      "grid_template_areas": null,
      "grid_template_columns": null,
      "grid_template_rows": null,
      "height": null,
      "justify_content": null,
      "justify_items": null,
      "left": null,
      "margin": null,
      "max_height": null,
      "max_width": null,
      "min_height": null,
      "min_width": null,
      "object_fit": null,
      "object_position": null,
      "order": null,
      "overflow": null,
      "overflow_x": null,
      "overflow_y": null,
      "padding": null,
      "right": null,
      "top": null,
      "visibility": null,
      "width": null
     }
    },
    "4cae02fb1e7843139dcb87d551b38958": {
     "model_module": "@jupyter-widgets/controls",
     "model_name": "FloatProgressModel",
     "state": {
      "_dom_classes": [],
      "_model_module": "@jupyter-widgets/controls",
      "_model_module_version": "1.5.0",
      "_model_name": "FloatProgressModel",
      "_view_count": null,
      "_view_module": "@jupyter-widgets/controls",
      "_view_module_version": "1.5.0",
      "_view_name": "ProgressView",
      "bar_style": "success",
      "description": "100%",
      "description_tooltip": null,
      "layout": "IPY_MODEL_27f6e62189c54936b44a084592297a4d",
      "max": 20,
      "min": 0,
      "orientation": "horizontal",
      "style": "IPY_MODEL_ec19b9671dd04c24a0ff71e9d4bc90aa",
      "value": 20
     }
    },
    "4e0c5379cf144536b2de610a8170f872": {
     "model_module": "@jupyter-widgets/base",
     "model_name": "LayoutModel",
     "state": {
      "_model_module": "@jupyter-widgets/base",
      "_model_module_version": "1.2.0",
      "_model_name": "LayoutModel",
      "_view_count": null,
      "_view_module": "@jupyter-widgets/base",
      "_view_module_version": "1.2.0",
      "_view_name": "LayoutView",
      "align_content": null,
      "align_items": null,
      "align_self": null,
      "border": null,
      "bottom": null,
      "display": null,
      "flex": null,
      "flex_flow": null,
      "grid_area": null,
      "grid_auto_columns": null,
      "grid_auto_flow": null,
      "grid_auto_rows": null,
      "grid_column": null,
      "grid_gap": null,
      "grid_row": null,
      "grid_template_areas": null,
      "grid_template_columns": null,
      "grid_template_rows": null,
      "height": null,
      "justify_content": null,
      "justify_items": null,
      "left": null,
      "margin": null,
      "max_height": null,
      "max_width": null,
      "min_height": null,
      "min_width": null,
      "object_fit": null,
      "object_position": null,
      "order": null,
      "overflow": null,
      "overflow_x": null,
      "overflow_y": null,
      "padding": null,
      "right": null,
      "top": null,
      "visibility": null,
      "width": null
     }
    },
    "5990afa57ca54270baffd8a002ec4ddc": {
     "model_module": "@jupyter-widgets/base",
     "model_name": "LayoutModel",
     "state": {
      "_model_module": "@jupyter-widgets/base",
      "_model_module_version": "1.2.0",
      "_model_name": "LayoutModel",
      "_view_count": null,
      "_view_module": "@jupyter-widgets/base",
      "_view_module_version": "1.2.0",
      "_view_name": "LayoutView",
      "align_content": null,
      "align_items": null,
      "align_self": null,
      "border": null,
      "bottom": null,
      "display": null,
      "flex": null,
      "flex_flow": null,
      "grid_area": null,
      "grid_auto_columns": null,
      "grid_auto_flow": null,
      "grid_auto_rows": null,
      "grid_column": null,
      "grid_gap": null,
      "grid_row": null,
      "grid_template_areas": null,
      "grid_template_columns": null,
      "grid_template_rows": null,
      "height": null,
      "justify_content": null,
      "justify_items": null,
      "left": null,
      "margin": null,
      "max_height": null,
      "max_width": null,
      "min_height": null,
      "min_width": null,
      "object_fit": null,
      "object_position": null,
      "order": null,
      "overflow": null,
      "overflow_x": null,
      "overflow_y": null,
      "padding": null,
      "right": null,
      "top": null,
      "visibility": null,
      "width": null
     }
    },
    "5f69a44e0ebb47b0964078fc42cbb53c": {
     "model_module": "@jupyter-widgets/controls",
     "model_name": "ProgressStyleModel",
     "state": {
      "_model_module": "@jupyter-widgets/controls",
      "_model_module_version": "1.5.0",
      "_model_name": "ProgressStyleModel",
      "_view_count": null,
      "_view_module": "@jupyter-widgets/base",
      "_view_module_version": "1.2.0",
      "_view_name": "StyleView",
      "bar_color": null,
      "description_width": "initial"
     }
    },
    "5fac7311aff84cbe97e1d05b5755485e": {
     "model_module": "@jupyter-widgets/base",
     "model_name": "LayoutModel",
     "state": {
      "_model_module": "@jupyter-widgets/base",
      "_model_module_version": "1.2.0",
      "_model_name": "LayoutModel",
      "_view_count": null,
      "_view_module": "@jupyter-widgets/base",
      "_view_module_version": "1.2.0",
      "_view_name": "LayoutView",
      "align_content": null,
      "align_items": null,
      "align_self": null,
      "border": null,
      "bottom": null,
      "display": null,
      "flex": null,
      "flex_flow": null,
      "grid_area": null,
      "grid_auto_columns": null,
      "grid_auto_flow": null,
      "grid_auto_rows": null,
      "grid_column": null,
      "grid_gap": null,
      "grid_row": null,
      "grid_template_areas": null,
      "grid_template_columns": null,
      "grid_template_rows": null,
      "height": null,
      "justify_content": null,
      "justify_items": null,
      "left": null,
      "margin": null,
      "max_height": null,
      "max_width": null,
      "min_height": null,
      "min_width": null,
      "object_fit": null,
      "object_position": null,
      "order": null,
      "overflow": null,
      "overflow_x": null,
      "overflow_y": null,
      "padding": null,
      "right": null,
      "top": null,
      "visibility": null,
      "width": null
     }
    },
    "66f80739be794fa88c3767fec195acf0": {
     "model_module": "@jupyter-widgets/controls",
     "model_name": "DescriptionStyleModel",
     "state": {
      "_model_module": "@jupyter-widgets/controls",
      "_model_module_version": "1.5.0",
      "_model_name": "DescriptionStyleModel",
      "_view_count": null,
      "_view_module": "@jupyter-widgets/base",
      "_view_module_version": "1.2.0",
      "_view_name": "StyleView",
      "description_width": ""
     }
    },
    "6d91addc4e264c779f869938e2b7cb9f": {
     "model_module": "@jupyter-widgets/base",
     "model_name": "LayoutModel",
     "state": {
      "_model_module": "@jupyter-widgets/base",
      "_model_module_version": "1.2.0",
      "_model_name": "LayoutModel",
      "_view_count": null,
      "_view_module": "@jupyter-widgets/base",
      "_view_module_version": "1.2.0",
      "_view_name": "LayoutView",
      "align_content": null,
      "align_items": null,
      "align_self": null,
      "border": null,
      "bottom": null,
      "display": null,
      "flex": null,
      "flex_flow": null,
      "grid_area": null,
      "grid_auto_columns": null,
      "grid_auto_flow": null,
      "grid_auto_rows": null,
      "grid_column": null,
      "grid_gap": null,
      "grid_row": null,
      "grid_template_areas": null,
      "grid_template_columns": null,
      "grid_template_rows": null,
      "height": null,
      "justify_content": null,
      "justify_items": null,
      "left": null,
      "margin": null,
      "max_height": null,
      "max_width": null,
      "min_height": null,
      "min_width": null,
      "object_fit": null,
      "object_position": null,
      "order": null,
      "overflow": null,
      "overflow_x": null,
      "overflow_y": null,
      "padding": null,
      "right": null,
      "top": null,
      "visibility": null,
      "width": null
     }
    },
    "6e9cf02bc32f4e8faebfbe6480a76952": {
     "model_module": "@jupyter-widgets/controls",
     "model_name": "FloatProgressModel",
     "state": {
      "_dom_classes": [],
      "_model_module": "@jupyter-widgets/controls",
      "_model_module_version": "1.5.0",
      "_model_name": "FloatProgressModel",
      "_view_count": null,
      "_view_module": "@jupyter-widgets/controls",
      "_view_module_version": "1.5.0",
      "_view_name": "ProgressView",
      "bar_style": "success",
      "description": "100%",
      "description_tooltip": null,
      "layout": "IPY_MODEL_3becafc05c97413896e32298d92b3270",
      "max": 20,
      "min": 0,
      "orientation": "horizontal",
      "style": "IPY_MODEL_8f9b3a343e5e43e798babff7195946c0",
      "value": 20
     }
    },
    "71e597c54c61411f9117e0702a37db95": {
     "model_module": "@jupyter-widgets/controls",
     "model_name": "DescriptionStyleModel",
     "state": {
      "_model_module": "@jupyter-widgets/controls",
      "_model_module_version": "1.5.0",
      "_model_name": "DescriptionStyleModel",
      "_view_count": null,
      "_view_module": "@jupyter-widgets/base",
      "_view_module_version": "1.2.0",
      "_view_name": "StyleView",
      "description_width": ""
     }
    },
    "75a48357c3264c08b383ffcbd6895fce": {
     "model_module": "@jupyter-widgets/base",
     "model_name": "LayoutModel",
     "state": {
      "_model_module": "@jupyter-widgets/base",
      "_model_module_version": "1.2.0",
      "_model_name": "LayoutModel",
      "_view_count": null,
      "_view_module": "@jupyter-widgets/base",
      "_view_module_version": "1.2.0",
      "_view_name": "LayoutView",
      "align_content": null,
      "align_items": null,
      "align_self": null,
      "border": null,
      "bottom": null,
      "display": null,
      "flex": null,
      "flex_flow": null,
      "grid_area": null,
      "grid_auto_columns": null,
      "grid_auto_flow": null,
      "grid_auto_rows": null,
      "grid_column": null,
      "grid_gap": null,
      "grid_row": null,
      "grid_template_areas": null,
      "grid_template_columns": null,
      "grid_template_rows": null,
      "height": null,
      "justify_content": null,
      "justify_items": null,
      "left": null,
      "margin": null,
      "max_height": null,
      "max_width": null,
      "min_height": null,
      "min_width": null,
      "object_fit": null,
      "object_position": null,
      "order": null,
      "overflow": null,
      "overflow_x": null,
      "overflow_y": null,
      "padding": null,
      "right": null,
      "top": null,
      "visibility": null,
      "width": null
     }
    },
    "79ed0de2d9f24a6282a5196a62fe2e4d": {
     "model_module": "@jupyter-widgets/base",
     "model_name": "LayoutModel",
     "state": {
      "_model_module": "@jupyter-widgets/base",
      "_model_module_version": "1.2.0",
      "_model_name": "LayoutModel",
      "_view_count": null,
      "_view_module": "@jupyter-widgets/base",
      "_view_module_version": "1.2.0",
      "_view_name": "LayoutView",
      "align_content": null,
      "align_items": null,
      "align_self": null,
      "border": null,
      "bottom": null,
      "display": null,
      "flex": null,
      "flex_flow": null,
      "grid_area": null,
      "grid_auto_columns": null,
      "grid_auto_flow": null,
      "grid_auto_rows": null,
      "grid_column": null,
      "grid_gap": null,
      "grid_row": null,
      "grid_template_areas": null,
      "grid_template_columns": null,
      "grid_template_rows": null,
      "height": null,
      "justify_content": null,
      "justify_items": null,
      "left": null,
      "margin": null,
      "max_height": null,
      "max_width": null,
      "min_height": null,
      "min_width": null,
      "object_fit": null,
      "object_position": null,
      "order": null,
      "overflow": null,
      "overflow_x": null,
      "overflow_y": null,
      "padding": null,
      "right": null,
      "top": null,
      "visibility": null,
      "width": null
     }
    },
    "7b1b4cd3144b4935b3638e87e6b41fc0": {
     "model_module": "@jupyter-widgets/base",
     "model_name": "LayoutModel",
     "state": {
      "_model_module": "@jupyter-widgets/base",
      "_model_module_version": "1.2.0",
      "_model_name": "LayoutModel",
      "_view_count": null,
      "_view_module": "@jupyter-widgets/base",
      "_view_module_version": "1.2.0",
      "_view_name": "LayoutView",
      "align_content": null,
      "align_items": null,
      "align_self": null,
      "border": null,
      "bottom": null,
      "display": null,
      "flex": null,
      "flex_flow": null,
      "grid_area": null,
      "grid_auto_columns": null,
      "grid_auto_flow": null,
      "grid_auto_rows": null,
      "grid_column": null,
      "grid_gap": null,
      "grid_row": null,
      "grid_template_areas": null,
      "grid_template_columns": null,
      "grid_template_rows": null,
      "height": null,
      "justify_content": null,
      "justify_items": null,
      "left": null,
      "margin": null,
      "max_height": null,
      "max_width": null,
      "min_height": null,
      "min_width": null,
      "object_fit": null,
      "object_position": null,
      "order": null,
      "overflow": null,
      "overflow_x": null,
      "overflow_y": null,
      "padding": null,
      "right": null,
      "top": null,
      "visibility": null,
      "width": null
     }
    },
    "7c853f3e228b4703a45f162f998111c4": {
     "model_module": "@jupyter-widgets/controls",
     "model_name": "DescriptionStyleModel",
     "state": {
      "_model_module": "@jupyter-widgets/controls",
      "_model_module_version": "1.5.0",
      "_model_name": "DescriptionStyleModel",
      "_view_count": null,
      "_view_module": "@jupyter-widgets/base",
      "_view_module_version": "1.2.0",
      "_view_name": "StyleView",
      "description_width": ""
     }
    },
    "86f62ee84fd74bffa1f047c43a4f12e0": {
     "model_module": "@jupyter-widgets/controls",
     "model_name": "FloatProgressModel",
     "state": {
      "_dom_classes": [],
      "_model_module": "@jupyter-widgets/controls",
      "_model_module_version": "1.5.0",
      "_model_name": "FloatProgressModel",
      "_view_count": null,
      "_view_module": "@jupyter-widgets/controls",
      "_view_module_version": "1.5.0",
      "_view_name": "ProgressView",
      "bar_style": "success",
      "description": "100%",
      "description_tooltip": null,
      "layout": "IPY_MODEL_ea6bfaaa61ce4ed98abba82e19e4ef9a",
      "max": 20,
      "min": 0,
      "orientation": "horizontal",
      "style": "IPY_MODEL_c8ee9cebc2504826b73220f353ae4f41",
      "value": 20
     }
    },
    "87314f8d02524d53a0f66461197e281f": {
     "model_module": "@jupyter-widgets/controls",
     "model_name": "HTMLModel",
     "state": {
      "_dom_classes": [],
      "_model_module": "@jupyter-widgets/controls",
      "_model_module_version": "1.5.0",
      "_model_name": "HTMLModel",
      "_view_count": null,
      "_view_module": "@jupyter-widgets/controls",
      "_view_module_version": "1.5.0",
      "_view_name": "HTMLView",
      "description": "",
      "description_tooltip": null,
      "layout": "IPY_MODEL_d291f0ffc6de499eb22526b0b8bf8618",
      "placeholder": "​",
      "style": "IPY_MODEL_a1329abc23494360acbba28c8004aedb",
      "value": " 20/20 [00:25&lt;00:00,  1.26s/it]"
     }
    },
    "892cb8640b984d36b8cc7cf7b6458236": {
     "model_module": "@jupyter-widgets/controls",
     "model_name": "DescriptionStyleModel",
     "state": {
      "_model_module": "@jupyter-widgets/controls",
      "_model_module_version": "1.5.0",
      "_model_name": "DescriptionStyleModel",
      "_view_count": null,
      "_view_module": "@jupyter-widgets/base",
      "_view_module_version": "1.2.0",
      "_view_name": "StyleView",
      "description_width": ""
     }
    },
    "8d3ce26b552041b4aa1fc2be5e3ef317": {
     "model_module": "@jupyter-widgets/base",
     "model_name": "LayoutModel",
     "state": {
      "_model_module": "@jupyter-widgets/base",
      "_model_module_version": "1.2.0",
      "_model_name": "LayoutModel",
      "_view_count": null,
      "_view_module": "@jupyter-widgets/base",
      "_view_module_version": "1.2.0",
      "_view_name": "LayoutView",
      "align_content": null,
      "align_items": null,
      "align_self": null,
      "border": null,
      "bottom": null,
      "display": null,
      "flex": null,
      "flex_flow": null,
      "grid_area": null,
      "grid_auto_columns": null,
      "grid_auto_flow": null,
      "grid_auto_rows": null,
      "grid_column": null,
      "grid_gap": null,
      "grid_row": null,
      "grid_template_areas": null,
      "grid_template_columns": null,
      "grid_template_rows": null,
      "height": null,
      "justify_content": null,
      "justify_items": null,
      "left": null,
      "margin": null,
      "max_height": null,
      "max_width": null,
      "min_height": null,
      "min_width": null,
      "object_fit": null,
      "object_position": null,
      "order": null,
      "overflow": null,
      "overflow_x": null,
      "overflow_y": null,
      "padding": null,
      "right": null,
      "top": null,
      "visibility": null,
      "width": null
     }
    },
    "8f9b3a343e5e43e798babff7195946c0": {
     "model_module": "@jupyter-widgets/controls",
     "model_name": "ProgressStyleModel",
     "state": {
      "_model_module": "@jupyter-widgets/controls",
      "_model_module_version": "1.5.0",
      "_model_name": "ProgressStyleModel",
      "_view_count": null,
      "_view_module": "@jupyter-widgets/base",
      "_view_module_version": "1.2.0",
      "_view_name": "StyleView",
      "bar_color": null,
      "description_width": "initial"
     }
    },
    "90cf4c31018c4aa2bd54730254448005": {
     "model_module": "@jupyter-widgets/controls",
     "model_name": "HTMLModel",
     "state": {
      "_dom_classes": [],
      "_model_module": "@jupyter-widgets/controls",
      "_model_module_version": "1.5.0",
      "_model_name": "HTMLModel",
      "_view_count": null,
      "_view_module": "@jupyter-widgets/controls",
      "_view_module_version": "1.5.0",
      "_view_name": "HTMLView",
      "description": "",
      "description_tooltip": null,
      "layout": "IPY_MODEL_6d91addc4e264c779f869938e2b7cb9f",
      "placeholder": "​",
      "style": "IPY_MODEL_71e597c54c61411f9117e0702a37db95",
      "value": " 170500096/? [00:02&lt;00:00, 56895963.54it/s]"
     }
    },
    "98bb79f754a348119c1fc7d29285526e": {
     "model_module": "@jupyter-widgets/controls",
     "model_name": "DescriptionStyleModel",
     "state": {
      "_model_module": "@jupyter-widgets/controls",
      "_model_module_version": "1.5.0",
      "_model_name": "DescriptionStyleModel",
      "_view_count": null,
      "_view_module": "@jupyter-widgets/base",
      "_view_module_version": "1.2.0",
      "_view_name": "StyleView",
      "description_width": ""
     }
    },
    "9cd20376301e428dbd598da3884126bf": {
     "model_module": "@jupyter-widgets/controls",
     "model_name": "FloatProgressModel",
     "state": {
      "_dom_classes": [],
      "_model_module": "@jupyter-widgets/controls",
      "_model_module_version": "1.5.0",
      "_model_name": "FloatProgressModel",
      "_view_count": null,
      "_view_module": "@jupyter-widgets/controls",
      "_view_module_version": "1.5.0",
      "_view_name": "ProgressView",
      "bar_style": "success",
      "description": "",
      "description_tooltip": null,
      "layout": "IPY_MODEL_febdb4e03cf84189bf2ee736ad3e204f",
      "max": 1,
      "min": 0,
      "orientation": "horizontal",
      "style": "IPY_MODEL_edbadb00d23640309ef134e811cbc7b4",
      "value": 1
     }
    },
    "a0fdeab0f32d413699d515cdae4c8351": {
     "model_module": "@jupyter-widgets/controls",
     "model_name": "HTMLModel",
     "state": {
      "_dom_classes": [],
      "_model_module": "@jupyter-widgets/controls",
      "_model_module_version": "1.5.0",
      "_model_name": "HTMLModel",
      "_view_count": null,
      "_view_module": "@jupyter-widgets/controls",
      "_view_module_version": "1.5.0",
      "_view_name": "HTMLView",
      "description": "",
      "description_tooltip": null,
      "layout": "IPY_MODEL_0c897883a9b5411da0d6b2ac385b36dd",
      "placeholder": "​",
      "style": "IPY_MODEL_7c853f3e228b4703a45f162f998111c4",
      "value": " 20/20 [00:27&lt;00:00,  1.38s/it]"
     }
    },
    "a1329abc23494360acbba28c8004aedb": {
     "model_module": "@jupyter-widgets/controls",
     "model_name": "DescriptionStyleModel",
     "state": {
      "_model_module": "@jupyter-widgets/controls",
      "_model_module_version": "1.5.0",
      "_model_name": "DescriptionStyleModel",
      "_view_count": null,
      "_view_module": "@jupyter-widgets/base",
      "_view_module_version": "1.2.0",
      "_view_name": "StyleView",
      "description_width": ""
     }
    },
    "a1660249d5f0427fa82e84d8749871b6": {
     "model_module": "@jupyter-widgets/base",
     "model_name": "LayoutModel",
     "state": {
      "_model_module": "@jupyter-widgets/base",
      "_model_module_version": "1.2.0",
      "_model_name": "LayoutModel",
      "_view_count": null,
      "_view_module": "@jupyter-widgets/base",
      "_view_module_version": "1.2.0",
      "_view_name": "LayoutView",
      "align_content": null,
      "align_items": null,
      "align_self": null,
      "border": null,
      "bottom": null,
      "display": null,
      "flex": null,
      "flex_flow": null,
      "grid_area": null,
      "grid_auto_columns": null,
      "grid_auto_flow": null,
      "grid_auto_rows": null,
      "grid_column": null,
      "grid_gap": null,
      "grid_row": null,
      "grid_template_areas": null,
      "grid_template_columns": null,
      "grid_template_rows": null,
      "height": null,
      "justify_content": null,
      "justify_items": null,
      "left": null,
      "margin": null,
      "max_height": null,
      "max_width": null,
      "min_height": null,
      "min_width": null,
      "object_fit": null,
      "object_position": null,
      "order": null,
      "overflow": null,
      "overflow_x": null,
      "overflow_y": null,
      "padding": null,
      "right": null,
      "top": null,
      "visibility": null,
      "width": null
     }
    },
    "a8caf20c073f4efa9ebc93141e21f5e4": {
     "model_module": "@jupyter-widgets/base",
     "model_name": "LayoutModel",
     "state": {
      "_model_module": "@jupyter-widgets/base",
      "_model_module_version": "1.2.0",
      "_model_name": "LayoutModel",
      "_view_count": null,
      "_view_module": "@jupyter-widgets/base",
      "_view_module_version": "1.2.0",
      "_view_name": "LayoutView",
      "align_content": null,
      "align_items": null,
      "align_self": null,
      "border": null,
      "bottom": null,
      "display": null,
      "flex": null,
      "flex_flow": null,
      "grid_area": null,
      "grid_auto_columns": null,
      "grid_auto_flow": null,
      "grid_auto_rows": null,
      "grid_column": null,
      "grid_gap": null,
      "grid_row": null,
      "grid_template_areas": null,
      "grid_template_columns": null,
      "grid_template_rows": null,
      "height": null,
      "justify_content": null,
      "justify_items": null,
      "left": null,
      "margin": null,
      "max_height": null,
      "max_width": null,
      "min_height": null,
      "min_width": null,
      "object_fit": null,
      "object_position": null,
      "order": null,
      "overflow": null,
      "overflow_x": null,
      "overflow_y": null,
      "padding": null,
      "right": null,
      "top": null,
      "visibility": null,
      "width": null
     }
    },
    "ac1e6550e1b64a0b8f475803a88e0349": {
     "model_module": "@jupyter-widgets/controls",
     "model_name": "ProgressStyleModel",
     "state": {
      "_model_module": "@jupyter-widgets/controls",
      "_model_module_version": "1.5.0",
      "_model_name": "ProgressStyleModel",
      "_view_count": null,
      "_view_module": "@jupyter-widgets/base",
      "_view_module_version": "1.2.0",
      "_view_name": "StyleView",
      "bar_color": null,
      "description_width": "initial"
     }
    },
    "bcb6d2a410e64f8da5c0a16608883582": {
     "model_module": "@jupyter-widgets/controls",
     "model_name": "ProgressStyleModel",
     "state": {
      "_model_module": "@jupyter-widgets/controls",
      "_model_module_version": "1.5.0",
      "_model_name": "ProgressStyleModel",
      "_view_count": null,
      "_view_module": "@jupyter-widgets/base",
      "_view_module_version": "1.2.0",
      "_view_name": "StyleView",
      "bar_color": null,
      "description_width": "initial"
     }
    },
    "c24a882fb82c4b3d85709c79c6630071": {
     "model_module": "@jupyter-widgets/controls",
     "model_name": "FloatProgressModel",
     "state": {
      "_dom_classes": [],
      "_model_module": "@jupyter-widgets/controls",
      "_model_module_version": "1.5.0",
      "_model_name": "FloatProgressModel",
      "_view_count": null,
      "_view_module": "@jupyter-widgets/controls",
      "_view_module_version": "1.5.0",
      "_view_name": "ProgressView",
      "bar_style": "success",
      "description": "100%",
      "description_tooltip": null,
      "layout": "IPY_MODEL_75a48357c3264c08b383ffcbd6895fce",
      "max": 20,
      "min": 0,
      "orientation": "horizontal",
      "style": "IPY_MODEL_0110d83e82b442b98fcb827f3035af23",
      "value": 20
     }
    },
    "c8ee9cebc2504826b73220f353ae4f41": {
     "model_module": "@jupyter-widgets/controls",
     "model_name": "ProgressStyleModel",
     "state": {
      "_model_module": "@jupyter-widgets/controls",
      "_model_module_version": "1.5.0",
      "_model_name": "ProgressStyleModel",
      "_view_count": null,
      "_view_module": "@jupyter-widgets/base",
      "_view_module_version": "1.2.0",
      "_view_name": "StyleView",
      "bar_color": null,
      "description_width": "initial"
     }
    },
    "c9a824a10dd44c51a3a2de46c9e0216d": {
     "model_module": "@jupyter-widgets/base",
     "model_name": "LayoutModel",
     "state": {
      "_model_module": "@jupyter-widgets/base",
      "_model_module_version": "1.2.0",
      "_model_name": "LayoutModel",
      "_view_count": null,
      "_view_module": "@jupyter-widgets/base",
      "_view_module_version": "1.2.0",
      "_view_name": "LayoutView",
      "align_content": null,
      "align_items": null,
      "align_self": null,
      "border": null,
      "bottom": null,
      "display": null,
      "flex": null,
      "flex_flow": null,
      "grid_area": null,
      "grid_auto_columns": null,
      "grid_auto_flow": null,
      "grid_auto_rows": null,
      "grid_column": null,
      "grid_gap": null,
      "grid_row": null,
      "grid_template_areas": null,
      "grid_template_columns": null,
      "grid_template_rows": null,
      "height": null,
      "justify_content": null,
      "justify_items": null,
      "left": null,
      "margin": null,
      "max_height": null,
      "max_width": null,
      "min_height": null,
      "min_width": null,
      "object_fit": null,
      "object_position": null,
      "order": null,
      "overflow": null,
      "overflow_x": null,
      "overflow_y": null,
      "padding": null,
      "right": null,
      "top": null,
      "visibility": null,
      "width": null
     }
    },
    "ced6027992954db393f4af0972929e74": {
     "model_module": "@jupyter-widgets/controls",
     "model_name": "FloatProgressModel",
     "state": {
      "_dom_classes": [],
      "_model_module": "@jupyter-widgets/controls",
      "_model_module_version": "1.5.0",
      "_model_name": "FloatProgressModel",
      "_view_count": null,
      "_view_module": "@jupyter-widgets/controls",
      "_view_module_version": "1.5.0",
      "_view_name": "ProgressView",
      "bar_style": "success",
      "description": "100%",
      "description_tooltip": null,
      "layout": "IPY_MODEL_c9a824a10dd44c51a3a2de46c9e0216d",
      "max": 20,
      "min": 0,
      "orientation": "horizontal",
      "style": "IPY_MODEL_bcb6d2a410e64f8da5c0a16608883582",
      "value": 20
     }
    },
    "d291f0ffc6de499eb22526b0b8bf8618": {
     "model_module": "@jupyter-widgets/base",
     "model_name": "LayoutModel",
     "state": {
      "_model_module": "@jupyter-widgets/base",
      "_model_module_version": "1.2.0",
      "_model_name": "LayoutModel",
      "_view_count": null,
      "_view_module": "@jupyter-widgets/base",
      "_view_module_version": "1.2.0",
      "_view_name": "LayoutView",
      "align_content": null,
      "align_items": null,
      "align_self": null,
      "border": null,
      "bottom": null,
      "display": null,
      "flex": null,
      "flex_flow": null,
      "grid_area": null,
      "grid_auto_columns": null,
      "grid_auto_flow": null,
      "grid_auto_rows": null,
      "grid_column": null,
      "grid_gap": null,
      "grid_row": null,
      "grid_template_areas": null,
      "grid_template_columns": null,
      "grid_template_rows": null,
      "height": null,
      "justify_content": null,
      "justify_items": null,
      "left": null,
      "margin": null,
      "max_height": null,
      "max_width": null,
      "min_height": null,
      "min_width": null,
      "object_fit": null,
      "object_position": null,
      "order": null,
      "overflow": null,
      "overflow_x": null,
      "overflow_y": null,
      "padding": null,
      "right": null,
      "top": null,
      "visibility": null,
      "width": null
     }
    },
    "d69574764b3840b5a20597ed70f49354": {
     "model_module": "@jupyter-widgets/controls",
     "model_name": "HTMLModel",
     "state": {
      "_dom_classes": [],
      "_model_module": "@jupyter-widgets/controls",
      "_model_module_version": "1.5.0",
      "_model_name": "HTMLModel",
      "_view_count": null,
      "_view_module": "@jupyter-widgets/controls",
      "_view_module_version": "1.5.0",
      "_view_name": "HTMLView",
      "description": "",
      "description_tooltip": null,
      "layout": "IPY_MODEL_3e0e79d77b9f48eab8d68fcaf8b7c6b6",
      "placeholder": "​",
      "style": "IPY_MODEL_2c81a2e5742d49ecadc4d298bc5eba1b",
      "value": " 20/20 [36:17&lt;00:00, 108.89s/it]"
     }
    },
    "d7e20763b7e8465fb1d6b74cb802b06b": {
     "model_module": "@jupyter-widgets/controls",
     "model_name": "HBoxModel",
     "state": {
      "_dom_classes": [],
      "_model_module": "@jupyter-widgets/controls",
      "_model_module_version": "1.5.0",
      "_model_name": "HBoxModel",
      "_view_count": null,
      "_view_module": "@jupyter-widgets/controls",
      "_view_module_version": "1.5.0",
      "_view_name": "HBoxView",
      "box_style": "",
      "children": [
       "IPY_MODEL_6e9cf02bc32f4e8faebfbe6480a76952",
       "IPY_MODEL_32dab76a725448819dee59e2cd745f16"
      ],
      "layout": "IPY_MODEL_5fac7311aff84cbe97e1d05b5755485e"
     }
    },
    "d9cee2381d60422d99efaea929210a9b": {
     "model_module": "@jupyter-widgets/controls",
     "model_name": "HBoxModel",
     "state": {
      "_dom_classes": [],
      "_model_module": "@jupyter-widgets/controls",
      "_model_module_version": "1.5.0",
      "_model_name": "HBoxModel",
      "_view_count": null,
      "_view_module": "@jupyter-widgets/controls",
      "_view_module_version": "1.5.0",
      "_view_name": "HBoxView",
      "box_style": "",
      "children": [
       "IPY_MODEL_0fc00ff2d24d495d949f7438b385e296",
       "IPY_MODEL_87314f8d02524d53a0f66461197e281f"
      ],
      "layout": "IPY_MODEL_2e07fe694a4b4024b4346aec35500a4f"
     }
    },
    "e08a2526a4ce4c55a05032e67a4515a5": {
     "model_module": "@jupyter-widgets/controls",
     "model_name": "HBoxModel",
     "state": {
      "_dom_classes": [],
      "_model_module": "@jupyter-widgets/controls",
      "_model_module_version": "1.5.0",
      "_model_name": "HBoxModel",
      "_view_count": null,
      "_view_module": "@jupyter-widgets/controls",
      "_view_module_version": "1.5.0",
      "_view_name": "HBoxView",
      "box_style": "",
      "children": [
       "IPY_MODEL_09359eb916af46489061ffe25ba66580",
       "IPY_MODEL_d69574764b3840b5a20597ed70f49354"
      ],
      "layout": "IPY_MODEL_1c77fca2688d45bcaf8884f0bcac6321"
     }
    },
    "e5ba4afdbb6a41de9bbcb15379393a93": {
     "model_module": "@jupyter-widgets/controls",
     "model_name": "HTMLModel",
     "state": {
      "_dom_classes": [],
      "_model_module": "@jupyter-widgets/controls",
      "_model_module_version": "1.5.0",
      "_model_name": "HTMLModel",
      "_view_count": null,
      "_view_module": "@jupyter-widgets/controls",
      "_view_module_version": "1.5.0",
      "_view_name": "HTMLView",
      "description": "",
      "description_tooltip": null,
      "layout": "IPY_MODEL_4e0c5379cf144536b2de610a8170f872",
      "placeholder": "​",
      "style": "IPY_MODEL_3982548718184b939f8d0a173d7f8d12",
      "value": " 20/20 [01:09&lt;00:00,  3.48s/it]"
     }
    },
    "ea6bfaaa61ce4ed98abba82e19e4ef9a": {
     "model_module": "@jupyter-widgets/base",
     "model_name": "LayoutModel",
     "state": {
      "_model_module": "@jupyter-widgets/base",
      "_model_module_version": "1.2.0",
      "_model_name": "LayoutModel",
      "_view_count": null,
      "_view_module": "@jupyter-widgets/base",
      "_view_module_version": "1.2.0",
      "_view_name": "LayoutView",
      "align_content": null,
      "align_items": null,
      "align_self": null,
      "border": null,
      "bottom": null,
      "display": null,
      "flex": null,
      "flex_flow": null,
      "grid_area": null,
      "grid_auto_columns": null,
      "grid_auto_flow": null,
      "grid_auto_rows": null,
      "grid_column": null,
      "grid_gap": null,
      "grid_row": null,
      "grid_template_areas": null,
      "grid_template_columns": null,
      "grid_template_rows": null,
      "height": null,
      "justify_content": null,
      "justify_items": null,
      "left": null,
      "margin": null,
      "max_height": null,
      "max_width": null,
      "min_height": null,
      "min_width": null,
      "object_fit": null,
      "object_position": null,
      "order": null,
      "overflow": null,
      "overflow_x": null,
      "overflow_y": null,
      "padding": null,
      "right": null,
      "top": null,
      "visibility": null,
      "width": null
     }
    },
    "ec19b9671dd04c24a0ff71e9d4bc90aa": {
     "model_module": "@jupyter-widgets/controls",
     "model_name": "ProgressStyleModel",
     "state": {
      "_model_module": "@jupyter-widgets/controls",
      "_model_module_version": "1.5.0",
      "_model_name": "ProgressStyleModel",
      "_view_count": null,
      "_view_module": "@jupyter-widgets/base",
      "_view_module_version": "1.2.0",
      "_view_name": "StyleView",
      "bar_color": null,
      "description_width": "initial"
     }
    },
    "edbadb00d23640309ef134e811cbc7b4": {
     "model_module": "@jupyter-widgets/controls",
     "model_name": "ProgressStyleModel",
     "state": {
      "_model_module": "@jupyter-widgets/controls",
      "_model_module_version": "1.5.0",
      "_model_name": "ProgressStyleModel",
      "_view_count": null,
      "_view_module": "@jupyter-widgets/base",
      "_view_module_version": "1.2.0",
      "_view_name": "StyleView",
      "bar_color": null,
      "description_width": "initial"
     }
    },
    "eef24314c98c4d96a2fe7da95acca73d": {
     "model_module": "@jupyter-widgets/controls",
     "model_name": "HTMLModel",
     "state": {
      "_dom_classes": [],
      "_model_module": "@jupyter-widgets/controls",
      "_model_module_version": "1.5.0",
      "_model_name": "HTMLModel",
      "_view_count": null,
      "_view_module": "@jupyter-widgets/controls",
      "_view_module_version": "1.5.0",
      "_view_name": "HTMLView",
      "description": "",
      "description_tooltip": null,
      "layout": "IPY_MODEL_5990afa57ca54270baffd8a002ec4ddc",
      "placeholder": "​",
      "style": "IPY_MODEL_66f80739be794fa88c3767fec195acf0",
      "value": " 20/20 [35:13&lt;00:00, 105.66s/it]"
     }
    },
    "f087f3af3532434089e6698b0a88d06a": {
     "model_module": "@jupyter-widgets/base",
     "model_name": "LayoutModel",
     "state": {
      "_model_module": "@jupyter-widgets/base",
      "_model_module_version": "1.2.0",
      "_model_name": "LayoutModel",
      "_view_count": null,
      "_view_module": "@jupyter-widgets/base",
      "_view_module_version": "1.2.0",
      "_view_name": "LayoutView",
      "align_content": null,
      "align_items": null,
      "align_self": null,
      "border": null,
      "bottom": null,
      "display": null,
      "flex": null,
      "flex_flow": null,
      "grid_area": null,
      "grid_auto_columns": null,
      "grid_auto_flow": null,
      "grid_auto_rows": null,
      "grid_column": null,
      "grid_gap": null,
      "grid_row": null,
      "grid_template_areas": null,
      "grid_template_columns": null,
      "grid_template_rows": null,
      "height": null,
      "justify_content": null,
      "justify_items": null,
      "left": null,
      "margin": null,
      "max_height": null,
      "max_width": null,
      "min_height": null,
      "min_width": null,
      "object_fit": null,
      "object_position": null,
      "order": null,
      "overflow": null,
      "overflow_x": null,
      "overflow_y": null,
      "padding": null,
      "right": null,
      "top": null,
      "visibility": null,
      "width": null
     }
    },
    "fda5c60eaac642f9b9e64d9b8115f37c": {
     "model_module": "@jupyter-widgets/controls",
     "model_name": "HTMLModel",
     "state": {
      "_dom_classes": [],
      "_model_module": "@jupyter-widgets/controls",
      "_model_module_version": "1.5.0",
      "_model_name": "HTMLModel",
      "_view_count": null,
      "_view_module": "@jupyter-widgets/controls",
      "_view_module_version": "1.5.0",
      "_view_name": "HTMLView",
      "description": "",
      "description_tooltip": null,
      "layout": "IPY_MODEL_7b1b4cd3144b4935b3638e87e6b41fc0",
      "placeholder": "​",
      "style": "IPY_MODEL_98bb79f754a348119c1fc7d29285526e",
      "value": " 20/20 [01:14&lt;00:00,  3.71s/it]"
     }
    },
    "febdb4e03cf84189bf2ee736ad3e204f": {
     "model_module": "@jupyter-widgets/base",
     "model_name": "LayoutModel",
     "state": {
      "_model_module": "@jupyter-widgets/base",
      "_model_module_version": "1.2.0",
      "_model_name": "LayoutModel",
      "_view_count": null,
      "_view_module": "@jupyter-widgets/base",
      "_view_module_version": "1.2.0",
      "_view_name": "LayoutView",
      "align_content": null,
      "align_items": null,
      "align_self": null,
      "border": null,
      "bottom": null,
      "display": null,
      "flex": null,
      "flex_flow": null,
      "grid_area": null,
      "grid_auto_columns": null,
      "grid_auto_flow": null,
      "grid_auto_rows": null,
      "grid_column": null,
      "grid_gap": null,
      "grid_row": null,
      "grid_template_areas": null,
      "grid_template_columns": null,
      "grid_template_rows": null,
      "height": null,
      "justify_content": null,
      "justify_items": null,
      "left": null,
      "margin": null,
      "max_height": null,
      "max_width": null,
      "min_height": null,
      "min_width": null,
      "object_fit": null,
      "object_position": null,
      "order": null,
      "overflow": null,
      "overflow_x": null,
      "overflow_y": null,
      "padding": null,
      "right": null,
      "top": null,
      "visibility": null,
      "width": null
     }
    }
   }
  }
 },
 "nbformat": 4,
 "nbformat_minor": 1
}
