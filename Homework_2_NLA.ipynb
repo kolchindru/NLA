{
 "cells": [
  {
   "cell_type": "markdown",
   "metadata": {
    "id": "t9v1vX4-OGIT"
   },
   "source": [
    "# Problem set 2 (35 + 55 + 15 + 28 = 133 pts)"
   ]
  },
  {
   "cell_type": "markdown",
   "metadata": {
    "id": "FOMNJ4TcOGIV"
   },
   "source": [
    "## Problem 1 (LU decomposition) 35 pts\n"
   ]
  },
  {
   "cell_type": "markdown",
   "metadata": {
    "id": "pYHDl6ppOGIV"
   },
   "source": [
    "### 1. LU for band matrices (7 pts)\n",
    "\n",
    "The complexity to find an LU decomposition of a dense $n\\times n$ matrix is $\\mathcal{O}(n^3)$.\n",
    "Significant reduction in complexity can be achieved if the matrix has a certain structure, e.g. it is sparse. \n",
    "In the following task we consider an important example of $LU$ for a special type of sparse matrices –– band matrices with the bandwidth $m$ equal to 3 or 5 which called tridiagonal and pentadiagonal respectively.\n",
    "\n",
    "- (5 pts) Write a function ```band_lu(diag_broadcast, n)``` which computes LU decomposition for tridiagonal or pentadiagonal matrix with given diagonal values. \n",
    "For example, input parametres ```(diag_broadcast = [4,-2,1], n = 4)``` mean that we need to find LU decomposition for the triangular matrix of the form:\n",
    "\n",
    "$$A = \\begin{pmatrix}\n",
    "-2 & 1 & 0 & 0\\\\\n",
    "4 & -2 & 1 & 0 \\\\\n",
    "0 & 4 & -2 & 1 \\\\\n",
    "0 & 0 & 4 & -2 \\\\\n",
    "\\end{pmatrix}.$$\n",
    "\n",
    "As an output it is considered to make ```L``` and ```U``` - 2D arrays representing diagonals in factors $L$ (```L[0]``` keeps first lower diagonal, ```L[1]``` keeps second lower, ...), and $U$ (```U[:,0]``` keeps main diagonal, ```U[:,1]``` keeps first upper, ...).\n",
    "- (2 pts) Compare execution time of the band LU decomposition using standard function from ```scipy```, i.e. which takes the whole matrix and does not know about its special structure, and band decomposition of yours implementation. Comment on the results."
   ]
  },
  {
   "cell_type": "code",
   "execution_count": 666,
   "metadata": {
    "id": "BvY7icWBOGIW"
   },
   "outputs": [],
   "source": [
    "from scipy.sparse import diags # can be used with broadcasting of scalars if desired dimensions are large\n",
    "import numpy as np\n",
    "\n",
    "# INPUT : diag_broadcast - list of diagonals value to broadcast,length equal to 3 or 5; n - integer, band matrix shape.\n",
    "# OUTPUT : L - 2D np.ndarray, L.shape[0] depends on bandwidth, L.shape[1] = n-1, do not store main diagonal, where all ones;                  add zeros to the right side of rows to handle with changing length of diagonals.\n",
    "#          U - 2D np.ndarray, U.shape[0] = n, U.shape[1] depends on bandwidth;\n",
    "#              add zeros to the bottom of columns to handle with changing length of diagonals.\n",
    "def band_lu(diag_broadcast, n, return_real_shape=False):\n",
    "    m = len(diag_broadcast)\n",
    "    if m not in [3, 5]:\n",
    "      raise LookupError(\"Change diag vector size to 3 or 5\")\n",
    "\n",
    "    if n < m:\n",
    "      print(f\"Size of matrix {n} x {n} is less than the bandwidth {m} allows. The matrix is {m} x {m} now.\")\n",
    "      n = m\n",
    "\n",
    "    if m == 3:\n",
    "      a, d, b = diag_broadcast\n",
    "\n",
    "      L = np.zeros((1, n-1))\n",
    "      U = np.zeros((n, 2))\n",
    "\n",
    "      dd_current = d\n",
    "      U[0][0] += dd_current\n",
    "\n",
    "      for i in range(1, n):\n",
    "          if not dd_current:\n",
    "              raise ZeroDivisionError(\"LU doesn't exist\")\n",
    "\n",
    "          bb_current = b / dd_current\n",
    "          L[0][i-1] += bb_current\n",
    "\n",
    "          dd_current = d - bb_current * a\n",
    "          U[:, 0][i] += dd_current\n",
    "\n",
    "      U[:n-1, 1] = a\n",
    "\n",
    "      if return_real_shape:\n",
    "          L = np.diag(L[0],  k=-1) + np.diag([1] * n)\n",
    "          U = np.diag(U[:, 0]) + np.diag(U[:-1, 1], k=1)\n",
    "      return L, U\n",
    "\n",
    "    else:\n",
    "      a, b, c, d, e = diag_broadcast\n",
    "      delta = np.empty(n)\n",
    "      alpha = np.empty(n-1)\n",
    "      beta = np.empty(n-2)\n",
    "      gamma = np.repeat(a, n-2)\n",
    "      tetta = np.empty(n-1)\n",
    "\n",
    "      delta[0] = c \n",
    "      alpha[0] = - d / c\n",
    "      beta[0] = - e / c\n",
    "\n",
    "      delta[1] = c - d * b / c\n",
    "      alpha[1] = (e / c * b - d) / (c - d * b / c)\n",
    "      beta[1] = - e / (c - d * b / c) \n",
    "\n",
    "      for i in range (2, n):\n",
    "        delta[i] = c + (a * alpha[i-2] + b) * alpha[i-1] + a * beta[i-2]\n",
    "        if i <= (n - 2):\n",
    "          alpha[i] = - (d + (a*alpha[i-2] + b) * beta[i-1]) / delta[i]\n",
    "          if i <= (n - 3):\n",
    "            beta[i] = - e / delta[i]\n",
    "      \n",
    "      tetta[0] = b \n",
    "      tetta[1:n-1] = a * alpha[:n-2] + b\n",
    "      if return_real_shape:\n",
    "          L = np.diag(delta) +  np.diag(tetta, k=-1) + np.diag(gamma, k=-2)\n",
    "          U = np.diag([1] * n) - np.diag(alpha, k=1) - np.diag(beta, k=2)\n",
    "      else:\n",
    "          alpha_prod, beta_prod, gamma_prod, tetta_prod = np.zeros(n), np.zeros(n), np.zeros(n), np.zeros(n)\n",
    "          alpha_prod[:n-1] = alpha\n",
    "          beta_prod[:n-2] = beta\n",
    "          gamma_prod[:n-2] = gamma\n",
    "          tetta_prod[:n-1] = tetta\n",
    "          L = np.stack((gamma_prod, tetta_prod, delta))\n",
    "          U = np.stack((-alpha_prod, -beta_prod))\n",
    "\n",
    "    return L, U"
   ]
  },
  {
   "cell_type": "markdown",
   "metadata": {
    "id": "HqTvfVryuyxE"
   },
   "source": [
    "### Note: keyword argument return_real_shape allows us to get the result with true shape (ones one diagonals)"
   ]
  },
  {
   "cell_type": "code",
   "execution_count": 667,
   "metadata": {
    "id": "Xvw8gmOmVuu9"
   },
   "outputs": [],
   "source": [
    "from scipy.linalg import lu"
   ]
  },
  {
   "cell_type": "code",
   "execution_count": 668,
   "metadata": {
    "id": "Sxpr4HNOALA8"
   },
   "outputs": [],
   "source": [
    "L, U = band_lu([5, 6, 7], 5, return_real_shape=True)"
   ]
  },
  {
   "cell_type": "code",
   "execution_count": 669,
   "metadata": {
    "colab": {
     "base_uri": "https://localhost:8080/"
    },
    "id": "QkJt9hkTf0nd",
    "outputId": "15d0cb1d-aad6-491a-9c47-a5eda162ab96"
   },
   "outputs": [
    {
     "data": {
      "text/plain": [
       "array([[6., 5., 0., 0., 0.],\n",
       "       [7., 6., 5., 0., 0.],\n",
       "       [0., 7., 6., 5., 0.],\n",
       "       [0., 0., 7., 6., 5.],\n",
       "       [0., 0., 0., 7., 6.]])"
      ]
     },
     "execution_count": 669,
     "metadata": {
      "tags": []
     },
     "output_type": "execute_result"
    }
   ],
   "source": [
    "L @ U"
   ]
  },
  {
   "cell_type": "code",
   "execution_count": 670,
   "metadata": {
    "colab": {
     "base_uri": "https://localhost:8080/"
    },
    "id": "4t6oFw_Urqr0",
    "outputId": "38e3a486-f7f3-47b8-8744-943cea9638f0"
   },
   "outputs": [
    {
     "name": "stdout",
     "output_type": "stream",
     "text": [
      "Count the error between handwritten and scipy's for m=3:\n",
      "\n",
      "[[ 0.  2.  0.  0.  0.]\n",
      " [-2.  0.  2.  0.  0.]\n",
      " [ 0. -2.  0.  2.  0.]\n",
      " [ 0.  0. -2.  0.  2.]\n",
      " [ 0.  0.  0. -2.  0.]]\n"
     ]
    }
   ],
   "source": [
    "A = diags([8, 9, 10], [-1, 0, 1], shape=(5, 5)).toarray()\n",
    "p, l, u = lu(A)\n",
    "L, U = band_lu([8, 9, 10], 5, return_real_shape=True)\n",
    "print(\"Count the error between handwritten and scipy's for m=3:\\n\")\n",
    "print(p @ l @ u - L @ U)"
   ]
  },
  {
   "cell_type": "code",
   "execution_count": 523,
   "metadata": {
    "id": "rdPkFDEh7uxV"
   },
   "outputs": [],
   "source": [
    "L, U = band_lu([5, 8, 2, 3, 4], 5, return_real_shape=True)"
   ]
  },
  {
   "cell_type": "code",
   "execution_count": null,
   "metadata": {
    "colab": {
     "base_uri": "https://localhost:8080/"
    },
    "id": "yvQ1ApXOg8IB",
    "outputId": "1caf82b0-4181-43b9-c06c-5d67f38abe8c"
   },
   "outputs": [
    {
     "name": "stdout",
     "output_type": "stream",
     "text": [
      "(5, 5) (5, 5)\n",
      "Count the error between handwritten and scipy's for m=5:\n",
      "\n",
      "[[ 0.00000000e+00  0.00000000e+00  0.00000000e+00 -1.77181094e-16\n",
      "   0.00000000e+00]\n",
      " [ 0.00000000e+00  0.00000000e+00  4.44089210e-16  0.00000000e+00\n",
      "   0.00000000e+00]\n",
      " [ 0.00000000e+00  0.00000000e+00  0.00000000e+00  0.00000000e+00\n",
      "   0.00000000e+00]\n",
      " [ 0.00000000e+00  0.00000000e+00  0.00000000e+00  4.44089210e-16\n",
      "   0.00000000e+00]\n",
      " [ 0.00000000e+00  0.00000000e+00  0.00000000e+00  8.88178420e-16\n",
      "   0.00000000e+00]]\n"
     ]
    }
   ],
   "source": [
    "A = diags([5, 8, 2, 3, 4], [-2, -1, 0, 1, 2], shape=(5, 5)).toarray()\n",
    "p, l, u = lu(A)\n",
    "L, U = band_lu([5, 8, 2, 3, 4], 5, return_real_shape=True)\n",
    "print(L.shape, U.shape)\n",
    "print(\"Count the error between handwritten and scipy's for m=5:\\n\")\n",
    "print(p @ l @ u - L @ U)"
   ]
  },
  {
   "cell_type": "code",
   "execution_count": null,
   "metadata": {
    "id": "XVySYJbTOGIa"
   },
   "outputs": [],
   "source": [
    "A = diags([5, 8, 2, 3, 4], [-2, -1, 0, 1, 2], shape=(100, 100)).toarray()\n",
    "B = diags([1, 2, 3], [-1, 0, 1], shape=(100, 100)).toarray()"
   ]
  },
  {
   "cell_type": "code",
   "execution_count": null,
   "metadata": {
    "id": "j8KGh1Ph5PsJ"
   },
   "outputs": [],
   "source": [
    "self_times_3, self_times_5, scipy_times_3, scipy_times_5 = [], [], [], []"
   ]
  },
  {
   "cell_type": "code",
   "execution_count": null,
   "metadata": {
    "id": "nXP6WsR34kp2"
   },
   "outputs": [],
   "source": [
    "for i in np.linspace(10, 500, 15):\n",
    "  N = int(i)\n",
    "  A = diags([1, 2, 3], [-1, 0, 1], shape=(N, N)).toarray()\n",
    "  B = diags([5, 8, 2, 3, 4], [-2, -1, 0, 1, 2], shape=(N, N)).toarray()\n",
    "\n",
    "  self_time_3 = %timeit -o -q band_lu([1, 2, 3], N)\n",
    "  self_times_3.append(self_time_3.worst)\n",
    "\n",
    "  self_time_5 = %timeit -o -q band_lu([5, 8, 2, 3, 4], N)\n",
    "  self_times_5.append(self_time_5.worst)\n",
    "\n",
    "  scipy_time_3 = %timeit -o -q lu(A)\n",
    "  scipy_times_3.append(scipy_time_3.worst)\n",
    "\n",
    "  scipy_time_5 = %timeit -o -q lu(B)\n",
    "  scipy_times_5.append(scipy_time_5.worst)"
   ]
  },
  {
   "cell_type": "code",
   "execution_count": null,
   "metadata": {
    "id": "gj0nyI9E8SYE"
   },
   "outputs": [],
   "source": [
    "n = [int(n) for n in list(np.linspace(10, 500, 15))]"
   ]
  },
  {
   "cell_type": "code",
   "execution_count": null,
   "metadata": {
    "colab": {
     "base_uri": "https://localhost:8080/",
     "height": 513
    },
    "id": "4jIlPCiuvgcN",
    "outputId": "19678048-3be5-41d4-b48f-2881ff892f0b"
   },
   "outputs": [
    {
     "data": {
      "image/png": "[encoded data removed]",
      "text/plain": [
       "<Figure size 864x576 with 1 Axes>"
      ]
     },
     "metadata": {
      "needs_background": "light",
      "tags": []
     },
     "output_type": "display_data"
    }
   ],
   "source": [
    "import matplotlib.pyplot as plt\n",
    "\n",
    "plt.figure(figsize=(12,8))\n",
    "\n",
    "plt.plot(n, self_times_3, label = 'Self function, m=3')\n",
    "plt.plot(n, self_times_5, label = 'Self function, m=5')\n",
    "plt.plot(n, scipy_times_3, label = 'Scipy function, m=3')\n",
    "plt.plot(n, scipy_times_5, label = 'Scipy function, m=5')\n",
    "\n",
    "plt.legend(loc = 'lower right')\n",
    "\n",
    "plt.grid(True)\n",
    "\n",
    "plt.ylabel(\"Computation time\")\n",
    "plt.xlabel(\"n\")\n",
    "plt.title(\"Scipy vs analytical LU time comparison\")\n",
    "plt.show()"
   ]
  },
  {
   "cell_type": "markdown",
   "metadata": {
    "id": "2d2LAVuH9xb0"
   },
   "source": [
    "##### So, the band_lu functions grows like O(n), while the scipy function grows faster. What we know is that band_lu knows that it's dealing with particular type of matrices, and all the loops inside of it are single loops from 1 to n. \n",
    "\n",
    "##### We can't speculate on the mechanics inside the scipy functions, it might have simplification/pattern detection mechanics, but it is defenately slower in dynamics."
   ]
  },
  {
   "cell_type": "markdown",
   "metadata": {
    "id": "_iM6NwHQOGId"
   },
   "source": [
    "### 2. Stability of LU (8 pts)\n",
    "\n",
    "Let\n",
    "$A = \\begin{pmatrix}\n",
    "\\varepsilon & 1 & 0\\\\\n",
    "1 & 1 & 1 \\\\\n",
    "0 & 1 & 1\n",
    "\\end{pmatrix}.$ \n",
    "* (5 pts) Find analytically LU decomposition with and without pivoting for the matrix $A$.\n",
    "* (3 pts) Explain, why can the LU decomposition fail to approximate factors $L$ and $U$ for $|\\varepsilon|\\ll 1$ in computer arithmetic?"
   ]
  },
  {
   "cell_type": "markdown",
   "metadata": {
    "id": "o7V9GNtx2_Mq"
   },
   "source": [
    "## Without pivoting"
   ]
  },
  {
   "cell_type": "markdown",
   "metadata": {
    "id": "CmkB9hxwOGId"
   },
   "source": [
    "$A = \\begin{pmatrix}\n",
    "\\varepsilon & 1 & 0\\\\\n",
    "1 & 1 & 1 \\\\\n",
    "0 & 1 & 1\n",
    "\\end{pmatrix} = \n",
    "LU = \n",
    "\\begin{pmatrix}\n",
    "1 & 0 & 0\\\\\n",
    "l_1 & 1 & 0 \\\\\n",
    "0 & l_2 & 1\n",
    "\\end{pmatrix}\n",
    "\\begin{pmatrix}\n",
    "u_1 & 1 & 0\\\\\n",
    "0 & u_2 & 1 \\\\\n",
    "0 & 0 & u_3\n",
    "\\end{pmatrix}\n",
    "$"
   ]
  },
  {
   "cell_type": "markdown",
   "metadata": {
    "id": "uFY8TV-apCRZ"
   },
   "source": [
    "Let's find explicit formulas for each of unknown elements of the matrices $L$ and $U$.\n",
    "\n",
    "$u_1 \\times 1 = a_{11} = \\varepsilon$\n",
    "\n",
    "$u_1 \\times l_1 = 1$ => $l_1 = \\frac{1}{\\varepsilon}$\n",
    "\n",
    "$l_2 \\times u_2 = a_{32} = 1$ => $l_2 = \\frac{1}{u_2}$\n",
    "\n",
    "$a_{22} = 1 = u_2 \\times 1 + l_1 \\times 1$ => $u_2 = 1 - l_1 = 1 - \\frac{1}{\\varepsilon}$\n",
    "\n",
    "$l_2 = \\frac{1}{1 - \\frac{1}{1-\\varepsilon}} = \\frac{\\varepsilon - 1}{\\varepsilon}$\n",
    "\n",
    "$a_{23} = 1 = l_2 + u_3$ => $u_3 = 1 - l_2 = - \\frac{1}{\\varepsilon - 1}$\n",
    "\n",
    "So, \n",
    "\n",
    "$A = LU = \n",
    "\\begin{pmatrix}\n",
    "1 & 0 & 0\\\\\n",
    "\\frac{1}{\\varepsilon} & 1 & 0 \\\\\n",
    "0 & \\frac{\\varepsilon - 1}{\\varepsilon} & 1\n",
    "\\end{pmatrix}\n",
    "\\begin{pmatrix}\n",
    "\\varepsilon & 1 & 0\\\\\n",
    "0 & 1 - \\frac{1}{\\varepsilon} & 1 \\\\\n",
    "0 & 0 & - \\frac{1}{\\varepsilon - 1}\n",
    "\\end{pmatrix}$"
   ]
  },
  {
   "cell_type": "markdown",
   "metadata": {
    "id": "wgNSLjFMpJ3O"
   },
   "source": [
    "$\\varepsilon$ can't equal 0 or 1 for all the terms of the decomposition to exist. Therefore, we need to use pivoting to avoid those kinds of terms. "
   ]
  },
  {
   "cell_type": "markdown",
   "metadata": {
    "id": "4JoabPsh3GB9"
   },
   "source": [
    "## With pivoting"
   ]
  },
  {
   "cell_type": "markdown",
   "metadata": {
    "id": "mocNPjQk4PP6"
   },
   "source": [
    "Now, we need to permute the rows of the matrix $A$ in a manner that maximizes $a_{11}$, which we divide over."
   ]
  },
  {
   "cell_type": "markdown",
   "metadata": {
    "id": "XEQg3dQ24bo-"
   },
   "source": [
    "So, the desired matrix looks like this:\n",
    "\n",
    "$A = PLU$ \n",
    "\n",
    "Let $P = \\begin{pmatrix}\n",
    "0 & 1 & 0 \\\\\n",
    "0 & 0 & 1\\\\\n",
    "1 & 0 & 0\n",
    "\\end{pmatrix}$ =>\n",
    "\n",
    "\n",
    "$A = \\begin{pmatrix}\n",
    "1 & 1 & 1 \\\\\n",
    "0 & 1 & 1\\\\\n",
    "\\varepsilon & 1 & 0\\\\\n",
    "\\end{pmatrix} = \n",
    "\\begin{pmatrix}\n",
    "1 & 0 & 0 \\\\\n",
    "0 & 1 & 0\\\\\n",
    "l_3 & l_2 & 1\n",
    "\\end{pmatrix}\n",
    "\\begin{pmatrix}\n",
    "u_1 & u_4 & 1 \\\\\n",
    "0 & u_2 & u_5\\\\\n",
    "0 & 0 & u_3\n",
    "\\end{pmatrix} = \n",
    "\\begin{pmatrix}\n",
    "u_1 & u_4 & 1 \\\\\n",
    "0 & u_2 & u_5\\\\\n",
    "u_1 l _3 & u_2 l_2 + u_4 l_3 & u_5 l_2 + u_3 + l_3\n",
    "\\end{pmatrix}$ \n",
    "\n",
    "\n",
    "$u_1 = u_4 = u_2 = 1$\n",
    "\n",
    "$l_3 = \\varepsilon$\n",
    "\n",
    "$l_2 = 1 - \\varepsilon$\n",
    "\n",
    "$u_5 = 1$\n",
    "\n",
    "$u_3 =  - \\varepsilon - (1 - \\varepsilon) = -1$\n",
    "\n",
    "So, \n",
    "\n",
    "$L = \\begin{pmatrix}\n",
    "1 & 0 & 0 \\\\\n",
    "0 & 1 & 0\\\\\n",
    "\\varepsilon & 1 - \\varepsilon & 1\\\\\n",
    "\\end{pmatrix}$\n",
    "\n",
    "$U = \\begin{pmatrix}\n",
    "1 & 1 & 1 \\\\\n",
    "0 & 1 & 1\\\\\n",
    "0 & 0 & - 1\\\\\n",
    "\\end{pmatrix}$"
   ]
  },
  {
   "cell_type": "markdown",
   "metadata": {
    "id": "Y-Ne0Ef0UE3f"
   },
   "source": [
    "Now we avoided dividing over epsilon, which allows epsilon to be arbitary"
   ]
  },
  {
   "cell_type": "markdown",
   "metadata": {
    "id": "tF7WsnrfU19Y"
   },
   "source": [
    "### LU can fail with small enough $\\varepsilon$, because\n",
    "In order for LU decomposition to be stable, we need to make sure that the floating point arithmetic specifics didn't result into exceeding the calculation offset accuracy. Floating point numbers with large mantissa are very unreable in this situation."
   ]
  },
  {
   "cell_type": "markdown",
   "metadata": {
    "id": "EQwdRJSIOGIg"
   },
   "source": [
    "### 3. Block LU (10 pts)\n",
    "\n",
    "Let $A = \\begin{bmatrix} A_{11} & A_{12} \\\\ A_{21} & A_{22} \\end{bmatrix}$ be a block matrix. The goal is to solve the linear system\n",
    "\n",
    "$$\n",
    "     \\begin{bmatrix} A_{11} & A_{12} \\\\ A_{21} & A_{22} \\end{bmatrix} \\begin{bmatrix} u_1 \\\\ u_2 \\end{bmatrix} = \\begin{bmatrix} f_1 \\\\ f_2 \\end{bmatrix}.\n",
    "$$\n",
    "\n",
    "* (2 pts) Using block elimination find matrix $S$ and right-hand side $\\hat{f_2}$ so that $u_2$ can be found from $S u_2 = \\hat{f_2}$. Note that the matrix $S$ is called <font color='red'> Schur complement </font> of the block $A_{11}$.\n",
    "* (4 pts) Using Schur complement properties prove that \n",
    "\n",
    "$$\\det(X+AB) = \\det(X)\\det(I+BX^{-1}A), $$\n",
    "\n",
    "\n",
    "where $X$ - nonsingular square matrix.\n",
    "* (4 pts) Let matrix $F \\in \\mathbb{R}^{m \\times n}$ and $G \\in \\mathbb{R}^{n \\times m}$. Prove that \n",
    "\n",
    "$$\\det(I_m - FG) = \\det(I_n - GF).$$"
   ]
  },
  {
   "cell_type": "markdown",
   "metadata": {
    "id": "32HpfOPMOGIg"
   },
   "source": [
    "##1.\n",
    "From now on let's work with the expanded matrix of the equation.\n",
    "\n",
    "\\begin{bmatrix} A_{11} & A_{12} & f_1\\\\ A_{21} & A_{22} & f_2\\end{bmatrix}\n",
    "\n",
    "Let's eliminate $A_{21}$. Let $r_1$ and $r_2$ be the rows of the matrix. From now on, $r_2 = r_2 -  A_{21} A_{11}^{-1} r_1$ (i.e. we eliminate the first row multiplied by $A_{21} A_{11}^{-1}$ from the left side).\n",
    "\n",
    "Therefore, we have\n",
    "\n",
    "$$\n",
    "\\begin{bmatrix} A_{11} & A_{12}\\\\ 0 & A_{22} - A_{21} A_{11}^{-1} A_{12} \\end{bmatrix} \\begin{bmatrix}u_1 \\\\ u_2 \\end{bmatrix} = \\begin{bmatrix}f_1 \\\\ f_2 - A_{21} A_{11}^{-1} f_1\\end{bmatrix}\n",
    "$$\n",
    "\n",
    "Thus, we conclude, that:\n",
    "\n",
    "$\\hat{f_2} = f_2 - A_{21} A_{11}^{-1} f_1$\n",
    "\n",
    "and\n",
    "\n",
    "$S = A_{22} - A_{21} A_{11}^{-1} A_{12}$"
   ]
  },
  {
   "cell_type": "markdown",
   "metadata": {
    "id": "foyU8NbZJ9nS"
   },
   "source": [
    "##2. \n",
    "For us in order to use Schur complement, we first need to construct a block matrix from the given ones.\n",
    "\n",
    "$M = \\begin{bmatrix} I & -B \\\\ A & X \\end{bmatrix}$\n",
    "\n",
    "In order to find Schur decomposition with respect to a particular block, we need this block to be invertible. That leads us to an idea to find Schur complement with respect to $X$. Since $X$ is non-singulare\\, we can invert it.\n",
    "\n",
    "Let's use a formula for Schur complement from [here](https://en.wikipedia.org/wiki/Schur_complement):\n",
    "\n",
    "$S(M, X) = I + B X^{-1}A$\n",
    "\n",
    "Let's go back to the formula we need to prove:\n",
    "\n",
    "$\\det(X+BA) = \\det(X)\\det(I+BX^{-1}A) \\Leftrightarrow det(M) = \\det(X)\\det(S(M, X))$\n",
    "\n",
    "The latter is the property of Schur complement. So, we proved the statement by the requested property.\n",
    "\n"
   ]
  },
  {
   "cell_type": "markdown",
   "metadata": {
    "id": "rGxS0SuWknQ6"
   },
   "source": [
    "## 3.\n"
   ]
  },
  {
   "cell_type": "markdown",
   "metadata": {
    "id": "AJsnIHOScXZK"
   },
   "source": [
    "We need to consider two matrices:\n",
    "\n",
    "$M_1 = \\begin{bmatrix} I_m & F \\\\ G & I_m \\end{bmatrix}$\n",
    "\n",
    "$M_2 = \\begin{bmatrix} I_n & G \\\\ F & I_n \\end{bmatrix}$\n",
    "\n",
    "And we need to proof that $\\det{M_1} = \\det{M_2}$\n",
    "\n",
    "$\\det{M_{1}} = \\det(I_m) \\det(S(M_1, I_m)) = \\det(I_m) \\det(I_m - GF) = \\det(I_m - GF)$\n",
    "\n",
    "$\\det{M_{2}} = \\det(I_n) \\det(S(M_2, I_n) = \\det(I_n) \\det(I_n - FG) = \\det(I_n - FG)$\n",
    "\n",
    "**[Sylvester's determinant](https://en.wikipedia.org/wiki/Determinant#Sylvester's_determinant_theorem)** theorem states that:\n",
    "\n",
    "$\\det(I_m + BA) = \\det(I_n + AB)$ for $A \\in \\mathbb{R}^{n \\times m}$ and $B \\in \\mathbb{R}^{m \\times n}$\n",
    "\n",
    "Let $BA = - GF$ and $AB = - FG$, therefore we proved that $\\det(I_m - GF) = \\det(I_n - FG)$"
   ]
  },
  {
   "cell_type": "markdown",
   "metadata": {
    "id": "YFc3BR_TOGIj"
   },
   "source": [
    "### 4. Efficient implementation of LU decomposition (10 pts)\n",
    "\n",
    "In the lecture we provide naive implementation of LU factorization with loops and elementwise update of factors. In this subproblem we ask you to provide more efficient implementation of LU factorization and explain how you derive this implementation (main ideas and how you use them in this particular case). \n",
    "- (1 pts) Main idea for speed up computation of LU factorization (without using built-in function!) \n",
    "- (4 pts) Implement the presented approach to speed up LU \n",
    "- (1 pts) Illustrate numerically that your implementation is correct\n",
    "- (2 pts) Provide the comparison of running time of naive implementation from the lecture, your implementation and NumPy built-in function for range of matrix dimensions. We expect you plot the running time vs matrix dimension for these implementations. So you should get the plot with three lines.\n",
    "- (2 pts) Discuss the obtained results and explain what other tricks are possible to accelerate computing the LU factorization. \n",
    "\n",
    "NumPy or JAX are both ok in this subproblem, but please use the single library for all implementations. "
   ]
  },
  {
   "cell_type": "markdown",
   "metadata": {
    "id": "EZxS0b73qQOI"
   },
   "source": [
    "##1.\n",
    "First let's revisit the naive implementation from the lecture (seeking what to imporve and also for comparing purposes)"
   ]
  },
  {
   "cell_type": "code",
   "execution_count": 574,
   "metadata": {
    "id": "qxdHXPkCldPf"
   },
   "outputs": [],
   "source": [
    "import jax.numpy as jnp\n",
    "import jax\n",
    "\n",
    "def naive_LU_decomposition(matrix):\n",
    "    n = matrix.shape[0]\n",
    "    L = jnp.zeros((n, n))\n",
    "    U = jnp.zeros((n, n))\n",
    "    for k in range(n): #Eliminate one row   \n",
    "        L = jax.ops.index_update(L, jax.ops.index[k, k], 1)\n",
    "        for i in range(k+1, n):\n",
    "            L = jax.ops.index_update(L, jax.ops.index[i, k], matrix[i, k] / matrix[k, k])\n",
    "            for j in range(k+1, n):\n",
    "                matrix = jax.ops.index_add(matrix, jax.ops.index[i, j], -L[i, k] * matrix[k, j])\n",
    "        for j in range(k, n):\n",
    "            U = jax.ops.index_update(U, jax.ops.index[k, j], matrix[k, j])\n",
    "    return L, U"
   ]
  },
  {
   "cell_type": "markdown",
   "metadata": {
    "id": "706RiO0uHQ-B"
   },
   "source": [
    "The main idea i'd like to propose is computing LU using dot products of vectors already computed in L and U"
   ]
  },
  {
   "cell_type": "markdown",
   "metadata": {
    "id": "dM8yl39JHyvC"
   },
   "source": [
    "## 2."
   ]
  },
  {
   "cell_type": "code",
   "execution_count": 563,
   "metadata": {
    "id": "6URZiGcA0X_6"
   },
   "outputs": [],
   "source": [
    "def LU_decomposition(A):\n",
    "    L = np.zeros_like(A)\n",
    "    U = np.zeros_like(A)\n",
    "    N = A.shape[0]\n",
    "\n",
    "    for k in range(N):\n",
    "        L[k, k] = 1\n",
    "        U[k, k] = A[k, k] - L[k, :k] @ U[:k, k]\n",
    "        for j in range(k+1, N):\n",
    "            U[k, j] = A[k, j] - L[k, :k] @ U[:k, j]\n",
    "        for i in range(k+1, N):\n",
    "            L[i, k] = (A[i, k] - L[i, :k] @ U[:k, k]) / U[k, k]\n",
    "\n",
    "    return L, U"
   ]
  },
  {
   "cell_type": "markdown",
   "metadata": {
    "id": "Uerk2DafHr1J"
   },
   "source": [
    "## 3."
   ]
  },
  {
   "cell_type": "code",
   "execution_count": 564,
   "metadata": {
    "id": "iIlw1q-FH01B"
   },
   "outputs": [],
   "source": [
    "A = np.random.rand(10, 10)"
   ]
  },
  {
   "cell_type": "code",
   "execution_count": 565,
   "metadata": {
    "id": "fPQeFE0xIDy7"
   },
   "outputs": [],
   "source": [
    "L, U = LU_decomposition(A)"
   ]
  },
  {
   "cell_type": "code",
   "execution_count": 567,
   "metadata": {
    "colab": {
     "base_uri": "https://localhost:8080/"
    },
    "id": "uDkFm4cZH39T",
    "outputId": "2137a3aa-de76-4a32-b426-a328888a58ca"
   },
   "outputs": [
    {
     "data": {
      "text/plain": [
       "8.028300246820663e-17"
      ]
     },
     "execution_count": 567,
     "metadata": {
      "tags": []
     },
     "output_type": "execute_result"
    }
   ],
   "source": [
    "np.mean(A - L @ U)"
   ]
  },
  {
   "cell_type": "markdown",
   "metadata": {
    "id": "GeZD-hFaIPiR"
   },
   "source": [
    "## 4."
   ]
  },
  {
   "cell_type": "code",
   "execution_count": 693,
   "metadata": {
    "id": "tQQCAdBkIRnx"
   },
   "outputs": [],
   "source": [
    "def time_the_computation(function, n):\n",
    "    A = np.random.rand(n, n)\n",
    "    global f\n",
    "    f = function\n",
    "    time = %timeit -oq f(A)\n",
    "    return time.best"
   ]
  },
  {
   "cell_type": "code",
   "execution_count": 694,
   "metadata": {
    "id": "9MF7p8yHKWMK"
   },
   "outputs": [],
   "source": [
    "from tqdm import tqdm_notebook"
   ]
  },
  {
   "cell_type": "code",
   "execution_count": 695,
   "metadata": {
    "colab": {
     "base_uri": "https://localhost:8080/",
     "height": 117,
     "referenced_widgets": [
      "89a74f4e248b41469482e7c7d35bc2a8",
      "a2e7ab47f52a4e7ebfe48d86cf5e7c73",
      "0df1730812d942edb96c76fed0f0e5c5",
      "d75bd3e692ba4bd6b35c6546642e5914",
      "86e8698d77ba43398326d042235132fb",
      "74ba1df9ee50408b903fc9056c1a1150",
      "e5dbd70dc3304503bc887956898164af",
      "9640f2dfa71843d98530f123a7047020"
     ]
    },
    "id": "zQkGNtwSJJhK",
    "outputId": "b21463a4-56c4-4e74-dae6-ea6716a8b81c"
   },
   "outputs": [
    {
     "name": "stderr",
     "output_type": "stream",
     "text": [
      "/usr/local/lib/python3.6/dist-packages/ipykernel_launcher.py:1: TqdmDeprecationWarning: This function will be removed in tqdm==5.0.0\n",
      "Please use `tqdm.notebook.tqdm` instead of `tqdm.tqdm_notebook`\n",
      "  \"\"\"Entry point for launching an IPython kernel.\n"
     ]
    },
    {
     "data": {
      "application/vnd.jupyter.widget-view+json": {
       "model_id": "89a74f4e248b41469482e7c7d35bc2a8",
       "version_major": 2,
       "version_minor": 0
      },
      "text/plain": [
       "HBox(children=(FloatProgress(value=0.0, max=23.0), HTML(value='')))"
      ]
     },
     "metadata": {
      "tags": []
     },
     "output_type": "display_data"
    },
    {
     "name": "stdout",
     "output_type": "stream",
     "text": [
      "\n"
     ]
    }
   ],
   "source": [
    "naive_LU_times = [time_the_computation(naive_LU_decomposition, i) for i in tqdm_notebook(range(2, 25))]"
   ]
  },
  {
   "cell_type": "code",
   "execution_count": 696,
   "metadata": {
    "colab": {
     "base_uri": "https://localhost:8080/",
     "height": 117,
     "referenced_widgets": [
      "4d6ad9a4079c40f3aca02ae16feaf5e0",
      "be281facc9d640bba19944ec5c07e5bc",
      "0f638449fad94e24b2e038a48d8ed6c0",
      "e4280a66d61c4a33b8a315d339c31440",
      "e0e98f233c094723ae5e770a0630035a",
      "2fbc1e6925da4502988b0a116232e8e4",
      "e8712da7e8f645f5af765a7d47af4da4",
      "31cf0ee98db6450188a37dd6ac18e5c6"
     ]
    },
    "id": "xa9pGQQgLjKi",
    "outputId": "2de16ab9-289f-4c76-8140-e1837a2eabe3"
   },
   "outputs": [
    {
     "name": "stderr",
     "output_type": "stream",
     "text": [
      "/usr/local/lib/python3.6/dist-packages/ipykernel_launcher.py:1: TqdmDeprecationWarning: This function will be removed in tqdm==5.0.0\n",
      "Please use `tqdm.notebook.tqdm` instead of `tqdm.tqdm_notebook`\n",
      "  \"\"\"Entry point for launching an IPython kernel.\n"
     ]
    },
    {
     "data": {
      "application/vnd.jupyter.widget-view+json": {
       "model_id": "4d6ad9a4079c40f3aca02ae16feaf5e0",
       "version_major": 2,
       "version_minor": 0
      },
      "text/plain": [
       "HBox(children=(FloatProgress(value=0.0, max=23.0), HTML(value='')))"
      ]
     },
     "metadata": {
      "tags": []
     },
     "output_type": "display_data"
    },
    {
     "name": "stdout",
     "output_type": "stream",
     "text": [
      "\n"
     ]
    }
   ],
   "source": [
    "my_LU_times = [time_the_computation(LU_decomposition, i) for i in tqdm_notebook(range(2, 25))]"
   ]
  },
  {
   "cell_type": "code",
   "execution_count": 697,
   "metadata": {
    "id": "VzltvjE6Lwbh"
   },
   "outputs": [],
   "source": [
    "from scipy.linalg import lu"
   ]
  },
  {
   "cell_type": "code",
   "execution_count": 698,
   "metadata": {
    "colab": {
     "base_uri": "https://localhost:8080/",
     "height": 117,
     "referenced_widgets": [
      "b9bec5c6198442cdb1a1e070bf008bda",
      "5c653588a2e44a41acf0bced585dfdf8",
      "5d4f6e262cc84a15b54e56bc28b5564f",
      "24b7e8ec4bfc4e3e9998404fdbdc2708",
      "1d10358cf02c4413b24734feb4cbfbe2",
      "5950af17353a45348fdd3c1786884a16",
      "2fbdd14f2fa44d82a6203dc111596510",
      "90fcc9f87fb84824a601b45e6d6ce15f"
     ]
    },
    "id": "3C6uocGxLp8R",
    "outputId": "a82b783e-73d0-4981-a811-39b861fd2936"
   },
   "outputs": [
    {
     "name": "stderr",
     "output_type": "stream",
     "text": [
      "/usr/local/lib/python3.6/dist-packages/ipykernel_launcher.py:1: TqdmDeprecationWarning: This function will be removed in tqdm==5.0.0\n",
      "Please use `tqdm.notebook.tqdm` instead of `tqdm.tqdm_notebook`\n",
      "  \"\"\"Entry point for launching an IPython kernel.\n"
     ]
    },
    {
     "data": {
      "application/vnd.jupyter.widget-view+json": {
       "model_id": "b9bec5c6198442cdb1a1e070bf008bda",
       "version_major": 2,
       "version_minor": 0
      },
      "text/plain": [
       "HBox(children=(FloatProgress(value=0.0, max=23.0), HTML(value='')))"
      ]
     },
     "metadata": {
      "tags": []
     },
     "output_type": "display_data"
    },
    {
     "name": "stdout",
     "output_type": "stream",
     "text": [
      "\n"
     ]
    }
   ],
   "source": [
    "scipy_LU_times = [time_the_computation(lu, i) for i in tqdm_notebook(range(2, 25))]"
   ]
  },
  {
   "cell_type": "code",
   "execution_count": 700,
   "metadata": {
    "id": "Ix5X6xZCMbgJ"
   },
   "outputs": [],
   "source": [
    "n_range = list(range(2, 25))"
   ]
  },
  {
   "cell_type": "code",
   "execution_count": 701,
   "metadata": {
    "colab": {
     "base_uri": "https://localhost:8080/",
     "height": 350
    },
    "id": "S9G2gl3OMePR",
    "outputId": "3cd0a395-b5af-4978-8eb9-9917ab8d9ce0"
   },
   "outputs": [
    {
     "data": {
      "image/png": "[encoded data removed]",
      "text/plain": [
       "<Figure size 576x360 with 1 Axes>"
      ]
     },
     "metadata": {
      "needs_background": "light",
      "tags": []
     },
     "output_type": "display_data"
    }
   ],
   "source": [
    "import matplotlib.pyplot as plt\n",
    "\n",
    "plt.figure(figsize=(8,5))\n",
    "\n",
    "plt.plot(n_range, naive_LU_times, label = 'Naive LU')\n",
    "plt.plot(n_range, my_LU_times, label = 'Dot product LU')\n",
    "plt.plot(n_range, scipy_LU_times, label = 'Scipy LU')\n",
    "\n",
    "plt.legend(loc = 'lower right')\n",
    "\n",
    "plt.grid(True)\n",
    "\n",
    "plt.ylabel(\"Computation time\")\n",
    "plt.xlabel(\"n\")\n",
    "plt.title(\"Estimating big O(n) notation with fixed k for different LU decompositions\")\n",
    "plt.show()"
   ]
  },
  {
   "cell_type": "markdown",
   "metadata": {
    "id": "9Hlu4vE-P5mR"
   },
   "source": [
    "## 5.\n",
    "Well, it seems like good old double loop is slow as usual, where as escaping it somehow makes the running time better. One could also try detect some signs of sparsity to reduce the running time (if possible)."
   ]
  },
  {
   "cell_type": "markdown",
   "metadata": {
    "id": "8DaPAmZPOGIm"
   },
   "source": [
    "## Problem 2 (eigenvalues)  55 pts\n",
    "\n",
    "### 1. Theoretical tasks (10 pts)\n",
    "\n",
    "* (5 pts) Prove that normal matrix is Hermitian iff its eigenvalues are real. Prove that normal matrix is unitary iff its eigenvalues satisfy $|\\lambda| = 1$. \n",
    "\n",
    "* (5 pts) The following problem illustrates instability of the Jordan form. Find theoretically the eigenvalues of the perturbed Jordan block:\n",
    "\n",
    "$$\n",
    "    J(\\varepsilon) = \n",
    "    \\begin{bmatrix} \n",
    "     \\lambda & 1 & & & 0 \\\\ \n",
    "     & \\lambda & 1 & & \\\\ \n",
    "     &  & \\ddots & \\ddots & \\\\ \n",
    "     & & & \\lambda & 1 \\\\ \n",
    "     \\varepsilon & & & & \\lambda  \\\\ \n",
    "    \\end{bmatrix}_{n\\times n}\n",
    "$$\n",
    "\n",
    "Comment how eigenvalues of $J(0)$ are perturbed for large $n$."
   ]
  },
  {
   "cell_type": "markdown",
   "metadata": {
    "id": "8YjdL7f9UuDc"
   },
   "source": [
    "## 1.\n",
    "1) $A$ is normal, therefore $AA^{*} = A^{*}A$\n",
    "\n",
    "Also, since $A$ is normal, we could achieve a given eigendecomposition:\n",
    "\n",
    "$A = U \\Lambda U^{*}$\n",
    "\n",
    "We've got real eigenvalues and we need to proof $A = A^{*}$. Since they are real, $\\Lambda = \\Lambda^{*}$ also holds.\n",
    "\n",
    "Thus, $A^{*} = (U \\Lambda U^{*})^{*} = U^{*} \\Lambda^{*} U = U \\Lambda U^{*} = A$, or $A^{*} = A$, which we needed to proof.\n",
    "\n",
    "2) We have $|\\lambda|$ = 1 and need to proof that $A$ is now unitary, or $AA^{*} = A^{*}A = I$.\n",
    "\n",
    "Again, since $A$ is normal, we could achieve a given eigendecomposition:\n",
    "\n",
    "$A = U \\Lambda U^{*}$\n",
    "\n",
    "Thus, $AA^{*} = U \\Lambda U^{*} U \\Lambda^{*} U^{*} = U \\Lambda \\Lambda^{*} U^*$\n",
    "\n",
    "Now, $\\Lambda \\Lambda^{*} = diag(|\\lambda_1|, |\\lambda_2|, ... |\\lambda_n|) = I_n$. This means that $AA^{*} = I$, so we proved."
   ]
  },
  {
   "cell_type": "markdown",
   "metadata": {
    "id": "UUMwf9pNJsu0"
   },
   "source": [
    "##2."
   ]
  },
  {
   "cell_type": "markdown",
   "metadata": {
    "id": "S5s9ebPe3eNC"
   },
   "source": [
    "So we need to solve $\\det{(J(\\varepsilon) - \\Lambda I)} = 0$\n",
    "\n",
    "Let's compute the left part:\n",
    "\n",
    "$\\det{(J(\\varepsilon) - \\lambda' I)} = (\\lambda - \\Lambda_0)^n + (-1)^{n+1} \\varepsilon = 0$\n",
    "\n",
    "Therefore, \n",
    "\n",
    "$\\lambda - \\Lambda = \\sqrt[n]{(-1)^{n+1} \\varepsilon} =  \\sqrt[n]\\varepsilon$"
   ]
  },
  {
   "cell_type": "markdown",
   "metadata": {
    "id": "WgFjsnWR_Q1A"
   },
   "source": [
    "Well, since $0$ numerically is never realy $0$, but some value close to $0$, the n-th root of this value would be very close to $1$, which will create an eigenvalue error of $1$."
   ]
  },
  {
   "cell_type": "markdown",
   "metadata": {
    "id": "xWcyqKyrOGIp"
   },
   "source": [
    "### 2. PageRank (35 pts)\n",
    "\n",
    "\n",
    "#### Damping factor importance\n",
    "\n",
    "* (5 pts) Write the function ```pagerank_matrix(G)``` that takes an adjacency matrix $G$ (in both sparse and dense formats) as an input and outputs the corresponding PageRank matrix $A$."
   ]
  },
  {
   "cell_type": "markdown",
   "metadata": {
    "id": "RLuN24vOJ3G6"
   },
   "source": [
    "## 1."
   ]
  },
  {
   "cell_type": "code",
   "execution_count": null,
   "metadata": {
    "id": "2jktwIc8OGIp"
   },
   "outputs": [],
   "source": [
    "import numpy as np \n",
    "from scipy.sparse import issparse, csr_matrix\n",
    "# INPUT:  G - np.ndarray or sparse matrix\n",
    "# OUTPUT: A - np.ndarray (of size G.shape) or sparse matrix\n",
    "def pagerank_matrix(G):\n",
    "  rows, cols = G.shape\n",
    "  if issparse(G):\n",
    "      nonzero_row, nonzero_col = G.nonzero()\n",
    "      data = G.data\n",
    "      col_sum = G.sum(axis=0)\n",
    "      col_normalized = np.array(1/col_sum)[0]\n",
    "      new_data = np.zeros(data.shape)\n",
    "      for i, item in enumerate(nonzero_col):\n",
    "          new_data[i] = col_normalized[item]\n",
    "      return csr_matrix((new_data, (nonzero_row, nonzero_col)), shape=(G.shape[0], G.shape[0]))\n",
    "  else:\n",
    "      A = np.zeros((rows, cols))\n",
    "      A, G = np.transpose(A), np.transpose(G)\n",
    "      for i in range(rows):\n",
    "          A[i,:] = G[i, :]/np.sum(G[i, :]) if np.any(G[i, :]) else np.zeros(len(G[i, :]))\n",
    "      A, G = np.transpose(A), np.transpose(G)\n",
    "  return A"
   ]
  },
  {
   "cell_type": "markdown",
   "metadata": {
    "id": "BtVmgGnYOGIs"
   },
   "source": [
    "* (3 pts) Find PageRank matrix $A$ that corresponds to the following graph: <img src=\"graph.png\" width='250'>\n",
    "What is its largest eigenvalue? What multiplicity does it have?\n",
    "\n",
    "\n",
    "* (5 pts) Implement the power method for a given matrix $A$, an initial guess $x_0$ and a number of iterations ```num_iter```. It should be organized as a function ```power_method(A, x0, num_iter)``` that outputs approximation to eigenvector $x$, eigenvalue $\\lambda$ and history of residuals $\\{\\|Ax_k - \\lambda_k x_k\\|_2\\}$. Make sure that the method converges to the correct solution on a matrix $\\begin{bmatrix} 2 & -1 \\\\ -1 & 2 \\end{bmatrix}$ which is known to have the largest eigenvalue equal to $3$."
   ]
  },
  {
   "cell_type": "markdown",
   "metadata": {
    "id": "eSX3Hj9eJ5ML"
   },
   "source": [
    "## 2."
   ]
  },
  {
   "cell_type": "markdown",
   "metadata": {
    "id": "W6Dg91b0DMSQ"
   },
   "source": [
    "![graph[1].png](data:image/png;base64,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)"
   ]
  },
  {
   "cell_type": "markdown",
   "metadata": {
    "id": "RHxfX1sf0DkZ"
   },
   "source": [
    "Recreate the adjacency matrix and compute the pagerank matrix using our function:"
   ]
  },
  {
   "cell_type": "code",
   "execution_count": null,
   "metadata": {
    "id": "XcoyfV2MDWCr"
   },
   "outputs": [],
   "source": [
    "A = np.array([[0, 0, 1, 0, 0],\n",
    "              [1, 0, 1, 0, 0],\n",
    "              [0, 1, 0, 0, 0],\n",
    "              [0, 0, 0, 0, 1],\n",
    "              [0, 0, 0, 1, 0]])"
   ]
  },
  {
   "cell_type": "code",
   "execution_count": null,
   "metadata": {
    "id": "2P360jzTESHb"
   },
   "outputs": [],
   "source": [
    "A_rank = pagerank_matrix(A)"
   ]
  },
  {
   "cell_type": "code",
   "execution_count": null,
   "metadata": {
    "colab": {
     "base_uri": "https://localhost:8080/"
    },
    "id": "tOVsaXNnA8UU",
    "outputId": "e1508936-36e7-4c26-e0d0-26edf8209bb2"
   },
   "outputs": [
    {
     "data": {
      "text/plain": [
       "array([[0. , 0. , 0.5, 0. , 0. ],\n",
       "       [1. , 0. , 0.5, 0. , 0. ],\n",
       "       [0. , 1. , 0. , 0. , 0. ],\n",
       "       [0. , 0. , 0. , 0. , 1. ],\n",
       "       [0. , 0. , 0. , 1. , 0. ]])"
      ]
     },
     "execution_count": 4,
     "metadata": {
      "tags": []
     },
     "output_type": "execute_result"
    }
   ],
   "source": [
    "A_rank"
   ]
  },
  {
   "cell_type": "markdown",
   "metadata": {
    "id": "klB_9WSpxYns"
   },
   "source": [
    "Let's create characteristic polynomial:\n",
    "$$\n",
    "\\det{\\begin{pmatrix}\n",
    "-\\lambda & 0 & 0.5 & 0 & 0\\\\\n",
    "1 & -\\lambda & 0.5 & 0 & 0\\\\\n",
    "0 & 1 & -\\lambda & 0 & 0\\\\\n",
    "0 & 0 & 0 &-\\lambda & 1\\\\\n",
    "0 & 0 & 0 & 1 & -\\lambda\n",
    "\\end{pmatrix}} = - \\lambda (1-\\lambda)^2(\\lambda + 1)^2\n",
    "$$ \n",
    "\n",
    "Thus, the $\\lambda_{max} = 1$, it's multiplicity equals 2"
   ]
  },
  {
   "cell_type": "markdown",
   "metadata": {
    "id": "7HJEmxMaKJKr"
   },
   "source": [
    "## 3."
   ]
  },
  {
   "cell_type": "code",
   "execution_count": null,
   "metadata": {
    "id": "uLo7A--rOGIs"
   },
   "outputs": [],
   "source": [
    "# INPUT:  A - np.ndarray (2D), x0 - np.ndarray (1D), num_iter - integer (positive)\n",
    "# OUTPUT: x - np.ndarray (of size x0), l - float, res - np.ndarray (of size num_iter + 1 [include initial guess])\n",
    "import numpy as np\n",
    "\n",
    "def power_method(A, x0, num_iter): # 5 pts\n",
    "    x_i = x0\n",
    "    res = np.empty(num_iter)\n",
    "    for i in range(num_iter): \n",
    "        x_i = A @ x_i\n",
    "        x_i = x_i / np.linalg.norm(x_i)\n",
    "        l = np.dot(A @ x_i, x_i)\n",
    "        res[i] = np.linalg.norm(A @ x_i - l * x_i)\n",
    "    return x_i, l, res"
   ]
  },
  {
   "cell_type": "markdown",
   "metadata": {
    "id": "aFTzxb3FAKBt"
   },
   "source": [
    "Let's check correctness using the proposed matrix:"
   ]
  },
  {
   "cell_type": "code",
   "execution_count": null,
   "metadata": {
    "id": "iSGzJa1494ev"
   },
   "outputs": [],
   "source": [
    "x, l, res = power_method(np.array([[2,-1], [-1, 2]]), np.random.rand(2), 100)"
   ]
  },
  {
   "cell_type": "code",
   "execution_count": null,
   "metadata": {
    "colab": {
     "base_uri": "https://localhost:8080/"
    },
    "id": "K6KnoEBLAG-J",
    "outputId": "d83bfee4-e459-42b7-9cac-ac3a679ac0cb"
   },
   "outputs": [
    {
     "data": {
      "text/plain": [
       "2.9999999999999996"
      ]
     },
     "execution_count": 3,
     "metadata": {
      "tags": []
     },
     "output_type": "execute_result"
    }
   ],
   "source": [
    "l"
   ]
  },
  {
   "cell_type": "markdown",
   "metadata": {
    "id": "_GnsJrkjATFl"
   },
   "source": [
    "So, we do get the approximately right maximum eigenvalue."
   ]
  },
  {
   "cell_type": "markdown",
   "metadata": {
    "id": "9hAowO6zOGIu"
   },
   "source": [
    "* (2 pts) Run the power method for the graph presented above and plot residuals $\\|Ax_k - \\lambda_k x_k\\|_2$ as a function of $k$ for ```num_iter=100``` and random initial guess ```x0```.  Explain the absence of convergence. \n",
    "\n",
    "\n",
    "* (2 pts) Consider the same graph, but with additional self loop at node 4 (self loop is an edge that connects a vertex with itself). Plot residuals as in the previous task and discuss the convergence. Now, run the power method with ```num_iter=100``` for 10 different initial guesses and print/plot the resulting approximated eigenvectors. Why do they depend on the initial guess?\n",
    "\n",
    "\n",
    "In order to avoid this problem Larry Page and Sergey Brin [proposed](http://ilpubs.stanford.edu:8090/422/1/1999-66.pdf) to use the following regularization technique:\n",
    "\n",
    "$$\n",
    "A_d = dA + \\frac{1-d}{N} \\begin{pmatrix} 1 & \\dots & 1 \\\\ \\vdots & & \\vdots \\\\ 1 & \\dots & 1 \\end{pmatrix},\n",
    "$$\n",
    "\n",
    "where $d$ is a small parameter in $[0,1]$ (typically $d=0.85$), which is called **damping factor**, $A$ is of size $N\\times N$. Now $A_d$ is the matrix with multiplicity of the largest eigenvalue equal to 1. \n",
    "Recall that computing the eigenvector of the PageRank matrix, which corresponds to the largest eigenvalue, has the following interpretation. Consider a person who stays in a random node of a graph (i.e. opens a random web page); at each step s/he follows one of the outcoming edges uniformly at random (i.e. opens one of the links). So the person randomly walks through the graph and the eigenvector we are looking for is exactly his/her stationary distribution â€” for each node it tells you the probability of visiting this particular node. Therefore, if the person has started from a part of the graph which is not connected with the other part, he will never get there.  In the regularized model, the person at each step follows one of the outcoming links with probability $d$ OR teleports to a random node from the whole graph with probability $(1-d)$.\n",
    "\n",
    "* (2 pts) Now, run the power method with $A_d$ and plot residuals $\\|A_d x_k - \\lambda_k x_k\\|_2$ as a function of $k$ for $d=0.97$, ```num_iter=100``` and a random initial guess ```x0```.\n",
    "\n",
    "* (5 pts) Find the second largest in the absolute value eigenvalue of the obtained matrix $A_d$. How and why is it connected to the damping factor $d$? What is the convergence rate of the PageRank algorithm when using damping factor?\n",
    "\n",
    "Usually, graphs that arise in various areas are sparse (social, web, road networks, etc.) and, thus, computation of a matrix-vector product for corresponding PageRank matrix $A$ is much cheaper than $\\mathcal{O}(N^2)$. However, if $A_d$ is calculated directly, it becomes dense and, therefore, $\\mathcal{O}(N^2)$ cost grows prohibitively large for  big $N$.\n",
    "\n",
    "\n",
    "* (2 pts) Implement fast matrix-vector product for $A_d$ as a function ```pagerank_matvec(A, d, x)```, which takes a PageRank matrix $A$ (in sparse format, e.g., ```csr_matrix```), damping factor $d$ and a vector $x$ as an input and returns $A_dx$ as an output. \n",
    "\n",
    "* (1 pts) Generate a random adjacency matrix of size $10000 \\times 10000$ with only 100 non-zero elements and compare ```pagerank_matvec``` performance with direct evaluation of $A_dx$."
   ]
  },
  {
   "cell_type": "markdown",
   "metadata": {
    "id": "m4Ym0e6KJ7nR"
   },
   "source": [
    "## 4."
   ]
  },
  {
   "cell_type": "code",
   "execution_count": null,
   "metadata": {
    "id": "Cwqdp1FcA1sO"
   },
   "outputs": [],
   "source": [
    "A = np.array([[0, 0, 1, 0, 0],\n",
    "              [1, 0, 1, 0, 0],\n",
    "              [0, 1, 0, 0, 0],\n",
    "              [0, 0, 0, 0, 1],\n",
    "              [0, 0, 0, 1, 0]])\n",
    "A_rank = pagerank_matrix(A)\n",
    "x0 = np.random.rand(5)\n",
    "n = 100\n",
    "x, l, res = power_method(A_rank, x0, n)"
   ]
  },
  {
   "cell_type": "code",
   "execution_count": null,
   "metadata": {
    "colab": {
     "base_uri": "https://localhost:8080/",
     "height": 513
    },
    "id": "6nP0JfS7CNPd",
    "outputId": "be5d7008-a831-4d51-e759-c3d8b920e2c0"
   },
   "outputs": [
    {
     "data": {
      "image/png": "[encoded data removed]",
      "text/plain": [
       "<Figure size 864x576 with 1 Axes>"
      ]
     },
     "metadata": {
      "needs_background": "light",
      "tags": []
     },
     "output_type": "display_data"
    }
   ],
   "source": [
    "import matplotlib.pyplot as plt\n",
    "\n",
    "plt.figure(figsize=(12,8))\n",
    "\n",
    "plt.plot(list(range(1, n+1)), res)\n",
    "\n",
    "plt.grid()\n",
    "\n",
    "plt.ylabel(\"$\\|Ax_k - \\lambda_k x_k\\|_2$\")\n",
    "plt.xlabel(\"Iteration\")\n",
    "plt.title(\"Residium by iteration, pagerank matrix\")\n",
    "plt.show()"
   ]
  },
  {
   "cell_type": "markdown",
   "metadata": {
    "id": "Ft5PgbO2ICBk"
   },
   "source": [
    "So, we see that the method doesn't realy continue after some constant error. This is because the power method assumes that there is one particular eigenvalue that is strictly larger in modulus than all the other eigenvalues. \n",
    "\n",
    "This adds upp to the fact that we seek for an eigenvector associated with this particular value, but in case of pagerank matrix there are two maximum eigenvalues: $1$ and $-1$."
   ]
  },
  {
   "cell_type": "markdown",
   "metadata": {
    "id": "yQSz7qcGKOnb"
   },
   "source": [
    "##5."
   ]
  },
  {
   "cell_type": "markdown",
   "metadata": {
    "id": "ul9lVnN4KtWz"
   },
   "source": [
    "Construct new adjacency matrix with vertex 4 now connected to itself:"
   ]
  },
  {
   "cell_type": "code",
   "execution_count": null,
   "metadata": {
    "id": "7Pi4AfiUKTdT"
   },
   "outputs": [],
   "source": [
    "A = np.array([[0, 0, 1, 0, 0],\n",
    "              [1, 0, 1, 0, 0],\n",
    "              [0, 1, 0, 0, 0],\n",
    "              [0, 0, 0, 0, 1],\n",
    "              [0, 0, 0, 1, 1]])\n",
    "A = pagerank_matrix(A)\n",
    "x, l, res = power_method(A, np.random.rand(5), 100)"
   ]
  },
  {
   "cell_type": "code",
   "execution_count": null,
   "metadata": {
    "colab": {
     "base_uri": "https://localhost:8080/",
     "height": 513
    },
    "id": "mWIfFZ2ELIYS",
    "outputId": "b28678fc-e37c-4ff1-86ef-4db7deecf079"
   },
   "outputs": [
    {
     "data": {
      "image/png": "[encoded data removed]",
      "text/plain": [
       "<Figure size 864x576 with 1 Axes>"
      ]
     },
     "metadata": {
      "needs_background": "light",
      "tags": []
     },
     "output_type": "display_data"
    }
   ],
   "source": [
    "import matplotlib.pyplot as plt\n",
    "\n",
    "plt.figure(figsize=(12,8))\n",
    "\n",
    "plt.semilogy(list(range(1, n+1)), res)\n",
    "\n",
    "plt.grid(True)\n",
    "\n",
    "plt.ylabel(\"$\\|Ax_k - \\lambda_k x_k\\|_2$\")\n",
    "plt.xlabel(\"Iteration\")\n",
    "plt.title(\"Residium by iteration, pagerank matrix\")\n",
    "plt.show()"
   ]
  },
  {
   "cell_type": "code",
   "execution_count": null,
   "metadata": {
    "colab": {
     "base_uri": "https://localhost:8080/"
    },
    "id": "1rzR0L5aRdBs",
    "outputId": "1c39acef-f42c-4535-9fa6-d560136dd988"
   },
   "outputs": [
    {
     "data": {
      "text/plain": [
       "1.0"
      ]
     },
     "execution_count": 25,
     "metadata": {
      "tags": []
     },
     "output_type": "execute_result"
    }
   ],
   "source": [
    "l"
   ]
  },
  {
   "cell_type": "markdown",
   "metadata": {
    "id": "b0ylkLn9Q_MJ"
   },
   "source": [
    "Well, now we see that the error decreases at a constant logarithmic pace with each iteration. Let's assume we might not yet now how this trick helped us. And also the eigenvalue is right, which is nice."
   ]
  },
  {
   "cell_type": "markdown",
   "metadata": {
    "id": "GE9F2D95RkM4"
   },
   "source": [
    "Now let's create 10 random inital guess vectors (which form a matrix) and plot each."
   ]
  },
  {
   "cell_type": "code",
   "execution_count": null,
   "metadata": {
    "id": "bpU5e0BKR98B"
   },
   "outputs": [],
   "source": [
    "random_guesses = np.random.rand(10, 5)\n",
    "results = []\n",
    "for x0 in random_guesses:\n",
    "  _, _, res = power_method(A, x0, 100)\n",
    "  results.append(res)"
   ]
  },
  {
   "cell_type": "code",
   "execution_count": null,
   "metadata": {
    "colab": {
     "base_uri": "https://localhost:8080/",
     "height": 513
    },
    "id": "RVKnOwIMSHJp",
    "outputId": "f7babef4-e70f-47d0-d261-ca0f107402df"
   },
   "outputs": [
    {
     "data": {
      "image/png": "[encoded data removed]",
      "text/plain": [
       "<Figure size 864x576 with 1 Axes>"
      ]
     },
     "metadata": {
      "needs_background": "light",
      "tags": []
     },
     "output_type": "display_data"
    }
   ],
   "source": [
    "plt.figure(figsize=(12,8))\n",
    "\n",
    "plt.semilogy(list(range(1, n+1)), results[0], label = '$x_{0}$')\n",
    "plt.semilogy(list(range(1, n+1)), results[1], label = '$x_{1}$')\n",
    "plt.semilogy(list(range(1, n+1)), results[2], label = '$x_{2}$')\n",
    "plt.semilogy(list(range(1, n+1)), results[3], label = '$x_{3}$')\n",
    "plt.semilogy(list(range(1, n+1)), results[4], label = '$x_{4}$')\n",
    "plt.semilogy(list(range(1, n+1)), results[5], label = '$x_{5}$')\n",
    "plt.semilogy(list(range(1, n+1)), results[6], label = '$x_{6}$')\n",
    "plt.semilogy(list(range(1, n+1)), results[7], label = '$x_{7}$')\n",
    "plt.semilogy(list(range(1, n+1)), results[8], label = '$x_{8}$')\n",
    "plt.semilogy(list(range(1, n+1)), results[9], label = '$x_{9}$')\n",
    "plt.legend(loc = 'upper right')\n",
    "\n",
    "plt.grid(True)\n",
    "\n",
    "plt.ylabel(\"$\\|Ax_k - \\lambda_k x_k\\|_2$\")\n",
    "plt.xlabel(\"Iteration\")\n",
    "plt.title(\"Residium by iteration, pagerank matrix\")\n",
    "plt.show()"
   ]
  },
  {
   "cell_type": "markdown",
   "metadata": {
    "id": "hjfcw3eAZ2ff"
   },
   "source": [
    "The result depends on $x_0$, because the quality of the method is higher when this vector is closer to the direction of vector assosiated with those values. \n",
    "\n",
    "This parameter of the initial vector seems to influence the initial error offset."
   ]
  },
  {
   "cell_type": "markdown",
   "metadata": {
    "id": "BjkChdNUnBk0"
   },
   "source": [
    "## 6.\n",
    "Now let's modify our pagerank matrix and include the damping factor (taking the initial matrix, without loop)"
   ]
  },
  {
   "cell_type": "code",
   "execution_count": null,
   "metadata": {
    "id": "BiYsv19Dm__F"
   },
   "outputs": [],
   "source": [
    "A = np.array([[0, 0, 1, 0, 0],\n",
    "              [1, 0, 1, 0, 0],\n",
    "              [0, 1, 0, 0, 0],\n",
    "              [0, 0, 0, 0, 1],\n",
    "              [0, 0, 0, 1, 0]])\n",
    "\n",
    "A = pagerank_matrix(A)\n",
    "d = .97\n",
    "A = d * A + (1 - d) / A.shape[0] * np.ones((A.shape[0], A.shape[0]))"
   ]
  },
  {
   "cell_type": "code",
   "execution_count": null,
   "metadata": {
    "id": "W7KskMEdo7Ej"
   },
   "outputs": [],
   "source": [
    "x, l, res = power_method(A, np.random.rand(A.shape[0]), 100)"
   ]
  },
  {
   "cell_type": "code",
   "execution_count": null,
   "metadata": {
    "colab": {
     "base_uri": "https://localhost:8080/",
     "height": 513
    },
    "id": "UTqav_k9o2LL",
    "outputId": "31c1105c-5334-4e66-d89c-40a111d59a11"
   },
   "outputs": [
    {
     "data": {
      "image/png": "[encoded data removed]",
      "text/plain": [
       "<Figure size 864x576 with 1 Axes>"
      ]
     },
     "metadata": {
      "needs_background": "light",
      "tags": []
     },
     "output_type": "display_data"
    }
   ],
   "source": [
    "import matplotlib.pyplot as plt\n",
    "\n",
    "plt.figure(figsize=(12,8))\n",
    "\n",
    "plt.plot(list(range(100)), res)\n",
    "\n",
    "plt.grid(True)\n",
    "\n",
    "plt.ylabel(\"$\\|Ax_k - \\lambda_k x_k\\|_2$\")\n",
    "plt.xlabel(\"Iteration\")\n",
    "plt.title(\"Residium by iteration, pagerank matrix\")\n",
    "plt.show()"
   ]
  },
  {
   "cell_type": "markdown",
   "metadata": {
    "id": "OVc6RzEWqdV7"
   },
   "source": [
    "##7\n",
    "For second largest value, let's use a built-in function (since power method only finds first largest)."
   ]
  },
  {
   "cell_type": "code",
   "execution_count": null,
   "metadata": {
    "colab": {
     "base_uri": "https://localhost:8080/"
    },
    "id": "6IdXYwRHwnhh",
    "outputId": "b5e0c827-b37e-472a-c334-590bf5f067c9"
   },
   "outputs": [
    {
     "data": {
      "text/plain": [
       "0.9700000000000002"
      ]
     },
     "execution_count": 102,
     "metadata": {
      "tags": []
     },
     "output_type": "execute_result"
    }
   ],
   "source": [
    "sorted(abs(np.linalg.eigvals(A)))[-2]"
   ]
  },
  {
   "cell_type": "markdown",
   "metadata": {
    "id": "gucth6yvx3pp"
   },
   "source": [
    "Thus, the damping factor is the second largest eigenvalue. Actually, the pagerank matrix has two eigenvalues equal 0.97 in modulus, which correspond to the verticies 3 and 4. \n",
    "\n",
    "Since they are isolated, we could create a seperate adjacency matricies for them. Or, even better, we could study them as a Markov chain, and the probability of transition between the nodes of the chain equals the dampling factor $d$. \n",
    "\n",
    "We could represent this system as a matrix $M$ and calculate the evolution of it after $k$ steps, finding $k$-th degree of this matrix:\n",
    "\n",
    "$M =\\begin{bmatrix} 0 & d \\\\ d & 0 \\end{bmatrix} = P \\Lambda P^{-1}$\n",
    "\n",
    "Since the PageRank metric doesn't need direct probabilities at each step, we pay attention only to $\\Lambda$, which, in this case, one could check, equals $diag(d, -d)$ "
   ]
  },
  {
   "cell_type": "markdown",
   "metadata": {
    "id": "Jg7lIRL65SzD"
   },
   "source": [
    "##8.\n",
    "Let's recreate all the matrices and write the function. "
   ]
  },
  {
   "cell_type": "code",
   "execution_count": null,
   "metadata": {
    "id": "tqSX-HwY6GZo"
   },
   "outputs": [],
   "source": [
    "import numpy as np\n",
    "from scipy.sparse import csr_matrix\n",
    "\n",
    "A = np.array([[0, 0, 1, 0, 0],\n",
    "              [1, 0, 1, 0, 0],\n",
    "              [0, 1, 0, 0, 0],\n",
    "              [0, 0, 0, 0, 1],\n",
    "              [0, 0, 0, 1, 0]])\n",
    "\n",
    "A = pagerank_matrix(A)\n",
    "A_sparse = csr_matrix(A)"
   ]
  },
  {
   "cell_type": "code",
   "execution_count": null,
   "metadata": {
    "id": "jOhFnjdA9RKe"
   },
   "outputs": [],
   "source": [
    "d = .97"
   ]
  },
  {
   "cell_type": "code",
   "execution_count": null,
   "metadata": {
    "id": "4o3LKx5UOGIv"
   },
   "outputs": [],
   "source": [
    "def pagerank_matvec(A, d, x): # 2 pts\n",
    "\n",
    "    A_n = A.shape[0]\n",
    "    x_n = x.shape[0]\n",
    "    x1 = d * A @ x\n",
    "    x2 = (1 - d) * np.ones(x_n) * np.sum(x) / A_n \n",
    "    \n",
    "    return x1 + x2"
   ]
  },
  {
   "cell_type": "markdown",
   "metadata": {
    "id": "8lEl-1bO4uj1"
   },
   "source": [
    "Check correctness of the function by substracting the function's result from naive expression:"
   ]
  },
  {
   "cell_type": "code",
   "execution_count": null,
   "metadata": {
    "colab": {
     "base_uri": "https://localhost:8080/"
    },
    "id": "WsmX-CAfBexe",
    "outputId": "5c3bc0d4-a8c3-4cfc-d8d2-3b9dba69732e"
   },
   "outputs": [
    {
     "data": {
      "text/plain": [
       "array([0., 0., 0., 0., 0.])"
      ]
     },
     "execution_count": 122,
     "metadata": {
      "tags": []
     },
     "output_type": "execute_result"
    }
   ],
   "source": [
    "pagerank_matvec(A_sparse, d, np.array([1,2,3,4,5])) - (d * A @ np.array([1,2,3,4,5]) + (1 - d) / A.shape[0] * np.ones((A.shape[0], A.shape[0])) @ np.array([1,2,3,4,5]))"
   ]
  },
  {
   "cell_type": "markdown",
   "metadata": {
    "id": "-YbPP8GI5Ggj"
   },
   "source": [
    "## 9.\n",
    "Now let's compare the evaluation times for $10000 \\times 10000$"
   ]
  },
  {
   "cell_type": "code",
   "execution_count": null,
   "metadata": {
    "id": "gvqTknJ259Yj"
   },
   "outputs": [],
   "source": [
    "G = np.random.choice([0, 1], size=(10000, 10000), p=[0.999999, 0.000001])"
   ]
  },
  {
   "cell_type": "code",
   "execution_count": null,
   "metadata": {
    "id": "q49t4RPz7X_7"
   },
   "outputs": [],
   "source": [
    "A = pagerank_matrix(G)"
   ]
  },
  {
   "cell_type": "code",
   "execution_count": null,
   "metadata": {
    "id": "AenabpV76HZa"
   },
   "outputs": [],
   "source": [
    "A_sparse = csr_matrix(A)"
   ]
  },
  {
   "cell_type": "code",
   "execution_count": null,
   "metadata": {
    "colab": {
     "base_uri": "https://localhost:8080/"
    },
    "id": "QLyQ33xW7jIi",
    "outputId": "2e9e4c55-ee75-4d0e-8032-dd80ddf1f0a9"
   },
   "outputs": [
    {
     "name": "stdout",
     "output_type": "stream",
     "text": [
      "The slowest run took 6.29 times longer than the fastest. This could mean that an intermediate result is being cached.\n",
      "10000 loops, best of 3: 131 µs per loop\n"
     ]
    }
   ],
   "source": [
    "x0 = np.random.rand(10000)\n",
    "d = .93\n",
    "\n",
    "%timeit pagerank_matvec(A_sparse, d, x0)"
   ]
  },
  {
   "cell_type": "code",
   "execution_count": null,
   "metadata": {
    "colab": {
     "base_uri": "https://localhost:8080/"
    },
    "id": "6C9YlkTdBPzh",
    "outputId": "98dad615-5ac4-42ca-8a48-40821a423fdb"
   },
   "outputs": [
    {
     "name": "stdout",
     "output_type": "stream",
     "text": [
      "1 loop, best of 3: 448 ms per loop\n"
     ]
    }
   ],
   "source": [
    "%timeit d * A @ x0 + (1 - d) / A.shape[0] * np.ones((A.shape[0], A.shape[0])) @ x0"
   ]
  },
  {
   "cell_type": "markdown",
   "metadata": {
    "id": "JKvxOFKTHFqQ"
   },
   "source": [
    "So we see that our trick did some progress indeed"
   ]
  },
  {
   "cell_type": "markdown",
   "metadata": {
    "id": "ru70NGUlOGIy"
   },
   "source": [
    "#### DBLP: computer science bibliography\n",
    "\n",
    "Download the dataset from [here](https://goo.gl/oZVxEa), unzip it and put `dblp_authors.npz`  and `dblp_graph.npz` in the same folder with this notebook. Each value (author name) from `dblp_authors.npz` corresponds to the row/column of the matrix from `dblp_graph.npz`. Value at row `i` and column `j` of the matrix from `dblp_graph.npz` corresponds to the number of times author `i` cited papers of the author `j`. Let us now find the most significant scientists according to PageRank model over DBLP data.\n",
    "\n",
    "* (4 pts) Load the weighted adjacency matrix and the authors list into Python using ```load_dblp(...)``` function. Print its density (fraction of nonzero elements). Find top-10 most cited authors from the weighted adjacency matrix. Now, make all the weights of the adjacency matrix equal to 1 for simplicity (consider only existence of connection between authors, not its weight). Obtain the PageRank matrix $A$ from the adjacency matrix and verify that it is stochastic.\n",
    " \n",
    " \n",
    "* (1 pts) In order to provide ```pagerank_matvec``` to your ```power_method``` (without rewriting it) for fast calculation of $A_dx$, you can create a ```LinearOperator```: \n",
    "```python\n",
    "L = scipy.sparse.linalg.LinearOperator(A.shape, matvec=lambda x, A=A, d=d: pagerank_matvec(A, d, x))\n",
    "```\n",
    "Calling ```L@x``` or ```L.dot(x)``` will result in calculation of ```pagerank_matvec(A, d, x)``` and, thus, you can plug $L$ instead of the matrix $A$ in the ```power_method``` directly. **Note:** though in the previous subtask graph was very small (so you could disparage fast matvec implementation), here it is very large (but sparse), so that direct evaluation of $A_dx$ will require $\\sim 10^{12}$ matrix elements to store - good luck with that (^_<).\n",
    "\n",
    "\n",
    "* (2 pts) Run the power method starting from the vector of all ones and plot residuals $\\|A_dx_k - \\lambda_k x_k\\|_2$  as a function of $k$ for $d=0.85$.\n",
    "\n",
    "\n",
    "* (1 pts) Print names of the top-10 authors according to PageRank over DBLP when $d=0.85$. Comment on your findings."
   ]
  },
  {
   "cell_type": "markdown",
   "metadata": {
    "id": "Z1FJRMF9VEFt"
   },
   "source": [
    "## 10."
   ]
  },
  {
   "cell_type": "code",
   "execution_count": null,
   "metadata": {
    "colab": {
     "base_uri": "https://localhost:8080/"
    },
    "id": "rkiqdyd2oc0m",
    "outputId": "c0c6df36-cde9-4685-9c50-84d2d4284ad3"
   },
   "outputs": [
    {
     "name": "stdout",
     "output_type": "stream",
     "text": [
      "Mounted at /content/drive\n"
     ]
    }
   ],
   "source": [
    "from google.colab import drive\n",
    "drive.mount('/content/drive')"
   ]
  },
  {
   "cell_type": "code",
   "execution_count": null,
   "metadata": {
    "colab": {
     "base_uri": "https://localhost:8080/"
    },
    "id": "NimwrJL_osl2",
    "outputId": "71d5a823-30e9-494d-81af-7470a0ceffc3"
   },
   "outputs": [
    {
     "name": "stdout",
     "output_type": "stream",
     "text": [
      "[Errno 2] No such file or directory: 'drive/MyDrive/Colab Notebooks/'\n",
      "/content/drive/MyDrive/Colab Notebooks\n"
     ]
    }
   ],
   "source": [
    "%cd drive/MyDrive/Colab\\ Notebooks/"
   ]
  },
  {
   "cell_type": "code",
   "execution_count": null,
   "metadata": {
    "id": "L5ZnW7m-OGIz"
   },
   "outputs": [],
   "source": [
    "from scipy.sparse import load_npz\n",
    "import numpy as np\n",
    "def load_dblp(path_auth, path_graph):\n",
    "    G = load_npz(path_graph).astype(float)\n",
    "    with np.load(path_auth) as data: authors = data['authors']\n",
    "    return G, authors\n",
    "G, authors = load_dblp('dblp_authors.npz', 'dblp_graph.npz')"
   ]
  },
  {
   "cell_type": "markdown",
   "metadata": {
    "id": "WP2ObfFbqeQ-"
   },
   "source": [
    "Density of the adjacency matrix is:"
   ]
  },
  {
   "cell_type": "code",
   "execution_count": null,
   "metadata": {
    "colab": {
     "base_uri": "https://localhost:8080/"
    },
    "id": "QynfixvjOGI1",
    "outputId": "49ea02fb-a17e-4103-8653-bf06cb0b0f20"
   },
   "outputs": [
    {
     "data": {
      "text/plain": [
       "4.4986518152305776e-05"
      ]
     },
     "execution_count": 29,
     "metadata": {
      "tags": []
     },
     "output_type": "execute_result"
    }
   ],
   "source": [
    "G.nnz / G.shape[0] ** 2"
   ]
  },
  {
   "cell_type": "code",
   "execution_count": null,
   "metadata": {
    "id": "OSYHPj79Spuh"
   },
   "outputs": [],
   "source": [
    "G = G.transpose().tocsr()\n",
    "G.data = np.ones(G.data.shape)\n",
    "authors_sums = G.sum(axis=0)"
   ]
  },
  {
   "cell_type": "code",
   "execution_count": null,
   "metadata": {
    "id": "e2of3A_MsQov"
   },
   "outputs": [],
   "source": [
    "authors_sums = np.array(G.sum(axis=0))[0]"
   ]
  },
  {
   "cell_type": "code",
   "execution_count": null,
   "metadata": {
    "colab": {
     "base_uri": "https://localhost:8080/"
    },
    "id": "QSpk7weczMbR",
    "outputId": "ebb260d3-f819-4860-92e3-c459ab0873b0"
   },
   "outputs": [
    {
     "data": {
      "text/plain": [
       "matrix([[  0.,  18., 335., ...,  11.,   0.,   0.]])"
      ]
     },
     "execution_count": 34,
     "metadata": {
      "tags": []
     },
     "output_type": "execute_result"
    }
   ],
   "source": [
    "authors_sums"
   ]
  },
  {
   "cell_type": "code",
   "execution_count": null,
   "metadata": {
    "id": "E4orJniCqsgG"
   },
   "outputs": [],
   "source": [
    "import pandas as pd\n",
    "\n",
    "df = pd.DataFrame({\"citations\": np.array(authors_sums)[0], \"author\": authors})"
   ]
  },
  {
   "cell_type": "markdown",
   "metadata": {
    "id": "zGfu2U8Vt2Yl"
   },
   "source": [
    "Pairs (# of \"citations\", name) for top 10 authors are:"
   ]
  },
  {
   "cell_type": "code",
   "execution_count": null,
   "metadata": {
    "colab": {
     "base_uri": "https://localhost:8080/"
    },
    "id": "uxT7qd1ntBsu",
    "outputId": "980e336b-6eb2-47a0-bbde-95f1328180a0"
   },
   "outputs": [
    {
     "data": {
      "text/plain": [
       "1625973     Wei Wang\n",
       "1679237     Yang Liu\n",
       "1626092    Wei Zhang\n",
       "897019     Lei Zhang\n",
       "896968      Lei Wang\n",
       "1625698       Wei Li\n",
       "791433      Jun Wang\n",
       "1625737      Wei Liu\n",
       "791560     Jun Zhang\n",
       "1677881    Yan Zhang\n",
       "Name: author, dtype: object"
      ]
     },
     "execution_count": 38,
     "metadata": {
      "tags": []
     },
     "output_type": "execute_result"
    }
   ],
   "source": [
    "df.sort_values('citations', ascending=False)[:10].author"
   ]
  },
  {
   "cell_type": "code",
   "execution_count": null,
   "metadata": {
    "id": "xQLB6_IDu1k1"
   },
   "outputs": [],
   "source": [
    "nonzeros_rows, nonzeros_cols = G.nonzero()"
   ]
  },
  {
   "cell_type": "code",
   "execution_count": null,
   "metadata": {
    "id": "K1-NNuaJVPt8"
   },
   "outputs": [],
   "source": [
    "from scipy.sparse import csr_matrix\n",
    "\n",
    "n = len(nonzeros_rows)\n",
    "G_prime = csr_matrix((np.ones(n), (nonzeros_rows, nonzeros_cols)), shape=G.shape)"
   ]
  },
  {
   "cell_type": "code",
   "execution_count": null,
   "metadata": {
    "colab": {
     "base_uri": "https://localhost:8080/"
    },
    "id": "soSgAlW0XdyM",
    "outputId": "094667f0-ed62-45fe-d587-68fe12de6d97"
   },
   "outputs": [
    {
     "name": "stderr",
     "output_type": "stream",
     "text": [
      "/usr/local/lib/python3.6/dist-packages/ipykernel_launcher.py:11: RuntimeWarning: divide by zero encountered in true_divide\n",
      "  # This is added back by InteractiveShellApp.init_path()\n"
     ]
    }
   ],
   "source": [
    "G_prime_pagerank = pagerank_matrix(G_prime)"
   ]
  },
  {
   "cell_type": "markdown",
   "metadata": {
    "id": "T5KSZp8qkUdY"
   },
   "source": [
    "Stochastic matrix is identified by its column sums being all ones (in our case also zeros, in case if a document doesn't refer to anyone), so let's check it:"
   ]
  },
  {
   "cell_type": "code",
   "execution_count": null,
   "metadata": {
    "colab": {
     "base_uri": "https://localhost:8080/"
    },
    "id": "wi9IPTbkkZDd",
    "outputId": "2bffc850-ba99-4659-db64-70dd4ed4559f"
   },
   "outputs": [
    {
     "data": {
      "text/plain": [
       "array([[0., 1., 1., ..., 1., 0., 0.]])"
      ]
     },
     "execution_count": 44,
     "metadata": {
      "tags": []
     },
     "output_type": "execute_result"
    }
   ],
   "source": [
    "np.array(G_prime_pagerank.sum(axis=0))"
   ]
  },
  {
   "cell_type": "markdown",
   "metadata": {
    "id": "7RNzAg0spWy6"
   },
   "source": [
    "## 11."
   ]
  },
  {
   "cell_type": "code",
   "execution_count": null,
   "metadata": {
    "id": "wPQmZkiJpZeR"
   },
   "outputs": [],
   "source": [
    "import scipy"
   ]
  },
  {
   "cell_type": "code",
   "execution_count": null,
   "metadata": {
    "id": "24rvfHlar7gy"
   },
   "outputs": [],
   "source": [
    "import numpy as np\n",
    "\n",
    "def power_method(A, x0, num_iter): # 5 pts\n",
    "    x_i = x0\n",
    "    res = np.empty(num_iter)\n",
    "    for i in range(num_iter): \n",
    "        x_i = A @ x_i\n",
    "        x_i = x_i / np.linalg.norm(x_i)\n",
    "        l = np.dot(A @ x_i, x_i)\n",
    "        res[i] = np.linalg.norm(A @ x_i - l * x_i)\n",
    "    return x_i, l, res"
   ]
  },
  {
   "cell_type": "code",
   "execution_count": null,
   "metadata": {
    "id": "3PCYEjOv6WgF"
   },
   "outputs": [],
   "source": [
    "import scipy.sparse.linalg"
   ]
  },
  {
   "cell_type": "code",
   "execution_count": null,
   "metadata": {
    "id": "YzIoEqFMpYVE"
   },
   "outputs": [],
   "source": [
    "d = .85\n",
    "L = scipy.sparse.linalg.LinearOperator(G_prime_pagerank.shape, matvec=lambda x, A=G_prime_pagerank, d=d: pagerank_matvec(G_prime_pagerank, d, x))"
   ]
  },
  {
   "cell_type": "markdown",
   "metadata": {
    "id": "sdEhJZW6qChV"
   },
   "source": [
    "##12."
   ]
  },
  {
   "cell_type": "code",
   "execution_count": null,
   "metadata": {
    "id": "IakmnM0kqlNd"
   },
   "outputs": [],
   "source": [
    "x0 = np.ones(G_prime_pagerank.shape[0])"
   ]
  },
  {
   "cell_type": "code",
   "execution_count": null,
   "metadata": {
    "id": "_GuCJO0nquud"
   },
   "outputs": [],
   "source": [
    "x, l, res = power_method(L, x0, 100)"
   ]
  },
  {
   "cell_type": "code",
   "execution_count": null,
   "metadata": {
    "colab": {
     "base_uri": "https://localhost:8080/",
     "height": 513
    },
    "id": "vPahDUOC8c0Z",
    "outputId": "76f9b7f4-9916-44c1-c334-bdaac94fcfaa"
   },
   "outputs": [
    {
     "data": {
      "image/png": "[encoded data removed]",
      "text/plain": [
       "<Figure size 864x576 with 1 Axes>"
      ]
     },
     "metadata": {
      "needs_background": "light",
      "tags": []
     },
     "output_type": "display_data"
    }
   ],
   "source": [
    "import matplotlib.pyplot as plt\n",
    "\n",
    "plt.figure(figsize=(12,8))\n",
    "\n",
    "plt.semilogy(list(range(100)), res)\n",
    "\n",
    "plt.grid(True)\n",
    "\n",
    "plt.ylabel(\"$\\|Ax_k - \\lambda_k x_k\\|_2$\")\n",
    "plt.xlabel(\"Iteration\")\n",
    "plt.title(\"Residium by iteration, pagerank matrix\")\n",
    "plt.show()"
   ]
  },
  {
   "cell_type": "markdown",
   "metadata": {
    "id": "UOqKplO396oo"
   },
   "source": [
    "## 13.\n"
   ]
  },
  {
   "cell_type": "markdown",
   "metadata": {
    "id": "KuTOKVd_-_Vt"
   },
   "source": [
    "So x now is the vector, each component of which simply represents the rating of each author. So let's just analyse the authors:"
   ]
  },
  {
   "cell_type": "code",
   "execution_count": null,
   "metadata": {
    "id": "rOoUQ-s0_jvn"
   },
   "outputs": [],
   "source": [
    "import pandas as pd\n",
    "\n",
    "df = pd.DataFrame({\"rating\": x, \"author\": authors})"
   ]
  },
  {
   "cell_type": "code",
   "execution_count": null,
   "metadata": {
    "colab": {
     "base_uri": "https://localhost:8080/"
    },
    "id": "aY3-tU1O_vjz",
    "outputId": "875ff971-765c-407a-ca01-9c93996b4a86"
   },
   "outputs": [
    {
     "data": {
      "text/plain": [
       "334728       David E. Goldberg\n",
       "1304778        Richard M. Karp\n",
       "745295        John E. Hopcroft\n",
       "151524        Azriel Rosenfeld\n",
       "1330562       Ronald L. Rivest\n",
       "108524            Anil K. Jain\n",
       "1516121           Takeo Kanade\n",
       "66090            Alfred V. Aho\n",
       "1313064    Robert Endre Tarjan\n",
       "505969           Gerard Salton\n",
       "Name: author, dtype: object"
      ]
     },
     "execution_count": 55,
     "metadata": {
      "tags": []
     },
     "output_type": "execute_result"
    }
   ],
   "source": [
    "df.sort_values('rating', ascending=False)[:10].author"
   ]
  },
  {
   "cell_type": "markdown",
   "metadata": {
    "id": "EMFMHiqlAINA"
   },
   "source": [
    "Conclusion: the initial top-10 of the authors seemed to consider pure citations without their value, so we ranked top 10 maybe some Chinise scam-scientists (?).\n",
    "\n",
    "But now we've got a true ranking, and the top 1 guy seems to have a lot of citations and even jis Hirsch index is high."
   ]
  },
  {
   "cell_type": "markdown",
   "metadata": {
    "id": "hQ2vaIyMOGI3"
   },
   "source": [
    "### 3. QR algorithm (10 pts)\n",
    "\n",
    "* Implement QR-algorithm without shifting. Prototype of the function is given below"
   ]
  },
  {
   "cell_type": "code",
   "execution_count": null,
   "metadata": {
    "id": "rMHBZLojOGI3"
   },
   "outputs": [],
   "source": [
    "# INPUT: \n",
    "# A_init - square matrix, \n",
    "# num_iter - number of iterations for QR algorithm\n",
    "# OUTPUT: \n",
    "# Ak - transformed matrix A_init given by QR algorithm, \n",
    "# convergence - numpy array of shape (num_iter, ), \n",
    "# where we store the maximal number from the Chebyshev norm \n",
    "# of triangular part of the Ak for every iteration\n",
    "def qr_algorithm(A_init, num_iter): # 3 pts\n",
    "    Ak = A_init\n",
    "    convergence = np.zeros(num_iter)\n",
    "    for i in range(num_iter):\n",
    "        Q, R = np.linalg.qr(Ak)\n",
    "        Ak = R @ Q\n",
    "        convergence[i] = np.amax(abs(R))\n",
    "    return Ak, convergence"
   ]
  },
  {
   "cell_type": "code",
   "execution_count": null,
   "metadata": {
    "id": "5VsnWXikIBKq"
   },
   "outputs": [],
   "source": [
    "A = np.random.rand(5, 5)"
   ]
  },
  {
   "cell_type": "markdown",
   "metadata": {
    "id": "UNrCBNRUOGI6"
   },
   "source": [
    "#### Symmetric case (3 pts)\n",
    "- Create symmetric tridiagonal $11 \\times 11$ matrix with elements $-1, 2, -1$ on sub-, main- and upper diagonal respectively without using loops.\n",
    "- Run $400$ iterations of the QR algorithm for this matrix.\n",
    "- Plot the output matrix with function ```plt.spy(Ak, precision=1e-7)```.\n",
    "- Plot convergence of QR-algorithm."
   ]
  },
  {
   "cell_type": "code",
   "execution_count": null,
   "metadata": {
    "id": "-t9Oc-KZKQ64"
   },
   "outputs": [],
   "source": [
    "from scipy.sparse import diags\n",
    "\n",
    "A = diags([-1, 2, -1], [-1, 0, 1], shape=(11, 11)).toarray()"
   ]
  },
  {
   "cell_type": "code",
   "execution_count": null,
   "metadata": {
    "id": "DoALViMVKbJu"
   },
   "outputs": [],
   "source": [
    "Ak, convergence = qr_algorithm(A, 400)"
   ]
  },
  {
   "cell_type": "code",
   "execution_count": null,
   "metadata": {
    "colab": {
     "base_uri": "https://localhost:8080/"
    },
    "id": "d9F8UjY8SzWg",
    "outputId": "c1847822-2509-4515-a142-bf4f810f560f"
   },
   "outputs": [
    {
     "data": {
      "text/plain": [
       "array([3.93185165, 3.73205081, 3.41421356, 3.        , 2.51763809,\n",
       "       2.        , 1.48236191, 0.06814835, 0.26794919, 0.58578644,\n",
       "       1.        ])"
      ]
     },
     "execution_count": 93,
     "metadata": {
      "tags": []
     },
     "output_type": "execute_result"
    }
   ],
   "source": [
    "abs(np.linalg.eigvals(A))"
   ]
  },
  {
   "cell_type": "code",
   "execution_count": null,
   "metadata": {
    "colab": {
     "base_uri": "https://localhost:8080/",
     "height": 279
    },
    "id": "NuKwQGXbOGI6",
    "outputId": "27a33f25-bab3-4e1b-eec4-b1c8c1764d80"
   },
   "outputs": [
    {
     "data": {
      "image/png": "[encoded data removed]",
      "text/plain": [
       "<Figure size 432x288 with 1 Axes>"
      ]
     },
     "metadata": {
      "needs_background": "light",
      "tags": []
     },
     "output_type": "display_data"
    }
   ],
   "source": [
    "import matplotlib.pyplot as plt\n",
    "\n",
    "plt.spy(Ak, precision=1e-7)\n",
    "\n",
    "plt.grid(True)\n",
    "\n",
    "plt.title(\"Output matrix\")\n",
    "plt.show()"
   ]
  },
  {
   "cell_type": "code",
   "execution_count": null,
   "metadata": {
    "colab": {
     "base_uri": "https://localhost:8080/",
     "height": 404
    },
    "id": "UIW-xVcLLK1N",
    "outputId": "a5cf2d77-534a-4d08-f02b-186f0b03917f"
   },
   "outputs": [
    {
     "data": {
      "image/png": "[encoded data removed]",
      "text/plain": [
       "<Figure size 576x432 with 1 Axes>"
      ]
     },
     "metadata": {
      "needs_background": "light",
      "tags": []
     },
     "output_type": "display_data"
    }
   ],
   "source": [
    "import matplotlib.pyplot as plt\n",
    "\n",
    "plt.figure(figsize=(8,6))\n",
    "\n",
    "plt.semilogy(list(range(400)), (convergence[-1] - convergence)/convergence[-1])\n",
    "\n",
    "plt.grid(True)\n",
    "\n",
    "plt.ylabel(\"Relative error\")\n",
    "plt.xlabel(\"Iteration\")\n",
    "plt.title(\"Convergence of qr algorithm\")\n",
    "plt.show()"
   ]
  },
  {
   "cell_type": "markdown",
   "metadata": {
    "id": "-lomV2K-OGI8"
   },
   "source": [
    "#### Nonsymmetric case (4 pts)\n",
    "\n",
    "- Create nonsymmetric tridiagonal $11 \\times 11$ matrix with elements $5, 3, -2$ on sub-, main- and upper diagonal respectively without using loops.\n",
    "- Run $250$ iterations of the QR algorithm for this matrix.\n",
    "- Plot the result matrix with function ```plt.spy(Ak, precision=1e-7)```. Is this matrix lower triangular? How does this correspond to the claim about convergence of the QR algorithm?"
   ]
  },
  {
   "cell_type": "code",
   "execution_count": null,
   "metadata": {
    "id": "C2lGBHjaOGI9"
   },
   "outputs": [],
   "source": [
    "from scipy.sparse import diags\n",
    "\n",
    "A = diags([5, 3, -2], [-1, 0, 1], shape=(11, 11)).toarray()\n",
    "\n",
    "Ak, convergence = qr_algorithm(A, 250)"
   ]
  },
  {
   "cell_type": "code",
   "execution_count": null,
   "metadata": {
    "colab": {
     "base_uri": "https://localhost:8080/",
     "height": 279
    },
    "id": "HyZYKm73Nxv3",
    "outputId": "5a0f3fa3-ff1b-424c-f0c7-252a372f7ad4"
   },
   "outputs": [
    {
     "data": {
      "image/png": "[encoded data removed]",
      "text/plain": [
       "<Figure size 432x288 with 1 Axes>"
      ]
     },
     "metadata": {
      "needs_background": "light",
      "tags": []
     },
     "output_type": "display_data"
    }
   ],
   "source": [
    "import matplotlib.pyplot as plt\n",
    "\n",
    "plt.spy(Ak, precision=1e-7)\n",
    "\n",
    "plt.grid(True)\n",
    "\n",
    "plt.title(\"Output matrix\")\n",
    "plt.show()"
   ]
  },
  {
   "cell_type": "code",
   "execution_count": null,
   "metadata": {
    "colab": {
     "base_uri": "https://localhost:8080/"
    },
    "id": "ABSo6t6eSrNY",
    "outputId": "e2cb27ce-6964-45d7-a901-40eadffe02eb"
   },
   "outputs": [
    {
     "data": {
      "text/plain": [
       "array([6.80591714, 6.80591714, 6.244998  , 6.244998  , 5.38516481,\n",
       "       5.38516481, 3.41752717, 3.41752717, 3.        , 4.35889894,\n",
       "       4.35889894])"
      ]
     },
     "execution_count": 90,
     "metadata": {
      "tags": []
     },
     "output_type": "execute_result"
    }
   ],
   "source": [
    "abs(np.linalg.eigvals(A))"
   ]
  },
  {
   "cell_type": "markdown",
   "metadata": {
    "id": "9YypXN48OdZ6"
   },
   "source": [
    "Unfortunately, this matrix is not lower triangular. After computing true eigenvalues, we can see, that there is a gap between $\\Lambda[:6]$ and $\\Lambda[6:]$, therefore the covergence is lost and we have to use shifting in order to get the algorithm to work. "
   ]
  },
  {
   "cell_type": "markdown",
   "metadata": {
    "id": "c_8OYe7wOGI-"
   },
   "source": [
    "## Problem 3. (Pseudo-Schur decomposition) 15 pts\n",
    "Let's redefine scalar product $ \\forall x, y \\in \\mathbb{C}^n$ in a following way:\n",
    "\n",
    "$$ [x,y]_J = y^{*}Jx, \\text{s.t.}\\ J = \\text{diag}(j_{11}, j_{22}, \\dots, j_{nn})\\ \\text{and}\\ j_{ii} = \\pm1\\ \\forall i \\in [1,n].$$\n",
    "\n",
    "Denote rows of matrix $V \\in \\mathbb{C}^{n \\times n}$ as $v_1, v_2, \\dots, v_n$. Then $V$ is called $\\textbf{J-orthonormal}$ iff \n",
    "\n",
    "$$[v_i, v_k]_J = \\pm \\delta_{ik}.$$\n",
    "\n",
    "We will call matrix $T \\in \\mathbb{C}^{n \\times n}$ $\\textbf{almost triangular}$ iff $T$ is upper triangular with diagonal blocks of order $1$ or $2$.\n",
    "\n",
    "Matrix $A \\in \\mathbb{C}^{n \\times n}$ is said to be $\\textbf{J-decomposable}$ if exist J-orthonormal matrix $V$ and upper triangular matrix $T$ such that \n",
    "\n",
    "\n",
    "$$A = V T V^{-1}.$$\n",
    "\n",
    "Matrix $A \\in \\mathbb{C}^{n \\times n}$ is said to have $\\textbf{pseudoschur J-decomposition}$ if exist J-orthonormal matrix $V$ and almost triangular matrix $T$ such that\n",
    "\n",
    "\n",
    "$$A = V T V^{-1}.$$\n",
    "\n",
    "This problem is to get familiar with the fact that two abovementioned decompositions exist not for any square matrix with complex entries.\n",
    "\n",
    "\n",
    "\n",
    "\n",
    "- (2 pts) $A$ has pseudoschur J-decomposition $A = V T V^{-1}, \\ \\text{where}\\ V = \\begin{bmatrix} v_1 & v_2 &  \\ldots & v_n \\end{bmatrix}, \\ T = \\begin{bmatrix} T_{ij} \\end{bmatrix}$ and $v_1$ is $\\textbf{not}$ an eigenvector of $A$. Show that $T_{21} \\ne 0$. \n",
    "\n",
    "\n",
    "\n",
    "- (5 pts) Given $J = \\text{diag}(1, -1)$ and $A = \\begin{bmatrix}\n",
    "3   \\ -1\\\\\n",
    "-1\\   \\ 3\\\\\n",
    "\\end{bmatrix}$, prove that $A$ is not J-decomposable.\n",
    "\n",
    "\n",
    "- (8 pts) Given that $A \\in \\mathbb{C}^{n \\times n}$ is diagonalizable, show that it has pseudoschur J-decomposition for any $J$ of form $J=\\text{diag}(\\pm 1, \\dots, \\pm 1)$.\n",
    "Note that in order to solve that subproblem you should firstly prove the following fact:\n",
    "\n",
    "Let $S \\in \\mathbb{C}^{m \\times n},\\ m \\ge n,\\ J = \\text{diag}(\\pm 1).$ If $A = S^{*}JS$ and $det(A) \\ne 0$, then exists QR decomposition of $S$ with respect to $J$: \n",
    "    $$S = P_1 QR P_2^{*} = P_1 Q \\begin{bmatrix} R_1 \\\\ 0 \\end{bmatrix} P_2^{*}, \\ Q^{*} J^{'}Q = J^{'}, \\ J^{'} = P_1^{*}JP_1,$$ where $P_1$ and $P_2$ are permutation matrices, $Q$ is called $J^{'}$- unitary and $R_1$ is almost triangular.\n"
   ]
  },
  {
   "cell_type": "markdown",
   "metadata": {
    "id": "lAR4dXMOOGI_"
   },
   "source": [
    "## 1.\n",
    "To rephrase the task, we need to show that the first block of $T$ is of order 2.\n"
   ]
  },
  {
   "cell_type": "markdown",
   "metadata": {
    "id": "LLg7orT7ZCXX"
   },
   "source": [
    "$AV = VT$, then \n",
    "\n",
    "$[Av_1 Av_2 ... Av_n] = [v_1 v_2 ... v_n] T$\n",
    "\n",
    "$Av_1 = v_1 [T_{11}, T_{12}]$\n",
    "\n",
    "Now, if $T_{12}$ is equal to zero, $v_1$ would just be scaled by a constant which would be $T_{11}$ and it would be\n",
    "\n",
    "$Av_1 = T_{11} v_1$, which would mean that $v_1$ is an eigenvector of $A$, but it isn't. Therefore, $T_{12}$ is not $0$."
   ]
  },
  {
   "cell_type": "markdown",
   "metadata": {
    "id": "2TIG1pEvbXuO"
   },
   "source": [
    "## 2."
   ]
  },
  {
   "cell_type": "markdown",
   "metadata": {
    "id": "FASRN_f_bY0l"
   },
   "source": [
    "Let $A = [v_1, v_2] \\times T \\times [v_1, v_2]^{-1}$\n",
    "\n",
    "In order for $v_2^* J v_1 = 0$ to be true, we need this inequality to hold:\n",
    "\n",
    "$+-\\frac{1}{v_{11}-v_{12}} \\neq v_2^*$"
   ]
  },
  {
   "cell_type": "markdown",
   "metadata": {
    "id": "herV0xZ3OGJB"
   },
   "source": [
    "## Problem 4. (Skeleton decomposition) 28 pts\n",
    "\n",
    "The application that we are particularly interested in is\n",
    "the approximation of a given matrix by a low-rank matrix:\n",
    "\n",
    "$$ A \\approx UV^T, A \\in \\mathbb{R}^{m \\times n}, U \\in \\mathbb{R}^{m \\times r}, V \\in \\mathbb{R}^{n \\times r}.$$\n",
    "\n",
    "It is well known that the best (in any unitary invariant norm) low-rank approximation can be computed via singular value decomposition (SVD). As an alternative, we can consider skeleton decompostion of the form:\n",
    "\n",
    "$$A \\approx A_r = A(: , \\mathcal{J})A(\\mathcal{I} , \\mathcal{J})^{-1}A(\\mathcal{I} , :),$$\n",
    "where $\\mathcal{I,J}$ are some index sets of length $r$."
   ]
  },
  {
   "cell_type": "markdown",
   "metadata": {
    "id": "fK7v5oD4d6zR"
   },
   "source": [
    "Below we consider the matrix $N \\times N$ derived from the following function discretization in the uniform grid in square $[0, 1] \\times [0, 1]$:\n",
    "$ f(x, y) = \\exp(-\\sqrt{x^2 + y^2})$.\n",
    "It means that $A = [a_{ij}]$, where $a_{ij} = f(x_i, x_j)$ and $x_i = i / (N-1)$, $x_j = j / (N-1)$, where $i, j = 0,\\ldots, N-1$.\n",
    "\n",
    "- (2 pts) compose this matrix for $N = 5000$ without loops (Hint: function ```np.meshgrid``` can help you)\n"
   ]
  },
  {
   "cell_type": "markdown",
   "metadata": {
    "id": "W6OvG8PJdenP"
   },
   "source": [
    "## 1."
   ]
  },
  {
   "cell_type": "code",
   "execution_count": 554,
   "metadata": {
    "colab": {
     "base_uri": "https://localhost:8080/",
     "height": 269
    },
    "id": "Utg0EvouBxGL",
    "outputId": "ab6bb8a7-cb2f-42b4-9dda-1c3fb7f45086"
   },
   "outputs": [
    {
     "data": {
      "image/png": "[encoded data removed]",
      "text/plain": [
       "<Figure size 432x288 with 1 Axes>"
      ]
     },
     "metadata": {
      "needs_background": "light",
      "tags": []
     },
     "output_type": "display_data"
    }
   ],
   "source": [
    "import numpy as np \n",
    "import matplotlib.pyplot as plt\n",
    "N = 5000\n",
    "\n",
    "x = np.linspace(0, N, N)\n",
    "y = np.linspace(0, N, N)\n",
    "xx, yy = np.meshgrid(x/(N-1), y/(N-1))\n",
    "z = np.exp(-np.sqrt(xx ** 2 + yy ** 2))\n",
    "h = plt.contourf(x,y,z)\n",
    "plt.show()"
   ]
  },
  {
   "cell_type": "markdown",
   "metadata": {
    "id": "Rj_OMuY7gvH9"
   },
   "source": [
    "- (3 pts) Compute Skeleton approximation with random selection of rows and columns indices for $r = 5$ (check that submatrix in the intersection of rows and columns is nonsingular). Average the relative error $\\frac{\\|A - A_r \\|_F}{\\|A\\|_F}$ over $M$ samples of column/row indices. Check that $M$ is sufficiently large to provide stable mean.\n",
    "\n",
    " Note: extracting submatrices should be done according to ```numpy```  e.g. ```A[index_set, :]``` to extract selected rows, ```A[:, index_set]``` to extract selected columns etc..\n"
   ]
  },
  {
   "cell_type": "markdown",
   "metadata": {
    "id": "FWyruGviEPDd"
   },
   "source": [
    "## 2."
   ]
  },
  {
   "cell_type": "code",
   "execution_count": 555,
   "metadata": {
    "id": "qP3u9mDNK6w6"
   },
   "outputs": [],
   "source": [
    "def skeleton_samples(A, r, n_samples, det_threshold=1e-100): # det_threshold is determinant border between singular and non-singular\n",
    "    errors = []\n",
    "    n_iterated = 0\n",
    "    while n_iterated < n_samples:\n",
    "        L0 = np.random.choice(A.shape[0] - 1, r)\n",
    "        J0 = np.random.choice(A.shape[0] - 1, r)\n",
    "        A_hat = A[L0, :][:, J0]\n",
    "        A_hat_det = np.linalg.det(A_hat)\n",
    "\n",
    "        if np.linalg.det(A_hat) <= det_threshold:\n",
    "            continue # considered singular -> skip\n",
    "\n",
    "        inv_A_hat = np.linalg.inv(A[L0, :][:, J0])\n",
    "        Ar = A[:, J0] @ inv_A_hat @ A[L0,:]\n",
    "        error = np.linalg.norm(A - Ar, ord='fro')/np.linalg.norm(A, ord='fro')\n",
    "        errors.append(error)\n",
    "        del Ar\n",
    "        del inv_A_hat \n",
    "        n_iterated += 1\n",
    "    return np.array(errors)"
   ]
  },
  {
   "cell_type": "code",
   "execution_count": 556,
   "metadata": {
    "id": "x9tKkFvjErKD"
   },
   "outputs": [],
   "source": [
    "samples = skeleton_samples(z, 5, 200)"
   ]
  },
  {
   "cell_type": "code",
   "execution_count": 557,
   "metadata": {
    "colab": {
     "base_uri": "https://localhost:8080/"
    },
    "id": "7Omi7RIGgtwt",
    "outputId": "46771040-9f16-4b87-af89-59bd5922ae6f"
   },
   "outputs": [
    {
     "data": {
      "text/plain": [
       "0.12237521659994778"
      ]
     },
     "execution_count": 557,
     "metadata": {
      "tags": []
     },
     "output_type": "execute_result"
    }
   ],
   "source": [
    "np.mean(samples)"
   ]
  },
  {
   "cell_type": "markdown",
   "metadata": {
    "id": "JSD0HhLkgwqG"
   },
   "source": [
    "The error seems large. But random picking is rarely a good idea for a stable algorithm, so no wonder. Let's discover further."
   ]
  },
  {
   "cell_type": "markdown",
   "metadata": {
    "id": "lwP2qdOCkTBo"
   },
   "source": [
    "As you should know from the lecture, if $A$ is of rank $r$ and $\\hat{A} = A(\\mathcal{I} , \\mathcal{J})$ is nonsingular, then the exact equality holds. In the approximate case, however, the quality of the approximation depends on the volume of the submatrix $\\hat{A}$: \n",
    "\n",
    "**Theorem**\n",
    "\n",
    "*If $\\hat{A} = A_{max}$ has maximal in modulus determinant among all $r \\times r$ submatrices of $A$, the following error etimate holds:*\n",
    "\n",
    "$$ \\|A - A_r\\|_1 \\leq (r+1)\\sigma_{r+1}.$$\n",
    "\n",
    "\n",
    "And the question is how to choose a good submatrix of nearly maximal volume in practice.\n",
    "\n",
    "**Definition**: *We call $r \\times r$ submatrix $A_{dom}$ of rectangular $n \\times r$ matrix $A$ of\n",
    "full rank dominant, if all the entries of $AA_{dom}^{-1}$ are not greater than $1$ in\n",
    "modulus.*\n",
    "\n",
    "The crucial theoretical result behind the scene is that the volume of any dominant submatrix $A_{dom}$ can not be very much smaller than the maximum volume submatrix $A_{max}$ (without proof).\n",
    "\n",
    "We provide the following algorithm for constructing dominant submatrix of a tall matrix.\n",
    "\n",
    "**Algorithm 1**: \n",
    "    \n",
    "Given matrix $A$ of size $n \\times r$ finds dominant submatrix of size $r \\times r$\n",
    "\n",
    "1. Start with arbitrary nonsingular $r \\times r$ submatrix $A_{dom}$. Reorder rows in $A$ so that $A_{dom}$ occupies first $r$ rows in $A$.\n",
    "\n",
    "2. Compute $B = AA_{dom}^{-1}$ and find its maximum in module  entry $b_{ij}$.\n",
    "\n",
    "3. **If $|b_{ij}| > 1 + \\delta$, then**:\n",
    "\n",
    "    Swap rows $i$ and $j$ in $B$ (accrodignly in A). By swapping the rows we have increased the volume of the upper submatrix in $B$, as well as in $A$ (why?). Let $A_{dom}$ be the new upper submatrix of $A$ and go to __step 1__.\n",
    "\n",
    "    **elseif $|b_{ij}| < 1 + \\delta$**:\n",
    "    \n",
    "    return $A_{dom}$.\n",
    "\n",
    "Note: $\\delta = 10^{-2}$ seems to be a good practical choice."
   ]
  },
  {
   "cell_type": "markdown",
   "metadata": {
    "id": "v68vVZrJnryX"
   },
   "source": [
    "- (10 pts) Implement algorithm 1 according to the following signature, where the function returns ```row_indices``` array which can be used as ```A[row_indices, :]``` to extract selected submatrix.\n",
    "\n",
    "Note that matrix inverse $A_{dom}^{-1}$ in step 3 has to be updated efficiently using [Shermann-Morison formula](https://en.wikipedia.org/wiki/Sherman%E2%80%93Morrison_formula) (inverse of rank-1 update)."
   ]
  },
  {
   "cell_type": "code",
   "execution_count": 616,
   "metadata": {
    "id": "YTSbyzAKkUEP"
   },
   "outputs": [],
   "source": [
    "def dominant_submatrix_search(A, delta=0.01, max_iter=5000):\n",
    "    A = A.copy()\n",
    "    A_initial = A.copy()\n",
    "    r = min(A.shape)\n",
    "    Adom = A[:r, :]\n",
    "    Adom_inv = np.linalg.inv(Adom)\n",
    "    i = 0\n",
    "    while True:\n",
    "        if i > max_iter:\n",
    "            return 0\n",
    "        B = A @ Adom_inv\n",
    "        b_max = abs(B).max()\n",
    "        if b_max > 1 + delta:\n",
    "            i, j = np.unravel_index(np.argmax(abs(B), axis=None), B.shape)     \n",
    "            u = np.zeros(r)\n",
    "            u[j] = 1\n",
    "            v = A[i, :] - A[j, :]\n",
    "\n",
    "            B[[i,j]] = B[[j,i]]\n",
    "            A[[i,j]] = A[[j,i]]\n",
    "\n",
    "            Adom_inv = Adom_inv - (Adom_inv @ np.outer(u, v.T) @ Adom_inv) / (1 + v.T @ Adom_inv @ u)\n",
    "            Adom = A[:r, :]\n",
    "            i += 1\n",
    "        else:\n",
    "            row_indices = []\n",
    "            for i in range(Adom.shape[0]):\n",
    "                for j in range(A_initial.shape[0]):\n",
    "                    if (A_initial[j] == Adom[i]).all():\n",
    "                        row_indices.append(j)\n",
    "                        continue\n",
    "            \n",
    "            return np.array(row_indices)"
   ]
  },
  {
   "cell_type": "code",
   "execution_count": 469,
   "metadata": {
    "id": "d_ytCD2nNz9B"
   },
   "outputs": [],
   "source": [
    "A = np.random.rand(5000, 10)"
   ]
  },
  {
   "cell_type": "code",
   "execution_count": 470,
   "metadata": {
    "id": "0DGuKmqLoUAi"
   },
   "outputs": [],
   "source": [
    "# check the convergence of your implementation on random data\n",
    "row = dominant_submatrix_search(A)"
   ]
  },
  {
   "cell_type": "code",
   "execution_count": 471,
   "metadata": {
    "colab": {
     "base_uri": "https://localhost:8080/"
    },
    "id": "CE7qZ365rtfF",
    "outputId": "9eb5cf30-1236-4ded-9d61-84662fcebc45"
   },
   "outputs": [
    {
     "data": {
      "text/plain": [
       "[0, 3745, 3417, 4161, 3964, 709, 4523, 4415, 1311, 4042]"
      ]
     },
     "execution_count": 471,
     "metadata": {
      "tags": []
     },
     "output_type": "execute_result"
    }
   ],
   "source": [
    "row"
   ]
  },
  {
   "cell_type": "code",
   "execution_count": 472,
   "metadata": {
    "colab": {
     "base_uri": "https://localhost:8080/"
    },
    "id": "rnjmg_MgZbOW",
    "outputId": "bc9e794c-41f6-4744-9c0b-b0ae351c98dc"
   },
   "outputs": [
    {
     "data": {
      "text/plain": [
       "1.0000000000000002"
      ]
     },
     "execution_count": 472,
     "metadata": {
      "tags": []
     },
     "output_type": "execute_result"
    }
   ],
   "source": [
    "abs(A @ np.linalg.inv(A[row])).max() # it works, all values are only slightly more than 1"
   ]
  },
  {
   "cell_type": "markdown",
   "metadata": {
    "id": "zVIzSkvaqwDm"
   },
   "source": [
    "- (10 pts) Propose the method to construct Skeleton approximation using Algorithm 1. The signature of the function is provided below.  Compare your algorithm with previously considered random selection on the matrix $A$.\n",
    "\n",
    "Hint: \n",
    "\n",
    "1) start with random selection of columns \n",
    "\n",
    "2) if you transpose the matrix for which you find rows, then Algorithm 1 will give you update for columns in the initial matrix"
   ]
  },
  {
   "cell_type": "code",
   "execution_count": 605,
   "metadata": {
    "id": "AbJRXIJNrbNz"
   },
   "outputs": [],
   "source": [
    "def choose_columns(A, r):\n",
    "  while True:\n",
    "    columns = np.random.choice(A.shape[1] - 1, r)\n",
    "    column_matrix = A[:, columns]\n",
    "    rank = np.linalg.matrix_rank(column_matrix.T)\n",
    "    if rank == r:\n",
    "        break\n",
    "  return column_matrix"
   ]
  },
  {
   "cell_type": "code",
   "execution_count": 624,
   "metadata": {
    "id": "VQqRwe2CGVdb"
   },
   "outputs": [],
   "source": [
    "def skeleton(A, r):\n",
    "    column_matrix = choose_columns(A, r)\n",
    "    basis_rows = dominant_submatrix_search(column_matrix)\n",
    "    R = A[basis_rows, :]\n",
    "    basis_cols = dominant_submatrix_search(R.T)\n",
    "\n",
    "    print(basis_cols.shape, basis_rows.shape)\n",
    "\n",
    "    return basis_rows, basis_cols"
   ]
  },
  {
   "cell_type": "code",
   "execution_count": 629,
   "metadata": {
    "id": "nn1MWR0VzEvY"
   },
   "outputs": [],
   "source": [
    "A = np.random.rand(15, 15)"
   ]
  },
  {
   "cell_type": "code",
   "execution_count": 630,
   "metadata": {
    "colab": {
     "base_uri": "https://localhost:8080/"
    },
    "id": "fXuJNJNTlwNb",
    "outputId": "374d38b4-2fdc-4be4-a6e3-e046abe2ef67"
   },
   "outputs": [
    {
     "name": "stdout",
     "output_type": "stream",
     "text": [
      "(5,) (5,)\n",
      "r = 5, error = 0.5001063249413307\n",
      "(6,) (6,)\n",
      "r = 6, error = 0.44894766888923066\n",
      "(7,) (7,)\n",
      "r = 7, error = 0.31378532161734435\n",
      "(8,) (8,)\n",
      "r = 8, error = 0.3443828452906633\n",
      "(9,) (9,)\n",
      "r = 9, error = 0.3007471400094385\n",
      "(10,) (10,)\n",
      "r = 10, error = 0.24449188275619593\n",
      "(11,) (11,)\n",
      "r = 11, error = 0.16824599684716038\n",
      "(12,) (12,)\n",
      "r = 12, error = 0.1559021472447601\n",
      "(13,) (13,)\n",
      "r = 13, error = 0.08080780452493176\n",
      "(14,) (14,)\n",
      "r = 14, error = 0.05460856493920317\n"
     ]
    }
   ],
   "source": [
    "for r in range(5, 15):\n",
    "    rows, cols = skeleton(A, r)\n",
    "    Ar = A[:, cols] @ np.linalg.inv(A[rows, :][:, cols]) @ A[rows, :]\n",
    "    print(f\"r = {r}, error = {np.linalg.norm(A - Ar, ord='fro')/np.linalg.norm(A, ord='fro')}\")"
   ]
  },
  {
   "cell_type": "markdown",
   "metadata": {
    "id": "KcwYJn6PTQO4"
   },
   "source": [
    "We approximated $N = 5000$ with $r = 5$ and the error was two times bigger than approximating $15 \\times 15$ matrix with $r = 14$. So we missteped somewhere. Tried to find some remedy [here](https://arxiv.org/pdf/1502.07838.pdf), but didn't manage to improve the algorithm."
   ]
  },
  {
   "cell_type": "markdown",
   "metadata": {
    "id": "hF8a5rTSs8Ie"
   },
   "source": [
    "- (3 pts) Compare your ```skeleton``` approximation algorithm with SVD and discuss its pros and cons."
   ]
  },
  {
   "cell_type": "code",
   "execution_count": 633,
   "metadata": {
    "colab": {
     "base_uri": "https://localhost:8080/"
    },
    "id": "Wu-A0uRFU4Ud",
    "outputId": "c2763ae9-ebb0-43e3-82d7-6e9ad2c6b726"
   },
   "outputs": [
    {
     "name": "stdout",
     "output_type": "stream",
     "text": [
      "The slowest run took 8.89 times longer than the fastest. This could mean that an intermediate result is being cached.\n",
      "10000 loops, best of 3: 121 µs per loop\n"
     ]
    }
   ],
   "source": [
    "%timeit np.linalg.svd(A)"
   ]
  },
  {
   "cell_type": "code",
   "execution_count": 634,
   "metadata": {
    "colab": {
     "base_uri": "https://localhost:8080/"
    },
    "id": "zptpL6R4U6pw",
    "outputId": "500d8408-5e05-4165-9b64-667fff46ef85"
   },
   "outputs": [
    {
     "name": "stdout",
     "output_type": "stream",
     "text": [
      "(13,) (13,)\n",
      "(13,) (13,)\n",
      "(13,) (13,)\n",
      "(13,) (13,)\n",
      "The slowest run took 31.82 times longer than the fastest. This could mean that an intermediate result is being cached.\n",
      "1 loop, best of 3: 67.1 ms per loop\n"
     ]
    }
   ],
   "source": [
    "%timeit skeleton(A, 13)"
   ]
  },
  {
   "cell_type": "code",
   "execution_count": 647,
   "metadata": {
    "colab": {
     "base_uri": "https://localhost:8080/"
    },
    "id": "6zPqBMDLVuhe",
    "outputId": "9ce6d6c0-e277-43d2-e171-5fc166ff35e9"
   },
   "outputs": [
    {
     "data": {
      "text/plain": [
       "0.024932314539841197"
      ]
     },
     "execution_count": 647,
     "metadata": {
      "tags": []
     },
     "output_type": "execute_result"
    }
   ],
   "source": [
    "u, s, v = np.linalg.svd(A)\n",
    "\n",
    "r = 13\n",
    "u1 = u[:, :r]\n",
    "s1 = s[:r]\n",
    "v1 = v[:r, :]\n",
    "a1 = u1.dot(np.diag(s1).dot(v1))\n",
    "np.linalg.norm(A - a1, 'fro')/np.linalg.norm(A, 'fro')"
   ]
  },
  {
   "cell_type": "markdown",
   "metadata": {
    "id": "prz22XRZVzIV"
   },
   "source": [
    "Well, seems like it's hard to compare my skeleton decomposition with SVD, because its error is quite high."
   ]
  }
 ],
 "metadata": {
  "colab": {
   "collapsed_sections": [],
   "name": "Homework_2_NLA.ipynb",
   "provenance": []
  },
  "kernelspec": {
   "display_name": "Python 3",
   "language": "python",
   "name": "python3"
  },
  "language_info": {
   "codemirror_mode": {
    "name": "ipython",
    "version": 3
   },
   "file_extension": ".py",
   "mimetype": "text/x-python",
   "name": "python",
   "nbconvert_exporter": "python",
   "pygments_lexer": "ipython3",
   "version": "3.7.4"
  },
  "widgets": {
   "application/vnd.jupyter.widget-state+json": {
    "0df1730812d942edb96c76fed0f0e5c5": {
     "model_module": "@jupyter-widgets/controls",
     "model_name": "FloatProgressModel",
     "state": {
      "_dom_classes": [],
      "_model_module": "@jupyter-widgets/controls",
      "_model_module_version": "1.5.0",
      "_model_name": "FloatProgressModel",
      "_view_count": null,
      "_view_module": "@jupyter-widgets/controls",
      "_view_module_version": "1.5.0",
      "_view_name": "ProgressView",
      "bar_style": "success",
      "description": "100%",
      "description_tooltip": null,
      "layout": "IPY_MODEL_74ba1df9ee50408b903fc9056c1a1150",
      "max": 23,
      "min": 0,
      "orientation": "horizontal",
      "style": "IPY_MODEL_86e8698d77ba43398326d042235132fb",
      "value": 23
     }
    },
    "0f638449fad94e24b2e038a48d8ed6c0": {
     "model_module": "@jupyter-widgets/controls",
     "model_name": "FloatProgressModel",
     "state": {
      "_dom_classes": [],
      "_model_module": "@jupyter-widgets/controls",
      "_model_module_version": "1.5.0",
      "_model_name": "FloatProgressModel",
      "_view_count": null,
      "_view_module": "@jupyter-widgets/controls",
      "_view_module_version": "1.5.0",
      "_view_name": "ProgressView",
      "bar_style": "success",
      "description": "100%",
      "description_tooltip": null,
      "layout": "IPY_MODEL_2fbc1e6925da4502988b0a116232e8e4",
      "max": 23,
      "min": 0,
      "orientation": "horizontal",
      "style": "IPY_MODEL_e0e98f233c094723ae5e770a0630035a",
      "value": 23
     }
    },
    "1d10358cf02c4413b24734feb4cbfbe2": {
     "model_module": "@jupyter-widgets/controls",
     "model_name": "ProgressStyleModel",
     "state": {
      "_model_module": "@jupyter-widgets/controls",
      "_model_module_version": "1.5.0",
      "_model_name": "ProgressStyleModel",
      "_view_count": null,
      "_view_module": "@jupyter-widgets/base",
      "_view_module_version": "1.2.0",
      "_view_name": "StyleView",
      "bar_color": null,
      "description_width": "initial"
     }
    },
    "24b7e8ec4bfc4e3e9998404fdbdc2708": {
     "model_module": "@jupyter-widgets/controls",
     "model_name": "HTMLModel",
     "state": {
      "_dom_classes": [],
      "_model_module": "@jupyter-widgets/controls",
      "_model_module_version": "1.5.0",
      "_model_name": "HTMLModel",
      "_view_count": null,
      "_view_module": "@jupyter-widgets/controls",
      "_view_module_version": "1.5.0",
      "_view_name": "HTMLView",
      "description": "",
      "description_tooltip": null,
      "layout": "IPY_MODEL_90fcc9f87fb84824a601b45e6d6ce15f",
      "placeholder": "​",
      "style": "IPY_MODEL_2fbdd14f2fa44d82a6203dc111596510",
      "value": " 23/23 [01:15&lt;00:00,  3.27s/it]"
     }
    },
    "2fbc1e6925da4502988b0a116232e8e4": {
     "model_module": "@jupyter-widgets/base",
     "model_name": "LayoutModel",
     "state": {
      "_model_module": "@jupyter-widgets/base",
      "_model_module_version": "1.2.0",
      "_model_name": "LayoutModel",
      "_view_count": null,
      "_view_module": "@jupyter-widgets/base",
      "_view_module_version": "1.2.0",
      "_view_name": "LayoutView",
      "align_content": null,
      "align_items": null,
      "align_self": null,
      "border": null,
      "bottom": null,
      "display": null,
      "flex": null,
      "flex_flow": null,
      "grid_area": null,
      "grid_auto_columns": null,
      "grid_auto_flow": null,
      "grid_auto_rows": null,
      "grid_column": null,
      "grid_gap": null,
      "grid_row": null,
      "grid_template_areas": null,
      "grid_template_columns": null,
      "grid_template_rows": null,
      "height": null,
      "justify_content": null,
      "justify_items": null,
      "left": null,
      "margin": null,
      "max_height": null,
      "max_width": null,
      "min_height": null,
      "min_width": null,
      "object_fit": null,
      "object_position": null,
      "order": null,
      "overflow": null,
      "overflow_x": null,
      "overflow_y": null,
      "padding": null,
      "right": null,
      "top": null,
      "visibility": null,
      "width": null
     }
    },
    "2fbdd14f2fa44d82a6203dc111596510": {
     "model_module": "@jupyter-widgets/controls",
     "model_name": "DescriptionStyleModel",
     "state": {
      "_model_module": "@jupyter-widgets/controls",
      "_model_module_version": "1.5.0",
      "_model_name": "DescriptionStyleModel",
      "_view_count": null,
      "_view_module": "@jupyter-widgets/base",
      "_view_module_version": "1.2.0",
      "_view_name": "StyleView",
      "description_width": ""
     }
    },
    "31cf0ee98db6450188a37dd6ac18e5c6": {
     "model_module": "@jupyter-widgets/base",
     "model_name": "LayoutModel",
     "state": {
      "_model_module": "@jupyter-widgets/base",
      "_model_module_version": "1.2.0",
      "_model_name": "LayoutModel",
      "_view_count": null,
      "_view_module": "@jupyter-widgets/base",
      "_view_module_version": "1.2.0",
      "_view_name": "LayoutView",
      "align_content": null,
      "align_items": null,
      "align_self": null,
      "border": null,
      "bottom": null,
      "display": null,
      "flex": null,
      "flex_flow": null,
      "grid_area": null,
      "grid_auto_columns": null,
      "grid_auto_flow": null,
      "grid_auto_rows": null,
      "grid_column": null,
      "grid_gap": null,
      "grid_row": null,
      "grid_template_areas": null,
      "grid_template_columns": null,
      "grid_template_rows": null,
      "height": null,
      "justify_content": null,
      "justify_items": null,
      "left": null,
      "margin": null,
      "max_height": null,
      "max_width": null,
      "min_height": null,
      "min_width": null,
      "object_fit": null,
      "object_position": null,
      "order": null,
      "overflow": null,
      "overflow_x": null,
      "overflow_y": null,
      "padding": null,
      "right": null,
      "top": null,
      "visibility": null,
      "width": null
     }
    },
    "4d6ad9a4079c40f3aca02ae16feaf5e0": {
     "model_module": "@jupyter-widgets/controls",
     "model_name": "HBoxModel",
     "state": {
      "_dom_classes": [],
      "_model_module": "@jupyter-widgets/controls",
      "_model_module_version": "1.5.0",
      "_model_name": "HBoxModel",
      "_view_count": null,
      "_view_module": "@jupyter-widgets/controls",
      "_view_module_version": "1.5.0",
      "_view_name": "HBoxView",
      "box_style": "",
      "children": [
       "IPY_MODEL_0f638449fad94e24b2e038a48d8ed6c0",
       "IPY_MODEL_e4280a66d61c4a33b8a315d339c31440"
      ],
      "layout": "IPY_MODEL_be281facc9d640bba19944ec5c07e5bc"
     }
    },
    "5950af17353a45348fdd3c1786884a16": {
     "model_module": "@jupyter-widgets/base",
     "model_name": "LayoutModel",
     "state": {
      "_model_module": "@jupyter-widgets/base",
      "_model_module_version": "1.2.0",
      "_model_name": "LayoutModel",
      "_view_count": null,
      "_view_module": "@jupyter-widgets/base",
      "_view_module_version": "1.2.0",
      "_view_name": "LayoutView",
      "align_content": null,
      "align_items": null,
      "align_self": null,
      "border": null,
      "bottom": null,
      "display": null,
      "flex": null,
      "flex_flow": null,
      "grid_area": null,
      "grid_auto_columns": null,
      "grid_auto_flow": null,
      "grid_auto_rows": null,
      "grid_column": null,
      "grid_gap": null,
      "grid_row": null,
      "grid_template_areas": null,
      "grid_template_columns": null,
      "grid_template_rows": null,
      "height": null,
      "justify_content": null,
      "justify_items": null,
      "left": null,
      "margin": null,
      "max_height": null,
      "max_width": null,
      "min_height": null,
      "min_width": null,
      "object_fit": null,
      "object_position": null,
      "order": null,
      "overflow": null,
      "overflow_x": null,
      "overflow_y": null,
      "padding": null,
      "right": null,
      "top": null,
      "visibility": null,
      "width": null
     }
    },
    "5c653588a2e44a41acf0bced585dfdf8": {
     "model_module": "@jupyter-widgets/base",
     "model_name": "LayoutModel",
     "state": {
      "_model_module": "@jupyter-widgets/base",
      "_model_module_version": "1.2.0",
      "_model_name": "LayoutModel",
      "_view_count": null,
      "_view_module": "@jupyter-widgets/base",
      "_view_module_version": "1.2.0",
      "_view_name": "LayoutView",
      "align_content": null,
      "align_items": null,
      "align_self": null,
      "border": null,
      "bottom": null,
      "display": null,
      "flex": null,
      "flex_flow": null,
      "grid_area": null,
      "grid_auto_columns": null,
      "grid_auto_flow": null,
      "grid_auto_rows": null,
      "grid_column": null,
      "grid_gap": null,
      "grid_row": null,
      "grid_template_areas": null,
      "grid_template_columns": null,
      "grid_template_rows": null,
      "height": null,
      "justify_content": null,
      "justify_items": null,
      "left": null,
      "margin": null,
      "max_height": null,
      "max_width": null,
      "min_height": null,
      "min_width": null,
      "object_fit": null,
      "object_position": null,
      "order": null,
      "overflow": null,
      "overflow_x": null,
      "overflow_y": null,
      "padding": null,
      "right": null,
      "top": null,
      "visibility": null,
      "width": null
     }
    },
    "5d4f6e262cc84a15b54e56bc28b5564f": {
     "model_module": "@jupyter-widgets/controls",
     "model_name": "FloatProgressModel",
     "state": {
      "_dom_classes": [],
      "_model_module": "@jupyter-widgets/controls",
      "_model_module_version": "1.5.0",
      "_model_name": "FloatProgressModel",
      "_view_count": null,
      "_view_module": "@jupyter-widgets/controls",
      "_view_module_version": "1.5.0",
      "_view_name": "ProgressView",
      "bar_style": "success",
      "description": "100%",
      "description_tooltip": null,
      "layout": "IPY_MODEL_5950af17353a45348fdd3c1786884a16",
      "max": 23,
      "min": 0,
      "orientation": "horizontal",
      "style": "IPY_MODEL_1d10358cf02c4413b24734feb4cbfbe2",
      "value": 23
     }
    },
    "74ba1df9ee50408b903fc9056c1a1150": {
     "model_module": "@jupyter-widgets/base",
     "model_name": "LayoutModel",
     "state": {
      "_model_module": "@jupyter-widgets/base",
      "_model_module_version": "1.2.0",
      "_model_name": "LayoutModel",
      "_view_count": null,
      "_view_module": "@jupyter-widgets/base",
      "_view_module_version": "1.2.0",
      "_view_name": "LayoutView",
      "align_content": null,
      "align_items": null,
      "align_self": null,
      "border": null,
      "bottom": null,
      "display": null,
      "flex": null,
      "flex_flow": null,
      "grid_area": null,
      "grid_auto_columns": null,
      "grid_auto_flow": null,
      "grid_auto_rows": null,
      "grid_column": null,
      "grid_gap": null,
      "grid_row": null,
      "grid_template_areas": null,
      "grid_template_columns": null,
      "grid_template_rows": null,
      "height": null,
      "justify_content": null,
      "justify_items": null,
      "left": null,
      "margin": null,
      "max_height": null,
      "max_width": null,
      "min_height": null,
      "min_width": null,
      "object_fit": null,
      "object_position": null,
      "order": null,
      "overflow": null,
      "overflow_x": null,
      "overflow_y": null,
      "padding": null,
      "right": null,
      "top": null,
      "visibility": null,
      "width": null
     }
    },
    "86e8698d77ba43398326d042235132fb": {
     "model_module": "@jupyter-widgets/controls",
     "model_name": "ProgressStyleModel",
     "state": {
      "_model_module": "@jupyter-widgets/controls",
      "_model_module_version": "1.5.0",
      "_model_name": "ProgressStyleModel",
      "_view_count": null,
      "_view_module": "@jupyter-widgets/base",
      "_view_module_version": "1.2.0",
      "_view_name": "StyleView",
      "bar_color": null,
      "description_width": "initial"
     }
    },
    "89a74f4e248b41469482e7c7d35bc2a8": {
     "model_module": "@jupyter-widgets/controls",
     "model_name": "HBoxModel",
     "state": {
      "_dom_classes": [],
      "_model_module": "@jupyter-widgets/controls",
      "_model_module_version": "1.5.0",
      "_model_name": "HBoxModel",
      "_view_count": null,
      "_view_module": "@jupyter-widgets/controls",
      "_view_module_version": "1.5.0",
      "_view_name": "HBoxView",
      "box_style": "",
      "children": [
       "IPY_MODEL_0df1730812d942edb96c76fed0f0e5c5",
       "IPY_MODEL_d75bd3e692ba4bd6b35c6546642e5914"
      ],
      "layout": "IPY_MODEL_a2e7ab47f52a4e7ebfe48d86cf5e7c73"
     }
    },
    "90fcc9f87fb84824a601b45e6d6ce15f": {
     "model_module": "@jupyter-widgets/base",
     "model_name": "LayoutModel",
     "state": {
      "_model_module": "@jupyter-widgets/base",
      "_model_module_version": "1.2.0",
      "_model_name": "LayoutModel",
      "_view_count": null,
      "_view_module": "@jupyter-widgets/base",
      "_view_module_version": "1.2.0",
      "_view_name": "LayoutView",
      "align_content": null,
      "align_items": null,
      "align_self": null,
      "border": null,
      "bottom": null,
      "display": null,
      "flex": null,
      "flex_flow": null,
      "grid_area": null,
      "grid_auto_columns": null,
      "grid_auto_flow": null,
      "grid_auto_rows": null,
      "grid_column": null,
      "grid_gap": null,
      "grid_row": null,
      "grid_template_areas": null,
      "grid_template_columns": null,
      "grid_template_rows": null,
      "height": null,
      "justify_content": null,
      "justify_items": null,
      "left": null,
      "margin": null,
      "max_height": null,
      "max_width": null,
      "min_height": null,
      "min_width": null,
      "object_fit": null,
      "object_position": null,
      "order": null,
      "overflow": null,
      "overflow_x": null,
      "overflow_y": null,
      "padding": null,
      "right": null,
      "top": null,
      "visibility": null,
      "width": null
     }
    },
    "9640f2dfa71843d98530f123a7047020": {
     "model_module": "@jupyter-widgets/base",
     "model_name": "LayoutModel",
     "state": {
      "_model_module": "@jupyter-widgets/base",
      "_model_module_version": "1.2.0",
      "_model_name": "LayoutModel",
      "_view_count": null,
      "_view_module": "@jupyter-widgets/base",
      "_view_module_version": "1.2.0",
      "_view_name": "LayoutView",
      "align_content": null,
      "align_items": null,
      "align_self": null,
      "border": null,
      "bottom": null,
      "display": null,
      "flex": null,
      "flex_flow": null,
      "grid_area": null,
      "grid_auto_columns": null,
      "grid_auto_flow": null,
      "grid_auto_rows": null,
      "grid_column": null,
      "grid_gap": null,
      "grid_row": null,
      "grid_template_areas": null,
      "grid_template_columns": null,
      "grid_template_rows": null,
      "height": null,
      "justify_content": null,
      "justify_items": null,
      "left": null,
      "margin": null,
      "max_height": null,
      "max_width": null,
      "min_height": null,
      "min_width": null,
      "object_fit": null,
      "object_position": null,
      "order": null,
      "overflow": null,
      "overflow_x": null,
      "overflow_y": null,
      "padding": null,
      "right": null,
      "top": null,
      "visibility": null,
      "width": null
     }
    },
    "a2e7ab47f52a4e7ebfe48d86cf5e7c73": {
     "model_module": "@jupyter-widgets/base",
     "model_name": "LayoutModel",
     "state": {
      "_model_module": "@jupyter-widgets/base",
      "_model_module_version": "1.2.0",
      "_model_name": "LayoutModel",
      "_view_count": null,
      "_view_module": "@jupyter-widgets/base",
      "_view_module_version": "1.2.0",
      "_view_name": "LayoutView",
      "align_content": null,
      "align_items": null,
      "align_self": null,
      "border": null,
      "bottom": null,
      "display": null,
      "flex": null,
      "flex_flow": null,
      "grid_area": null,
      "grid_auto_columns": null,
      "grid_auto_flow": null,
      "grid_auto_rows": null,
      "grid_column": null,
      "grid_gap": null,
      "grid_row": null,
      "grid_template_areas": null,
      "grid_template_columns": null,
      "grid_template_rows": null,
      "height": null,
      "justify_content": null,
      "justify_items": null,
      "left": null,
      "margin": null,
      "max_height": null,
      "max_width": null,
      "min_height": null,
      "min_width": null,
      "object_fit": null,
      "object_position": null,
      "order": null,
      "overflow": null,
      "overflow_x": null,
      "overflow_y": null,
      "padding": null,
      "right": null,
      "top": null,
      "visibility": null,
      "width": null
     }
    },
    "b9bec5c6198442cdb1a1e070bf008bda": {
     "model_module": "@jupyter-widgets/controls",
     "model_name": "HBoxModel",
     "state": {
      "_dom_classes": [],
      "_model_module": "@jupyter-widgets/controls",
      "_model_module_version": "1.5.0",
      "_model_name": "HBoxModel",
      "_view_count": null,
      "_view_module": "@jupyter-widgets/controls",
      "_view_module_version": "1.5.0",
      "_view_name": "HBoxView",
      "box_style": "",
      "children": [
       "IPY_MODEL_5d4f6e262cc84a15b54e56bc28b5564f",
       "IPY_MODEL_24b7e8ec4bfc4e3e9998404fdbdc2708"
      ],
      "layout": "IPY_MODEL_5c653588a2e44a41acf0bced585dfdf8"
     }
    },
    "be281facc9d640bba19944ec5c07e5bc": {
     "model_module": "@jupyter-widgets/base",
     "model_name": "LayoutModel",
     "state": {
      "_model_module": "@jupyter-widgets/base",
      "_model_module_version": "1.2.0",
      "_model_name": "LayoutModel",
      "_view_count": null,
      "_view_module": "@jupyter-widgets/base",
      "_view_module_version": "1.2.0",
      "_view_name": "LayoutView",
      "align_content": null,
      "align_items": null,
      "align_self": null,
      "border": null,
      "bottom": null,
      "display": null,
      "flex": null,
      "flex_flow": null,
      "grid_area": null,
      "grid_auto_columns": null,
      "grid_auto_flow": null,
      "grid_auto_rows": null,
      "grid_column": null,
      "grid_gap": null,
      "grid_row": null,
      "grid_template_areas": null,
      "grid_template_columns": null,
      "grid_template_rows": null,
      "height": null,
      "justify_content": null,
      "justify_items": null,
      "left": null,
      "margin": null,
      "max_height": null,
      "max_width": null,
      "min_height": null,
      "min_width": null,
      "object_fit": null,
      "object_position": null,
      "order": null,
      "overflow": null,
      "overflow_x": null,
      "overflow_y": null,
      "padding": null,
      "right": null,
      "top": null,
      "visibility": null,
      "width": null
     }
    },
    "d75bd3e692ba4bd6b35c6546642e5914": {
     "model_module": "@jupyter-widgets/controls",
     "model_name": "HTMLModel",
     "state": {
      "_dom_classes": [],
      "_model_module": "@jupyter-widgets/controls",
      "_model_module_version": "1.5.0",
      "_model_name": "HTMLModel",
      "_view_count": null,
      "_view_module": "@jupyter-widgets/controls",
      "_view_module_version": "1.5.0",
      "_view_name": "HTMLView",
      "description": "",
      "description_tooltip": null,
      "layout": "IPY_MODEL_9640f2dfa71843d98530f123a7047020",
      "placeholder": "​",
      "style": "IPY_MODEL_e5dbd70dc3304503bc887956898164af",
      "value": " 23/23 [03:15&lt;00:00,  8.49s/it]"
     }
    },
    "e0e98f233c094723ae5e770a0630035a": {
     "model_module": "@jupyter-widgets/controls",
     "model_name": "ProgressStyleModel",
     "state": {
      "_model_module": "@jupyter-widgets/controls",
      "_model_module_version": "1.5.0",
      "_model_name": "ProgressStyleModel",
      "_view_count": null,
      "_view_module": "@jupyter-widgets/base",
      "_view_module_version": "1.2.0",
      "_view_name": "StyleView",
      "bar_color": null,
      "description_width": "initial"
     }
    },
    "e4280a66d61c4a33b8a315d339c31440": {
     "model_module": "@jupyter-widgets/controls",
     "model_name": "HTMLModel",
     "state": {
      "_dom_classes": [],
      "_model_module": "@jupyter-widgets/controls",
      "_model_module_version": "1.5.0",
      "_model_name": "HTMLModel",
      "_view_count": null,
      "_view_module": "@jupyter-widgets/controls",
      "_view_module_version": "1.5.0",
      "_view_name": "HTMLView",
      "description": "",
      "description_tooltip": null,
      "layout": "IPY_MODEL_31cf0ee98db6450188a37dd6ac18e5c6",
      "placeholder": "​",
      "style": "IPY_MODEL_e8712da7e8f645f5af765a7d47af4da4",
      "value": " 23/23 [02:37&lt;00:00,  6.85s/it]"
     }
    },
    "e5dbd70dc3304503bc887956898164af": {
     "model_module": "@jupyter-widgets/controls",
     "model_name": "DescriptionStyleModel",
     "state": {
      "_model_module": "@jupyter-widgets/controls",
      "_model_module_version": "1.5.0",
      "_model_name": "DescriptionStyleModel",
      "_view_count": null,
      "_view_module": "@jupyter-widgets/base",
      "_view_module_version": "1.2.0",
      "_view_name": "StyleView",
      "description_width": ""
     }
    },
    "e8712da7e8f645f5af765a7d47af4da4": {
     "model_module": "@jupyter-widgets/controls",
     "model_name": "DescriptionStyleModel",
     "state": {
      "_model_module": "@jupyter-widgets/controls",
      "_model_module_version": "1.5.0",
      "_model_name": "DescriptionStyleModel",
      "_view_count": null,
      "_view_module": "@jupyter-widgets/base",
      "_view_module_version": "1.2.0",
      "_view_name": "StyleView",
      "description_width": ""
     }
    }
   }
  }
 },
 "nbformat": 4,
 "nbformat_minor": 1
}
